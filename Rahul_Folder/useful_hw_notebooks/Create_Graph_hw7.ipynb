{
 "cells": [
  {
   "cell_type": "code",
   "execution_count": 114,
   "metadata": {},
   "outputs": [],
   "source": [
    "from rdflib import Graph, URIRef, Literal, Namespace, RDF, RDFS, XSD, BNode"
   ]
  },
  {
   "cell_type": "code",
   "execution_count": 115,
   "metadata": {},
   "outputs": [],
   "source": [
    "DCT = Namespace('http://purl.org/dc/terms/')\n",
    "DBPEDIA_RESOURCE = Namespace(\"http://dbpedia.org/resource/\")\n",
    "DBPEDIA_PAGE = Namespace(\"http://dbpedia.org/page/\")\n",
    "QB = Namespace(\"http://purl.org/linked-data/cube#\")\n",
    "SDMX_CONCEPT = Namespace(\"http://purl.org/linked-data/sdmx/2009/concept#\")\n",
    "SDMX_DIMENSION = Namespace(\"http://purl.org/linked-data/sdmx/2009/dimension#\")\n",
    "SDMX_MEASURE = Namespace(\"http://purl.org/linked-data/sdmx/2009/measure#\")\n",
    "MYNS = Namespace('http://dsci558.org/myfakenamespace#')\n",
    "INTERVAL = Namespace(\"http://reference.data.gov.uk/def/intervals/\")\n",
    "SCHEMA = Namespace('http://schema.org/')"
   ]
  },
  {
   "cell_type": "code",
   "execution_count": 116,
   "metadata": {},
   "outputs": [],
   "source": [
    "g = Graph()"
   ]
  },
  {
   "cell_type": "code",
   "execution_count": 117,
   "metadata": {},
   "outputs": [],
   "source": [
    "g.bind(\"rdf\", RDF)\n",
    "g.bind(\"rdfs\", RDFS)\n",
    "g.bind(\"dct\", DCT)\n",
    "g.bind(\"dbpedia-resource\", DBPEDIA_RESOURCE)\n",
    "g.bind(\"dbpedia-page\", DBPEDIA_PAGE)\n",
    "g.bind(\"qb\", QB)\n",
    "g.bind(\"xsd\", XSD)\n",
    "g.bind(\"sdmx-concept\", SDMX_CONCEPT)\n",
    "g.bind(\"sdmx-dimension\", SDMX_DIMENSION)\n",
    "g.bind(\"sdmx-measure\", SDMX_MEASURE)\n",
    "g.bind(\"my_ns\", MYNS)\n",
    "g.bind(\"interval\", INTERVAL)\n",
    "g.bind(\"schema\", SCHEMA)"
   ]
  },
  {
   "cell_type": "code",
   "execution_count": 118,
   "metadata": {},
   "outputs": [],
   "source": [
    "import csv"
   ]
  },
  {
   "cell_type": "code",
   "execution_count": 119,
   "metadata": {},
   "outputs": [],
   "source": [
    "rows = []\n",
    "with open(\"../../hw7/Homework07/world-development-indicators.csv\") as f:\n",
    "    reader = csv.DictReader(f)\n",
    "    for row in reader:\n",
    "        rows.append(row)\n",
    "        "
   ]
  },
  {
   "cell_type": "code",
   "execution_count": 120,
   "metadata": {},
   "outputs": [
    {
     "data": {
      "text/plain": [
       "['\\ufeffSeries Name',\n",
       " 'Series Code',\n",
       " 'Country Name',\n",
       " 'Country Code',\n",
       " '1960 [YR1960]',\n",
       " '1961 [YR1961]',\n",
       " '1962 [YR1962]',\n",
       " '1963 [YR1963]',\n",
       " '1964 [YR1964]',\n",
       " '1965 [YR1965]']"
      ]
     },
     "execution_count": 120,
     "metadata": {},
     "output_type": "execute_result"
    }
   ],
   "source": [
    "list(rows[1])[:10]"
   ]
  },
  {
   "cell_type": "code",
   "execution_count": null,
   "metadata": {},
   "outputs": [],
   "source": []
  },
  {
   "cell_type": "code",
   "execution_count": 121,
   "metadata": {},
   "outputs": [],
   "source": [
    "node_uri = URIRef(MYNS['measure_femalePopulation'])\n",
    "g.add((node_uri, RDF.type, RDF.Property))\n",
    "g.add((node_uri, RDF.type, QB.MeasureProperty))\n",
    "g.add((node_uri, RDFS.label, Literal(\"female population percentage\", lang=\"en\")))\n",
    "g.add((node_uri, RDFS.subPropertyOf, SDMX_MEASURE.obsValue))\n",
    "g.add((node_uri, RDFS.range, DBPEDIA_PAGE.Percentage))\n",
    "\n",
    "measure_female = BNode()\n",
    "g.add((measure_female, QB.measure, node_uri))\n",
    "\n",
    "node_uri = URIRef(MYNS['measure_malePopulation'])\n",
    "g.add((node_uri, RDF.type, RDF.Property))\n",
    "g.add((node_uri, RDF.type, QB.MeasureProperty))\n",
    "g.add((node_uri, RDFS.label, Literal(\"male population percentage\", lang=\"en\")))\n",
    "g.add((node_uri, RDFS.subPropertyOf, SDMX_MEASURE.obsValue))\n",
    "g.add((node_uri, RDFS.range, DBPEDIA_PAGE.Percentage))\n",
    "\n",
    "measure_male = BNode()\n",
    "g.add((measure_male, QB.measure, node_uri))\n",
    "\n",
    "node_uri = URIRef(MYNS['measure_population'])\n",
    "g.add((node_uri, RDF.type, RDF.Property))\n",
    "g.add((node_uri, RDF.type, QB.MeasureProperty))\n",
    "g.add((node_uri, RDFS.label, Literal(\"population count\", lang=\"en\")))\n",
    "g.add((node_uri, RDFS.subPropertyOf, SDMX_MEASURE.obsValue))\n",
    "g.add((node_uri, RDFS.range, DBPEDIA_RESOURCE.Person))\n",
    "\n",
    "measure_population = BNode()\n",
    "g.add((measure_population, QB.measure, node_uri))\n",
    "\n",
    "\n",
    "node_uri = URIRef(MYNS['country'])\n",
    "g.add((node_uri, RDF.type, SCHEMA.Class))\n",
    "g.add((node_uri, RDFS.label, XSD.string))\n",
    "\n",
    "node_uri = URIRef(MYNS['refArea'])\n",
    "g.add((node_uri, RDF.type, RDF.Property))\n",
    "g.add((node_uri, RDF.type, QB.DimensionProperty))\n",
    "g.add((node_uri, RDFS.label, Literal(\"reference area\", lang=\"en\")))\n",
    "g.add((node_uri, RDFS.range, MYNS.country))\n",
    "g.add((node_uri, QB.concept, SDMX_CONCEPT.refArea))\n",
    "\n",
    "refPeriod = BNode()\n",
    "g.add((refPeriod, QB.dimension, node_uri))\n",
    "g.add((refPeriod, QB.order, Literal(2)))\n",
    "\n",
    "node_uri = URIRef(MYNS['refPeriod'])\n",
    "g.add((node_uri, RDF.type, RDF.Property))\n",
    "g.add((node_uri, RDF.type, QB.DimensionProperty))\n",
    "g.add((node_uri, RDFS.label, Literal(\"reference period\", lang=\"en\")))\n",
    "g.add((node_uri, RDFS.range, INTERVAL.Interval))\n",
    "g.add((node_uri, QB.concept, SDMX_CONCEPT.refPeriod))\n",
    "\n",
    "refArea = BNode()\n",
    "g.add((refArea, QB.dimension, node_uri))\n",
    "g.add((refArea, QB.order, Literal(1)))\n",
    "\n",
    "node_uri = URIRef(MYNS['datastructure'])\n",
    "g.add((node_uri, RDF.type, QB.DataStructureDefinition))\n",
    "g.add((node_uri, QB.component, refArea))\n",
    "g.add((node_uri, QB.component, refPeriod))\n",
    "g.add((node_uri, QB.component, measure_female))\n",
    "g.add((node_uri, QB.component, measure_male))\n",
    "g.add((node_uri, QB.component, measure_population))\n",
    "\n",
    "\n",
    "node_uri = URIRef(MYNS['dataset'])\n",
    "g.add((node_uri, RDF.type, QB.DataSet))\n",
    "g.add((node_uri, DCT.title, Literal(\"Country Population Statistics\", lang=\"en\")))\n",
    "g.add((node_uri, RDFS.label, Literal(\"Country Population Statistics\", lang=\"en\")))\n",
    "g.add((node_uri, QB.structure, MYNS.datastructure))"
   ]
  },
  {
   "cell_type": "code",
   "execution_count": 122,
   "metadata": {},
   "outputs": [
    {
     "data": {
      "text/plain": [
       "[('\\ufeffSeries Name', 'Population, total'),\n",
       " ('Series Code', 'SP.POP.TOTL'),\n",
       " ('Country Name', 'Albania'),\n",
       " ('Country Code', 'ALB'),\n",
       " ('1960 [YR1960]', '1608800'),\n",
       " ('1961 [YR1961]', '1659800'),\n",
       " ('1962 [YR1962]', '1711319'),\n",
       " ('1963 [YR1963]', '1762621'),\n",
       " ('1964 [YR1964]', '1814135'),\n",
       " ('1965 [YR1965]', '1864791')]"
      ]
     },
     "execution_count": 122,
     "metadata": {},
     "output_type": "execute_result"
    }
   ],
   "source": [
    "list(rows[1].items())[:10]"
   ]
  },
  {
   "cell_type": "code",
   "execution_count": 123,
   "metadata": {},
   "outputs": [],
   "source": [
    "# eg:obs1a  a qb:Observation;\n",
    "#     qb:dataSet eg:dataset1;\n",
    "#     sdmx-dimension:refTime \"2010-07-30\"^^xsd:date;\n",
    "#     eg-measure:weight 1.3 ;\n",
    "#     eg-measure:quantity 42 ;\n",
    "#     . "
   ]
  },
  {
   "cell_type": "code",
   "execution_count": 124,
   "metadata": {},
   "outputs": [],
   "source": [
    "# eg:o13 a qb:Observation;\n",
    "#     qb:dataSet  eg:dataset-le3 ;\n",
    "#     eg:refArea                 ex-geo:monmouthshire_00pp ;                  \n",
    "#     eg:lifeExpectancy          76.6 ;\n",
    "#     ."
   ]
  },
  {
   "cell_type": "code",
   "execution_count": 125,
   "metadata": {},
   "outputs": [],
   "source": [
    "# g.serialize('blah.ttl', format=\"turtle\")"
   ]
  },
  {
   "cell_type": "code",
   "execution_count": 126,
   "metadata": {},
   "outputs": [],
   "source": [
    "def create_key_from_name(name):\n",
    "    return \"-\".join(name.split())"
   ]
  },
  {
   "cell_type": "code",
   "execution_count": 127,
   "metadata": {},
   "outputs": [],
   "source": [
    "country_nodes = {}\n",
    "country_year_nodes = {}\n",
    "for i, row in enumerate(rows):\n",
    "    country_name = row[\"Country Name\"]\n",
    "    if len(country_name):\n",
    "        country_key = create_key_from_name(country_name)\n",
    "        if country_key not in country_nodes:\n",
    "            node_uri = URIRef(MYNS[country_key])\n",
    "            g.add((node_uri, RDF.type, MYNS.country))\n",
    "            g.add((node_uri, RDFS.label, Literal(country_name)))\n",
    "            country_nodes[country_key] = node_uri\n",
    "\n",
    "        country_node = country_nodes[country_key]\n",
    "\n",
    "        measure = row['Series Code']\n",
    "        if measure == \"SP.POP.TOTL\":\n",
    "            measure_node = MYNS.measure_population\n",
    "        elif measure == \"SP.POP.TOTL.FE.ZS\":\n",
    "            measure_node = MYNS.measure_femalePopulation\n",
    "        else:\n",
    "            measure_node = MYNS.measure_malePopulation\n",
    "\n",
    "        for j, entry in enumerate(list(row.items())[4:]):\n",
    "            year = str(entry[0].split(\" [\")[0])\n",
    "            value = entry[1]\n",
    "            try:\n",
    "                float_value = float(value)\n",
    "            except:\n",
    "                continue\n",
    "\n",
    "            uri = country_key + \"-\" + year\n",
    "            if uri not in country_year_nodes:\n",
    "                node_uri = URIRef(MYNS[uri])\n",
    "                g.add((node_uri, RDF.type, QB.Observation))\n",
    "                g.add((node_uri, QB.dataSet, MYNS.dataset))\n",
    "                g.add((node_uri, MYNS.refArea, country_node))\n",
    "                date_string = \"http://reference.data.gov.uk/id/gregorian-interval/{}-01-01T00:00:00/P3Y\".format(year)\n",
    "                date_node_uri = URIRef(date_string)\n",
    "                g.add((node_uri, MYNS.refPeriod, date_node_uri))\n",
    "                country_year_nodes[uri] = node_uri\n",
    "\n",
    "            node_uri = country_year_nodes[uri]\n",
    "\n",
    "            if measure_node == MYNS.measure_population:\n",
    "                value = int(value)\n",
    "            else:\n",
    "                value = float(value)\n",
    "\n",
    "            g.add((node_uri, measure_node, Literal(value)))\n"
   ]
  },
  {
   "cell_type": "code",
   "execution_count": null,
   "metadata": {},
   "outputs": [],
   "source": []
  },
  {
   "cell_type": "code",
   "execution_count": null,
   "metadata": {},
   "outputs": [],
   "source": []
  },
  {
   "cell_type": "code",
   "execution_count": 128,
   "metadata": {},
   "outputs": [],
   "source": [
    "g.serialize('world_bank_data.ttl', format=\"turtle\")"
   ]
  },
  {
   "cell_type": "code",
   "execution_count": null,
   "metadata": {},
   "outputs": [],
   "source": []
  }
 ],
 "metadata": {
  "kernelspec": {
   "display_name": "Python 3",
   "language": "python",
   "name": "python3"
  },
  "language_info": {
   "codemirror_mode": {
    "name": "ipython",
    "version": 3
   },
   "file_extension": ".py",
   "mimetype": "text/x-python",
   "name": "python",
   "nbconvert_exporter": "python",
   "pygments_lexer": "ipython3",
   "version": "3.6.5"
  }
 },
 "nbformat": 4,
 "nbformat_minor": 4
}
