{
 "cells": [
  {
   "cell_type": "code",
   "execution_count": 198,
   "metadata": {},
   "outputs": [],
   "source": [
    "from rdflib import Graph, URIRef, Literal, Namespace, RDF, RDFS, XSD, FOAF, BNode"
   ]
  },
  {
   "cell_type": "code",
   "execution_count": 199,
   "metadata": {},
   "outputs": [],
   "source": [
    "SCHEMA = Namespace('http://schema.org/')\n",
    "MYNS = Namespace('http://dsci558.org/rahulKhannaFakeNamespace/')"
   ]
  },
  {
   "cell_type": "code",
   "execution_count": 200,
   "metadata": {},
   "outputs": [],
   "source": [
    "g = Graph()"
   ]
  },
  {
   "cell_type": "code",
   "execution_count": 201,
   "metadata": {},
   "outputs": [],
   "source": [
    "g.bind(\"rdf\", RDF)\n",
    "g.bind(\"rdfs\", RDFS)\n",
    "g.bind(\"xsd\", XSD)\n",
    "g.bind(\"foaf\", FOAF)\n",
    "g.bind(\"schema\", SCHEMA)\n",
    "g.bind(\"myns\", MYNS)"
   ]
  },
  {
   "cell_type": "code",
   "execution_count": 151,
   "metadata": {},
   "outputs": [],
   "source": [
    "import json\n",
    "import ujson"
   ]
  },
  {
   "cell_type": "code",
   "execution_count": 152,
   "metadata": {},
   "outputs": [],
   "source": [
    "with open(\"Rahul_Khanna_hw03_imdb_afi_el.json\")  as f:\n",
    "    joined_data = json.load(f)"
   ]
  },
  {
   "cell_type": "code",
   "execution_count": 153,
   "metadata": {},
   "outputs": [],
   "source": [
    "def deserialize_jl(input_file):\n",
    "    with open(input_file, \"r\") as f:\n",
    "        return [ujson.loads(s) for s in f if s != \"\\n\"]"
   ]
  },
  {
   "cell_type": "code",
   "execution_count": 154,
   "metadata": {},
   "outputs": [],
   "source": [
    "imdb_data = deserialize_jl(\"imdb.jl\")"
   ]
  },
  {
   "cell_type": "code",
   "execution_count": 155,
   "metadata": {},
   "outputs": [],
   "source": [
    "afi_data = deserialize_jl(\"afi.jl\")"
   ]
  },
  {
   "cell_type": "code",
   "execution_count": 156,
   "metadata": {},
   "outputs": [],
   "source": [
    "key_afi_data = {}\n",
    "for entry in afi_data:\n",
    "    key_afi_data[entry[\"url\"]] = entry\n",
    "del afi_data"
   ]
  },
  {
   "cell_type": "code",
   "execution_count": 157,
   "metadata": {},
   "outputs": [],
   "source": [
    "key_imdb_data = {}\n",
    "for entry in imdb_data:\n",
    "    key_imdb_data[entry[\"url\"]] = entry\n",
    "del imdb_data"
   ]
  },
  {
   "cell_type": "code",
   "execution_count": 202,
   "metadata": {},
   "outputs": [],
   "source": [
    "node_uri = URIRef(MYNS['ProductionCompany'])\n",
    "g.add((node_uri, RDF.type, SCHEMA.Class))\n",
    "g.add((node_uri, RDFS.subClassOf, SCHEMA.Organization))\n",
    "g.add((node_uri, SCHEMA.name, XSD.string))\n",
    "\n",
    "node_uri = URIRef(MYNS['Genre'])\n",
    "g.add((node_uri, RDF.type, SCHEMA.Class))\n",
    "g.add((node_uri, SCHEMA.name, XSD.string))\n",
    "\n",
    "node_uri = URIRef(MYNS['imdbAggRating'])\n",
    "g.add((node_uri, RDF.type, RDF.Property))\n",
    "g.add((node_uri, RDFS.domain, MYNS.Movie))\n",
    "g.add((node_uri, RDFS.range, SCHEMA.AggregateRating))\n",
    "\n",
    "node_uri = URIRef(MYNS['imdbMetascore'])\n",
    "g.add((node_uri, RDF.type, RDF.Property))\n",
    "g.add((node_uri, RDFS.domain, MYNS.Movie))\n",
    "g.add((node_uri, RDFS.range, XSD.int))\n",
    "\n",
    "node_uri = URIRef(MYNS['grossIncome'])\n",
    "g.add((node_uri, RDF.type, RDF.Property))\n",
    "g.add((node_uri, RDFS.domain, MYNS.Movie))\n",
    "g.add((node_uri, RDFS.range, XSD.float))\n",
    "\n",
    "node_uri = URIRef(MYNS['cinematographer'])\n",
    "g.add((node_uri, RDF.type, RDF.Property))\n",
    "g.add((node_uri, RDFS.domain, MYNS.Movie))\n",
    "g.add((node_uri, RDFS.range, SCHEMA.Person))\n",
    "\n",
    "node_uri = URIRef(MYNS['yearPublished'])\n",
    "g.add((node_uri, RDF.type, RDF.Property))\n",
    "g.add((node_uri, RDFS.domain, MYNS.Movie))\n",
    "g.add((node_uri, RDFS.range, XSD.string))\n",
    "\n",
    "node_uri = URIRef(MYNS['movieGenre'])\n",
    "g.add((node_uri, RDF.type, RDF.Property))\n",
    "g.add((node_uri, RDFS.domain, MYNS.Movie))\n",
    "g.add((node_uri, RDFS.range, MYNS.Genre))\n",
    "\n",
    "node_uri = URIRef(MYNS['Movie'])\n",
    "g.add((node_uri, RDF.type, SCHEMA.Class))\n",
    "g.add((node_uri, RDFS.subClassOf, SCHEMA.Movie))\n",
    "g.add((node_uri, SCHEMA.productionCompany, MYNS.Production_company))\n",
    "g.add((node_uri, SCHEMA.datePublished, SCHEMA.date))\n",
    "g.add((node_uri, MYNS.year_published, XSD.string))\n",
    "g.add((node_uri, MYNS.movie_genre, MYNS.Genre))\n",
    "g.add((node_uri, SCHEMA.name, XSD.string))\n",
    "g.add((node_uri, SCHEMA.contentRating, XSD.string))\n",
    "g.add((node_uri, SCHEMA.duration, XSD.duration))\n",
    "g.add((node_uri, MYNS.imdb_agg_rating, SCHEMA.AggregateRating))\n",
    "g.add((node_uri, MYNS.imdb_metascore, XSD.int))\n",
    "g.add((node_uri, MYNS.gross_income, XSD.float))\n",
    "g.add((node_uri, SCHEMA.producer, SCHEMA.Person))\n",
    "g.add((node_uri, SCHEMA.author, SCHEMA.Person))\n",
    "g.add((node_uri, MYNS.cinematographer, SCHEMA.Person))"
   ]
  },
  {
   "cell_type": "code",
   "execution_count": 180,
   "metadata": {},
   "outputs": [],
   "source": [
    "from dateutil import parser\n",
    "import datetime"
   ]
  },
  {
   "cell_type": "code",
   "execution_count": 160,
   "metadata": {},
   "outputs": [],
   "source": [
    "g.serialize('blah.ttl', format=\"turtle\")"
   ]
  },
  {
   "cell_type": "code",
   "execution_count": 161,
   "metadata": {},
   "outputs": [],
   "source": [
    "# g = Graph()"
   ]
  },
  {
   "cell_type": "code",
   "execution_count": null,
   "metadata": {},
   "outputs": [],
   "source": []
  },
  {
   "cell_type": "code",
   "execution_count": 203,
   "metadata": {},
   "outputs": [],
   "source": [
    "created_producers = {}\n",
    "created_writers = {}\n",
    "creatred_cina = {}\n",
    "created_prod_company = {}\n",
    "created_genre = {}\n",
    "for entry in joined_data:\n",
    "    imdb_url = entry[\"imdb_movie\"]\n",
    "    afi_url = entry[\"afi_movie\"]\n",
    "    parts = imdb_url.split(\"/\")\n",
    "    imdb_id = parts[len(parts)-2]\n",
    "    movie = URIRef(MYNS[\"movie/{}\".format(imdb_id.replace(\" \", \"-\"))])\n",
    "    g.add((movie, RDF.type, MYNS.Movie))\n",
    "    if afi_url:\n",
    "        afi_data = key_afi_data[afi_url]\n",
    "        \n",
    "        # Add Production Company\n",
    "        if \"production_company\" in afi_data:\n",
    "            production_company_name = afi_data[\"production_company\"]\n",
    "            production_company = None\n",
    "            if production_company_name in created_prod_company:\n",
    "                production_company = created_prod_company[production_company_name]\n",
    "            else:\n",
    "                node_uri = URIRef(MYNS[\"production-company/{}\".format(production_company_name.replace(\" \", \"-\"))])\n",
    "                g.add((node_uri, RDF.type, MYNS.ProductionCompany))\n",
    "                g.add((node_uri, SCHEMA.name, Literal(production_company_name)))\n",
    "                created_prod_company[production_company_name] = node_uri\n",
    "                production_company = node_uri\n",
    "\n",
    "            g.add((movie, SCHEMA.productionCompany, production_company))\n",
    "        \n",
    "        # Add Producer\n",
    "        if \"producer\" in afi_data:\n",
    "            producer_name = afi_data[\"producer\"]\n",
    "            producer = None\n",
    "            if producer_name in created_producers:\n",
    "                producer = created_producers[producer_name]\n",
    "            else:\n",
    "                node_uri = URIRef(MYNS[\"producer/{}\".format(producer_name.replace(\" \", \"-\"))])\n",
    "                g.add((node_uri, RDF.type, SCHEMA.Person))\n",
    "                g.add((node_uri, SCHEMA.name, Literal(producer_name)))\n",
    "                created_producers[producer_name] = node_uri\n",
    "                producer = node_uri\n",
    "\n",
    "            g.add((movie, SCHEMA.producer, producer))\n",
    "        \n",
    "        # Add Writer\n",
    "        if \"writer\" in afi_data:\n",
    "            author_name = afi_data[\"writer\"]\n",
    "            writer = None\n",
    "            if author_name in created_writers:\n",
    "                writer = created_writers[author_name]\n",
    "            else:\n",
    "                node_uri = URIRef(MYNS[\"writer/{}\".format(author_name.replace(\" \", \"-\"))])\n",
    "                g.add((node_uri, RDF.type, SCHEMA.Person))\n",
    "                g.add((node_uri, SCHEMA.name, Literal(author_name)))\n",
    "                created_writers[author_name] = node_uri\n",
    "                writer = node_uri\n",
    "\n",
    "            g.add((movie, SCHEMA.author, writer))\n",
    "        \n",
    "        # Add Cinematographer\n",
    "        if \"cinematographer\" in afi_data:\n",
    "            cina_name = afi_data[\"cinematographer\"]\n",
    "            cina = None\n",
    "            if cina_name in creatred_cina:\n",
    "                cina = creatred_cina[cina_name]\n",
    "            else:\n",
    "                node_uri = URIRef(MYNS[\"cinematographer/{}\".format(cina_name.replace(\" \", \"-\"))])\n",
    "                g.add((node_uri, RDF.type, SCHEMA.Person))\n",
    "                g.add((node_uri, SCHEMA.name, Literal(cina_name)))\n",
    "                creatred_cina[cina_name] = node_uri\n",
    "                cina = node_uri\n",
    "\n",
    "            g.add((movie, MYNS.cinematographer, cina))\n",
    "        \n",
    "        # Add Release Date\n",
    "        if \"release_date\" in afi_data:\n",
    "            date_string = afi_data[\"release_date\"]\n",
    "            if len(date_string) > 4:\n",
    "                date_obj = parser.parse(date_string)\n",
    "                g.add((movie, SCHEMA.datePublished, Literal(date_obj)))\n",
    "    \n",
    "    imdb_data = key_imdb_data[imdb_url]\n",
    "    \n",
    "    # Add Release Year\n",
    "    if \"year\" in imdb_data:\n",
    "        year = int(imdb_data[\"year\"])\n",
    "        g.add((movie, MYNS.yearPublished, Literal(year)))\n",
    "    \n",
    "    # Add Genre\n",
    "    if \"genre\" in imdb_data:\n",
    "        genre_string = imdb_data[\"genre\"]\n",
    "        genres = genre_string.lower().split(\", \")\n",
    "        for genre_name in genres:\n",
    "            genre = None\n",
    "            if genre_name in created_genre:\n",
    "                genre = created_genre[genre_name]\n",
    "            else:\n",
    "                node_uri = URIRef(MYNS[\"genre/{}\".format(genre_name.replace(\" \", \"-\"))])\n",
    "                g.add((node_uri, RDF.type, MYNS.Genre))\n",
    "                g.add((node_uri, SCHEMA.name, Literal(genre_name)))\n",
    "                created_genre[genre_name] = node_uri\n",
    "                genre = node_uri\n",
    "            g.add((movie, MYNS.movieGenre, genre))\n",
    "    \n",
    "    # Add name\n",
    "    if \"name\" in imdb_data:\n",
    "        name = imdb_data[\"name\"]\n",
    "        g.add((movie, SCHEMA.name, Literal(name)))\n",
    "    \n",
    "    # Add \"Certificate\" -> Content Rating\n",
    "    if \"certificate\" in imdb_data:\n",
    "        content_rating = imdb_data[\"certificate\"]\n",
    "        g.add((movie, SCHEMA.contentRating, Literal(content_rating)))\n",
    "    \n",
    "    # Add duration\n",
    "    if \"runtime\" in imdb_data:\n",
    "        duration_string = imdb_data[\"runtime\"]\n",
    "        duration = None\n",
    "        duration_mins = int(duration_string[:len(duration_string)-4])\n",
    "        if duration_mins > 60:\n",
    "            duration_hours = duration_mins // 60\n",
    "            duration_mins = duration_mins % 60\n",
    "            duration = \"P{}H{}M\".format(duration_hours, duration_mins)\n",
    "        else:\n",
    "            duration = \"P{}M\".format(duration_mins)\n",
    "\n",
    "        g.add((movie, SCHEMA.duration, Literal(duration)))\n",
    "    \n",
    "    # Add Imdb Rating Info\n",
    "    if \"votes\" in imdb_data and \"rating\" in imdb_data:\n",
    "        movie_votes = imdb_data[\"votes\"]\n",
    "        movie_votes_int = int(movie_votes.replace(\",\", \"\"))\n",
    "        rating = float(imdb_data[\"rating\"])\n",
    "\n",
    "        node_uri = URIRef(MYNS[\"aggRating/{}-{}\".format(name.replace(\" \", \"-\"), str(datetime.datetime.now().date()))])\n",
    "        g.add((node_uri, RDF.type, SCHEMA.AggregateRating))\n",
    "        g.add((node_uri, SCHEMA.ratingCount, Literal(movie_votes_int)))\n",
    "        g.add((node_uri, SCHEMA.ratingValue, Literal(rating)))\n",
    "        g.add((node_uri, SCHEMA.itemReviewed, movie))\n",
    "\n",
    "        g.add((movie, MYNS.imdbAggRating, node_uri))\n",
    "    \n",
    "    # Add Imdb Metascore Info\n",
    "    if \"metascore\" in imdb_data:\n",
    "        imdb_metascore = int(imdb_data[\"metascore\"])\n",
    "        g.add((movie, MYNS.imdbMetascore, Literal(imdb_metascore)))\n",
    "    \n",
    "    # Add Gross Income Info\n",
    "    if \"gross\" in imdb_data:\n",
    "        gross_income_string = imdb_data[\"gross\"]\n",
    "        gross_income = float(gross_income_string[1:len(gross_income_string)-1])\n",
    "        g.add((movie, MYNS.grossIncome, Literal(gross_income)))"
   ]
  },
  {
   "cell_type": "code",
   "execution_count": 204,
   "metadata": {},
   "outputs": [],
   "source": [
    "g.serialize('Rahul_Khanna_hw03_movie_triples.ttl', format=\"turtle\")"
   ]
  },
  {
   "cell_type": "code",
   "execution_count": null,
   "metadata": {},
   "outputs": [],
   "source": []
  }
 ],
 "metadata": {
  "kernelspec": {
   "display_name": "Python 3",
   "language": "python",
   "name": "python3"
  },
  "language_info": {
   "codemirror_mode": {
    "name": "ipython",
    "version": 3
   },
   "file_extension": ".py",
   "mimetype": "text/x-python",
   "name": "python",
   "nbconvert_exporter": "python",
   "pygments_lexer": "ipython3",
   "version": "3.6.5"
  }
 },
 "nbformat": 4,
 "nbformat_minor": 4
}
