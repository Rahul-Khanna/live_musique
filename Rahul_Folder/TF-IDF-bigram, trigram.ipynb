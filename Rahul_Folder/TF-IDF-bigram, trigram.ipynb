{
 "cells": [
  {
   "cell_type": "code",
   "execution_count": 1,
   "metadata": {},
   "outputs": [],
   "source": [
    "import spacy\n",
    "import jsonlines\n",
    "import tqdm\n",
    "import pickle"
   ]
  },
  {
   "cell_type": "code",
   "execution_count": 9,
   "metadata": {},
   "outputs": [],
   "source": [
    "nlp = spacy.load(\"en_core_web_md\")"
   ]
  },
  {
   "cell_type": "code",
   "execution_count": 10,
   "metadata": {},
   "outputs": [],
   "source": [
    "artist_reviews = {}\n",
    "with jsonlines.open('../data_for_558_proj/songkick.jl') as reader:\n",
    "    for obj in reader:\n",
    "        if len(obj[\"reviews\"]) > 0:\n",
    "            text = \" \".join(obj[\"reviews\"])\n",
    "            text = \" \".join(text.split()).strip()\n",
    "            artist_reviews[obj[\"url\"]] = {\"text\" : text,\n",
    "                                          \"count\" : len(obj[\"reviews\"]),\n",
    "                                          \"name\" : obj[\"name\"]}"
   ]
  },
  {
   "cell_type": "code",
   "execution_count": 11,
   "metadata": {},
   "outputs": [
    {
     "name": "stderr",
     "output_type": "stream",
     "text": [
      "100%|██████████| 4971/4971 [11:31<00:00,  7.18it/s]\n"
     ]
    }
   ],
   "source": [
    "for key in tqdm.tqdm(list(artist_reviews.keys())):\n",
    "    artist_reviews[key][\"text\"] = nlp(artist_reviews[key][\"text\"])"
   ]
  },
  {
   "cell_type": "code",
   "execution_count": 6,
   "metadata": {},
   "outputs": [],
   "source": []
  },
  {
   "cell_type": "code",
   "execution_count": 12,
   "metadata": {},
   "outputs": [],
   "source": [
    "urls = list(artist_reviews.keys())"
   ]
  },
  {
   "cell_type": "code",
   "execution_count": 13,
   "metadata": {},
   "outputs": [
    {
     "name": "stderr",
     "output_type": "stream",
     "text": [
      "100%|██████████| 4971/4971 [00:03<00:00, 1494.04it/s]\n"
     ]
    }
   ],
   "source": [
    "text_data = []\n",
    "for url in tqdm.tqdm(urls):\n",
    "    doc = artist_reviews[url][\"text\"]\n",
    "    text = \" \".join([token.lemma_ for token in doc])\n",
    "    text_data.append(text)"
   ]
  },
  {
   "cell_type": "code",
   "execution_count": 18,
   "metadata": {},
   "outputs": [],
   "source": [
    "with open(\"nlp_data/text_data.p\", \"wb\") as f:\n",
    "    pickle.dump(text_data, f)"
   ]
  },
  {
   "cell_type": "code",
   "execution_count": 19,
   "metadata": {},
   "outputs": [],
   "source": [
    "from sklearn.feature_extraction.text import TfidfVectorizer\n",
    "import numpy as np"
   ]
  },
  {
   "cell_type": "code",
   "execution_count": 39,
   "metadata": {},
   "outputs": [],
   "source": [
    "vectorizer = TfidfVectorizer(lowercase=False, ngram_range=(2,3), max_df=0.4, min_df=0.05, sublinear_tf=True)"
   ]
  },
  {
   "cell_type": "code",
   "execution_count": 40,
   "metadata": {},
   "outputs": [],
   "source": [
    "X = vectorizer.fit_transform(text_data)"
   ]
  },
  {
   "cell_type": "code",
   "execution_count": 41,
   "metadata": {},
   "outputs": [],
   "source": [
    "X = X.tocoo()"
   ]
  },
  {
   "cell_type": "code",
   "execution_count": 42,
   "metadata": {},
   "outputs": [],
   "source": [
    "def sort_coo(m):\n",
    "    tuples = zip(m.row, m.col, m.data)\n",
    "    return sorted(tuples, key=lambda x: (x[0], x[2]), reverse=True)"
   ]
  },
  {
   "cell_type": "code",
   "execution_count": 43,
   "metadata": {},
   "outputs": [],
   "source": [
    "data_X = sort_coo(X)"
   ]
  },
  {
   "cell_type": "code",
   "execution_count": 48,
   "metadata": {},
   "outputs": [
    {
     "data": {
      "text/plain": [
       "(4970, 480, 0.21028597298407226)"
      ]
     },
     "execution_count": 48,
     "metadata": {},
     "output_type": "execute_result"
    }
   ],
   "source": [
    "data_X[0]"
   ]
  },
  {
   "cell_type": "code",
   "execution_count": 50,
   "metadata": {},
   "outputs": [],
   "source": [
    "top_words_per_url = {}"
   ]
  },
  {
   "cell_type": "code",
   "execution_count": 47,
   "metadata": {},
   "outputs": [],
   "source": [
    "features = vectorizer.get_feature_names()"
   ]
  },
  {
   "cell_type": "code",
   "execution_count": 52,
   "metadata": {},
   "outputs": [
    {
     "name": "stderr",
     "output_type": "stream",
     "text": [
      "100%|██████████| 1067855/1067855 [00:01<00:00, 840961.13it/s]\n"
     ]
    }
   ],
   "source": [
    "for i, tup in enumerate(tqdm.tqdm(data_X)):\n",
    "    url = urls[tup[0]]\n",
    "    phrase = features[tup[1]]\n",
    "    score = tup[2]\n",
    "    if url in top_words_per_url:\n",
    "        if len(top_words_per_url[url]) < 10:\n",
    "            top_words_per_url[url].append((phrase, score))\n",
    "    else:\n",
    "        top_words_per_url[url] = [(phrase, score)]"
   ]
  },
  {
   "cell_type": "code",
   "execution_count": 54,
   "metadata": {},
   "outputs": [
    {
     "data": {
      "text/plain": [
       "[('while the', 0.09388530864872821),\n",
       " ('the second', 0.09125814565047366),\n",
       " ('more PRON', 0.08710275870623432),\n",
       " ('be hard', 0.08587239883657166),\n",
       " ('be nice', 0.08578288080472353),\n",
       " ('of the night', 0.08377107353236941),\n",
       " ('be when', 0.08340835026810528),\n",
       " ('would have be', 0.08316959838334816),\n",
       " ('concert PRON be', 0.0763129316016321),\n",
       " ('the first', 0.0761978791187876)]"
      ]
     },
     "execution_count": 54,
     "metadata": {},
     "output_type": "execute_result"
    }
   ],
   "source": [
    "top_words_per_url[urls[0]]"
   ]
  },
  {
   "cell_type": "code",
   "execution_count": null,
   "metadata": {},
   "outputs": [],
   "source": []
  }
 ],
 "metadata": {
  "kernelspec": {
   "display_name": "Python 3",
   "language": "python",
   "name": "python3"
  },
  "language_info": {
   "codemirror_mode": {
    "name": "ipython",
    "version": 3
   },
   "file_extension": ".py",
   "mimetype": "text/x-python",
   "name": "python",
   "nbconvert_exporter": "python",
   "pygments_lexer": "ipython3",
   "version": "3.6.5"
  }
 },
 "nbformat": 4,
 "nbformat_minor": 4
}
