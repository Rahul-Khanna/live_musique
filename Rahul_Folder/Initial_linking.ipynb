{
 "cells": [
  {
   "cell_type": "code",
   "execution_count": 138,
   "metadata": {},
   "outputs": [],
   "source": [
    "import jsonlines\n",
    "import requests\n",
    "import csv"
   ]
  },
  {
   "cell_type": "code",
   "execution_count": 139,
   "metadata": {},
   "outputs": [],
   "source": [
    "names = []\n",
    "with jsonlines.open('../scrapers/output/songkick.jl') as reader:\n",
    "    for obj in reader:\n",
    "        names.append(obj[\"name\"])"
   ]
  },
  {
   "cell_type": "code",
   "execution_count": 140,
   "metadata": {},
   "outputs": [],
   "source": [
    "search_query = \"\"\"\n",
    "https://en.wikipedia.org/w/api.php?action=query&format=json&list=search&srsearch=\n",
    "\"\"\"\n",
    "base_query = \"https://en.wikipedia.org/wiki/\""
   ]
  },
  {
   "cell_type": "code",
   "execution_count": 141,
   "metadata": {},
   "outputs": [],
   "source": [
    "x = requests.get(search_query+\"Drake\")"
   ]
  },
  {
   "cell_type": "code",
   "execution_count": 142,
   "metadata": {},
   "outputs": [],
   "source": [
    "possible_results = x.json()[\"query\"][\"search\"]"
   ]
  },
  {
   "cell_type": "code",
   "execution_count": 143,
   "metadata": {},
   "outputs": [
    {
     "name": "stdout",
     "output_type": "stream",
     "text": [
      "Drake (musician)\n"
     ]
    }
   ],
   "source": [
    "for result in possible_results:\n",
    "    title = result[\"title\"]\n",
    "    if \"musician\" in title or \"band\" in title:\n",
    "        print(title)"
   ]
  },
  {
   "cell_type": "code",
   "execution_count": 71,
   "metadata": {},
   "outputs": [
    {
     "name": "stdout",
     "output_type": "stream",
     "text": [
      "Rihanna\n",
      "The Rolling Stones\n",
      "Jason Derulo\n",
      "Black Eyed Peas\n",
      "Arctic Monkeys\n",
      "Green Day\n",
      "Pitbull\n",
      "Mumford & Sons\n",
      "Muse\n",
      "Muse\n",
      "Ellie Goulding\n",
      "Queen\n",
      "Queen\n",
      "Ariana Grande\n",
      "Lana Del Rey\n",
      "Kings of Leon\n",
      "Radiohead\n",
      "Usher\n",
      "Usher\n",
      "The Beach Boys\n",
      "Rae Sremmurd\n",
      "Flume\n",
      "Flume\n",
      "The 1975\n",
      "Deadmau5\n",
      "Depeche Mode\n",
      "Gotye\n",
      "5 Seconds of Summer\n",
      "Lupe Fiasco\n",
      "The Who\n",
      "Luke Bryan\n"
     ]
    },
    {
     "ename": "KeyboardInterrupt",
     "evalue": "",
     "output_type": "error",
     "traceback": [
      "\u001b[0;31m---------------------------------------------------------------------------\u001b[0m",
      "\u001b[0;31mKeyboardInterrupt\u001b[0m                         Traceback (most recent call last)",
      "\u001b[0;32m<ipython-input-71-06f46f03cd3d>\u001b[0m in \u001b[0;36m<module>\u001b[0;34m\u001b[0m\n\u001b[1;32m      3\u001b[0m     \u001b[0mprint\u001b[0m\u001b[0;34m(\u001b[0m\u001b[0mname\u001b[0m\u001b[0;34m)\u001b[0m\u001b[0;34m\u001b[0m\u001b[0m\n\u001b[1;32m      4\u001b[0m     \u001b[0mpage\u001b[0m \u001b[0;34m=\u001b[0m \u001b[0mwptools\u001b[0m\u001b[0;34m.\u001b[0m\u001b[0mpage\u001b[0m\u001b[0;34m(\u001b[0m\u001b[0mname\u001b[0m\u001b[0;34m,\u001b[0m \u001b[0msilent\u001b[0m\u001b[0;34m=\u001b[0m\u001b[0;32mTrue\u001b[0m\u001b[0;34m)\u001b[0m\u001b[0;34m\u001b[0m\u001b[0m\n\u001b[0;32m----> 5\u001b[0;31m     \u001b[0mpage\u001b[0m\u001b[0;34m.\u001b[0m\u001b[0mget_parse\u001b[0m\u001b[0;34m(\u001b[0m\u001b[0;34m)\u001b[0m\u001b[0;34m\u001b[0m\u001b[0m\n\u001b[0m\u001b[1;32m      6\u001b[0m     \u001b[0;32mif\u001b[0m \u001b[0mpage\u001b[0m\u001b[0;34m.\u001b[0m\u001b[0mdata\u001b[0m\u001b[0;34m[\u001b[0m\u001b[0;34m'infobox'\u001b[0m\u001b[0;34m]\u001b[0m \u001b[0;34m!=\u001b[0m \u001b[0;32mNone\u001b[0m\u001b[0;34m:\u001b[0m\u001b[0;34m\u001b[0m\u001b[0m\n\u001b[1;32m      7\u001b[0m         \u001b[0;32mcontinue\u001b[0m\u001b[0;34m\u001b[0m\u001b[0m\n",
      "\u001b[0;32m~/Documents/usc/fall_2020/kgs/project/kgs_project/lib/python3.6/site-packages/wptools/page.py\u001b[0m in \u001b[0;36mget_parse\u001b[0;34m(self, show, proxy, timeout)\u001b[0m\n\u001b[1;32m    601\u001b[0m             \u001b[0;32mraise\u001b[0m \u001b[0mValueError\u001b[0m\u001b[0;34m(\u001b[0m\u001b[0;34m\"get_parse needs title or pageid\"\u001b[0m\u001b[0;34m)\u001b[0m\u001b[0;34m\u001b[0m\u001b[0m\n\u001b[1;32m    602\u001b[0m \u001b[0;34m\u001b[0m\u001b[0m\n\u001b[0;32m--> 603\u001b[0;31m         \u001b[0mself\u001b[0m\u001b[0;34m.\u001b[0m\u001b[0m_get\u001b[0m\u001b[0;34m(\u001b[0m\u001b[0;34m'parse'\u001b[0m\u001b[0;34m,\u001b[0m \u001b[0mshow\u001b[0m\u001b[0;34m,\u001b[0m \u001b[0mproxy\u001b[0m\u001b[0;34m,\u001b[0m \u001b[0mtimeout\u001b[0m\u001b[0;34m)\u001b[0m\u001b[0;34m\u001b[0m\u001b[0m\n\u001b[0m\u001b[1;32m    604\u001b[0m \u001b[0;34m\u001b[0m\u001b[0m\n\u001b[1;32m    605\u001b[0m         \u001b[0;32mreturn\u001b[0m \u001b[0mself\u001b[0m\u001b[0;34m\u001b[0m\u001b[0m\n",
      "\u001b[0;32m~/Documents/usc/fall_2020/kgs/project/kgs_project/lib/python3.6/site-packages/wptools/core.py\u001b[0m in \u001b[0;36m_get\u001b[0;34m(self, action, show, proxy, timeout)\u001b[0m\n\u001b[1;32m    173\u001b[0m         \u001b[0mqstr\u001b[0m \u001b[0;34m=\u001b[0m \u001b[0mself\u001b[0m\u001b[0;34m.\u001b[0m\u001b[0m_query\u001b[0m\u001b[0;34m(\u001b[0m\u001b[0maction\u001b[0m\u001b[0;34m,\u001b[0m \u001b[0mqobj\u001b[0m\u001b[0;34m)\u001b[0m\u001b[0;34m\u001b[0m\u001b[0m\n\u001b[1;32m    174\u001b[0m         \u001b[0mreq\u001b[0m \u001b[0;34m=\u001b[0m \u001b[0mself\u001b[0m\u001b[0;34m.\u001b[0m\u001b[0m_request\u001b[0m\u001b[0;34m(\u001b[0m\u001b[0mproxy\u001b[0m\u001b[0;34m,\u001b[0m \u001b[0mtimeout\u001b[0m\u001b[0;34m)\u001b[0m\u001b[0;34m\u001b[0m\u001b[0m\n\u001b[0;32m--> 175\u001b[0;31m         \u001b[0mresponse\u001b[0m \u001b[0;34m=\u001b[0m \u001b[0mreq\u001b[0m\u001b[0;34m.\u001b[0m\u001b[0mget\u001b[0m\u001b[0;34m(\u001b[0m\u001b[0mqstr\u001b[0m\u001b[0;34m,\u001b[0m \u001b[0mqobj\u001b[0m\u001b[0;34m.\u001b[0m\u001b[0mstatus\u001b[0m\u001b[0;34m)\u001b[0m\u001b[0;34m\u001b[0m\u001b[0m\n\u001b[0m\u001b[1;32m    176\u001b[0m \u001b[0;34m\u001b[0m\u001b[0m\n\u001b[1;32m    177\u001b[0m         \u001b[0mself\u001b[0m\u001b[0;34m.\u001b[0m\u001b[0mcache\u001b[0m\u001b[0;34m[\u001b[0m\u001b[0maction\u001b[0m\u001b[0;34m]\u001b[0m\u001b[0;34m[\u001b[0m\u001b[0;34m'query'\u001b[0m\u001b[0;34m]\u001b[0m \u001b[0;34m=\u001b[0m \u001b[0mqstr\u001b[0m\u001b[0;34m\u001b[0m\u001b[0m\n",
      "\u001b[0;32m~/Documents/usc/fall_2020/kgs/project/kgs_project/lib/python3.6/site-packages/wptools/request.py\u001b[0m in \u001b[0;36mget\u001b[0;34m(self, url, status)\u001b[0m\n\u001b[1;32m     74\u001b[0m             \u001b[0mprint\u001b[0m\u001b[0;34m(\u001b[0m\u001b[0;34m\"Requests DISABLED\"\u001b[0m\u001b[0;34m,\u001b[0m \u001b[0mfile\u001b[0m\u001b[0;34m=\u001b[0m\u001b[0msys\u001b[0m\u001b[0;34m.\u001b[0m\u001b[0mstderr\u001b[0m\u001b[0;34m)\u001b[0m\u001b[0;34m\u001b[0m\u001b[0m\n\u001b[1;32m     75\u001b[0m         \u001b[0;32melse\u001b[0m\u001b[0;34m:\u001b[0m\u001b[0;34m\u001b[0m\u001b[0m\n\u001b[0;32m---> 76\u001b[0;31m             \u001b[0;32mreturn\u001b[0m \u001b[0mself\u001b[0m\u001b[0;34m.\u001b[0m\u001b[0mcurl_perform\u001b[0m\u001b[0;34m(\u001b[0m\u001b[0mcrl\u001b[0m\u001b[0;34m)\u001b[0m\u001b[0;34m\u001b[0m\u001b[0m\n\u001b[0m\u001b[1;32m     77\u001b[0m \u001b[0;34m\u001b[0m\u001b[0m\n\u001b[1;32m     78\u001b[0m     \u001b[0;32mdef\u001b[0m \u001b[0mcurl_perform\u001b[0m\u001b[0;34m(\u001b[0m\u001b[0mself\u001b[0m\u001b[0;34m,\u001b[0m \u001b[0mcrl\u001b[0m\u001b[0;34m)\u001b[0m\u001b[0;34m:\u001b[0m\u001b[0;34m\u001b[0m\u001b[0m\n",
      "\u001b[0;32m~/Documents/usc/fall_2020/kgs/project/kgs_project/lib/python3.6/site-packages/wptools/request.py\u001b[0m in \u001b[0;36mcurl_perform\u001b[0;34m(self, crl)\u001b[0m\n\u001b[1;32m     82\u001b[0m         \u001b[0mbfr\u001b[0m \u001b[0;34m=\u001b[0m \u001b[0mBytesIO\u001b[0m\u001b[0;34m(\u001b[0m\u001b[0;34m)\u001b[0m\u001b[0;34m\u001b[0m\u001b[0m\n\u001b[1;32m     83\u001b[0m         \u001b[0mcrl\u001b[0m\u001b[0;34m.\u001b[0m\u001b[0msetopt\u001b[0m\u001b[0;34m(\u001b[0m\u001b[0mcrl\u001b[0m\u001b[0;34m.\u001b[0m\u001b[0mWRITEFUNCTION\u001b[0m\u001b[0;34m,\u001b[0m \u001b[0mbfr\u001b[0m\u001b[0;34m.\u001b[0m\u001b[0mwrite\u001b[0m\u001b[0;34m)\u001b[0m\u001b[0;34m\u001b[0m\u001b[0m\n\u001b[0;32m---> 84\u001b[0;31m         \u001b[0mcrl\u001b[0m\u001b[0;34m.\u001b[0m\u001b[0mperform\u001b[0m\u001b[0;34m(\u001b[0m\u001b[0;34m)\u001b[0m\u001b[0;34m\u001b[0m\u001b[0m\n\u001b[0m\u001b[1;32m     85\u001b[0m         \u001b[0minfo\u001b[0m \u001b[0;34m=\u001b[0m \u001b[0mcurl_info\u001b[0m\u001b[0;34m(\u001b[0m\u001b[0mcrl\u001b[0m\u001b[0;34m)\u001b[0m\u001b[0;34m\u001b[0m\u001b[0m\n\u001b[1;32m     86\u001b[0m         \u001b[0;32mif\u001b[0m \u001b[0minfo\u001b[0m\u001b[0;34m:\u001b[0m\u001b[0;34m\u001b[0m\u001b[0m\n",
      "\u001b[0;31mKeyboardInterrupt\u001b[0m: "
     ]
    }
   ],
   "source": [
    "for name in names:\n",
    "    name = name.strip()\n",
    "    print(name)\n",
    "    page = wptools.page(name, silent=True)\n",
    "    page.get_parse()\n",
    "    if page.data['infobox'] != None:\n",
    "        continue\n",
    "    print(name)\n",
    "        "
   ]
  },
  {
   "cell_type": "code",
   "execution_count": 98,
   "metadata": {},
   "outputs": [],
   "source": [
    "page = wptools.page('Rihanna')"
   ]
  },
  {
   "cell_type": "code",
   "execution_count": 99,
   "metadata": {},
   "outputs": [
    {
     "name": "stderr",
     "output_type": "stream",
     "text": [
      "en.wikipedia.org (parse) Rihanna\n",
      "en.wikipedia.org (imageinfo) File:Rihanna Fenty 2018.png\n",
      "Rihanna (en) data\n",
      "{\n",
      "  image: <list(1)> {'kind': 'parse-image', 'file': 'File:Rihanna F...\n",
      "  infobox: <dict(14)> name, image, caption, birth_name, birth_date...\n",
      "  iwlinks: <list(4)> https://commons.wikimedia.org/wiki/Category:R...\n",
      "  pageid: 2110323\n",
      "  parsetree: <str(261568)> <root><template><title>Distinguish</tit...\n",
      "  requests: <list(2)> parse, imageinfo\n",
      "  title: Rihanna\n",
      "  wikibase: Q36844\n",
      "  wikidata_url: https://www.wikidata.org/wiki/Q36844\n",
      "  wikitext: <str(215798)> {{Distinguish|Rhianna}}{{Other uses}}{{s...\n",
      "}\n"
     ]
    },
    {
     "data": {
      "text/plain": [
       "<wptools.page.WPToolsPage at 0x1037f4cc0>"
      ]
     },
     "execution_count": 99,
     "metadata": {},
     "output_type": "execute_result"
    }
   ],
   "source": [
    "page.get_parse()"
   ]
  },
  {
   "cell_type": "code",
   "execution_count": 103,
   "metadata": {},
   "outputs": [
    {
     "data": {
      "text/plain": [
       "{'name': 'Rihanna',\n",
       " 'image': 'Rihanna Fenty 2018.png',\n",
       " 'caption': 'Rihanna in 2018',\n",
       " 'birth_name': 'Robyn Rihanna Fenty',\n",
       " 'birth_date': '{{Birth date and age|1988|2|20|df|=|y}}',\n",
       " 'birth_place': '[[Saint Michael, Barbados]]',\n",
       " 'organisation': '{{plainlist|\\n* [[Clara Lionel Foundation]]\\n* [[Fenty Beauty]]\\n* [[Savage X Fenty]]\\n* [[Fenty (manufacturer)|Fenty]]}}',\n",
       " 'occupation': '{{flatlist|\\n* Singer\\n* songwriter\\n* actress\\n* businesswoman}}',\n",
       " 'net_worth': 'US$600&nbsp;million (2019 estimate)',\n",
       " 'awards': '[[List of awards and nominations received by Rihanna|Full list]]',\n",
       " 'years_active': '2003–present',\n",
       " 'website': '{{URL|rihanna.com}}',\n",
       " 'module': \"{{Infobox musical artist|embed|=|yes\\n| background |=| solo_singer |<!-- mandatory field -->|\\n| genre |=| |flatlist|<!-- Before adding/removing genres, please discuss the issue at Talk page or add a compelling source. Sources of lightweight quality will be subject to scrutiny and even removal. -->|\\n* [[Contemporary R&B|R&B]]\\n* [[Pop music|pop]]\\n* [[reggae]]\\n* [[Hip hop music|hip hop]]\\n* [[Dance music|dance]]\\n|\\n| instrument |=| Vocals\\n| label |=| |flatlist|\\n* [[Roc Nation]]\\n* [[Def Jam Recordings|Def Jam]]\\n* SRP\\n* Westbury Road\\n|\\n| associated_acts |=| |<!--PLEASE NOTE: If you are going to add to this list, make sure that it is an artist who has formed a SIGNIFICANT part of Rihanna's career.-->|flatlist|\\n* [[Jay-Z]]\\n* [[Chris Brown]]\\n* [[Drake (musician)|Drake]]\\n* [[Calvin Harris]]\\n* [[Eminem]]\\n* [[Ne-Yo]]\\n* [[Kanye West]]\\n|}} {{flatlist|<!-- Before adding/removing genres, please discuss the issue at Talk page or add a compelling source. Sources of lightweight quality will be subject to scrutiny and even removal. -->|\\n* [[Contemporary R&B|R&B]]\\n* [[Pop music|pop]]\\n* [[reggae]]\\n* [[Hip hop music|hip hop]]\\n* [[Dance music|dance]]}} * [[Contemporary R&B|R&B]]\\n* [[Pop music|pop]]\\n* [[reggae]]\\n* [[Hip hop music|hip hop]]\\n* [[Dance music|dance]] {{flatlist|\\n* [[Roc Nation]]\\n* [[Def Jam Recordings|Def Jam]]\\n* SRP\\n* Westbury Road}} {{flatlist|\\n* [[Jay-Z]]\\n* [[Chris Brown]]\\n* [[Drake (musician)|Drake]]\\n* [[Calvin Harris]]\\n* [[Eminem]]\\n* [[Ne-Yo]]\\n* [[Kanye West]]}}\",\n",
       " 'module2': '{{Infobox officeholder|embed|=|yes\\n| office |=| [[Barbados|Barbadian]] [[Ambassador Extraordinary and Plenipotentiary]]\\n| term_start |=| 21 September 2018}}'}"
      ]
     },
     "execution_count": 103,
     "metadata": {},
     "output_type": "execute_result"
    }
   ],
   "source": [
    "page.data['infobox']"
   ]
  },
  {
   "cell_type": "code",
   "execution_count": 105,
   "metadata": {},
   "outputs": [],
   "source": [
    "from scrapy.http import Request"
   ]
  },
  {
   "cell_type": "code",
   "execution_count": 109,
   "metadata": {},
   "outputs": [],
   "source": [
    "# data = Request(\"https://en.wikipedia.org/wiki/Drake\")"
   ]
  },
  {
   "cell_type": "code",
   "execution_count": 110,
   "metadata": {},
   "outputs": [],
   "source": [
    "# type(data)"
   ]
  },
  {
   "cell_type": "code",
   "execution_count": 128,
   "metadata": {},
   "outputs": [],
   "source": [
    "x = requests.get(\"https://en.wikipedia.org/wiki/Drake\")"
   ]
  },
  {
   "cell_type": "code",
   "execution_count": 129,
   "metadata": {},
   "outputs": [
    {
     "data": {
      "text/plain": [
       "True"
      ]
     },
     "execution_count": 129,
     "metadata": {},
     "output_type": "execute_result"
    }
   ],
   "source": [
    "\"may refer to:\" in x.text"
   ]
  },
  {
   "cell_type": "code",
   "execution_count": 135,
   "metadata": {},
   "outputs": [],
   "source": [
    "occupation_triggers = [\"musician\", \"rapper\", \"vocalist\", \"singer\", \"songwriter\",\n",
    "                  \"record producer\", \"guitarist\", \"pianist\", \"cellist\", \"violinist\",\n",
    "                  \"bassist\", \"drummer\", \"dj\", \"remixer\", \"saxophonist\", \"trumpet\",\n",
    "                  \"clarinetist\", \"trombonist\", \"popstar\", \"rocker\", \"songwriter\", \"band\"]\n",
    "\n",
    "genre_triggers = []\n",
    "\n",
    "with open(\"musicbrainz_genres.csv\") as f:\n",
    "    reader = csv.reader(f)\n",
    "    for row in reader:\n",
    "        genre_triggers.append(row[0].lower())\n",
    "\n",
    "\n",
    "\n"
   ]
  },
  {
   "cell_type": "code",
   "execution_count": null,
   "metadata": {},
   "outputs": [],
   "source": []
  },
  {
   "cell_type": "code",
   "execution_count": null,
   "metadata": {},
   "outputs": [],
   "source": []
  }
 ],
 "metadata": {
  "kernelspec": {
   "display_name": "Python 3",
   "language": "python",
   "name": "python3"
  },
  "language_info": {
   "codemirror_mode": {
    "name": "ipython",
    "version": 3
   },
   "file_extension": ".py",
   "mimetype": "text/x-python",
   "name": "python",
   "nbconvert_exporter": "python",
   "pygments_lexer": "ipython3",
   "version": "3.6.5"
  }
 },
 "nbformat": 4,
 "nbformat_minor": 4
}
