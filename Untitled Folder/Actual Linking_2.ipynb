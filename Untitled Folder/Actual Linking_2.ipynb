{
 "cells": [
  {
   "cell_type": "code",
   "execution_count": 13,
   "metadata": {},
   "outputs": [],
   "source": [
    "import jsonlines\n",
    "import requests\n",
    "import csv\n",
    "from bs4 import BeautifulSoup\n",
    "import pandas as pd\n",
    "import tqdm\n",
    "import random\n",
    "import time\n",
    "import pickle\n",
    "import re"
   ]
  },
  {
   "cell_type": "code",
   "execution_count": 14,
   "metadata": {},
   "outputs": [],
   "source": [
    "with open(\"songkick_names_part2.p\", \"rb\") as f:\n",
    "    part_2 = pickle.load(f)"
   ]
  },
  {
   "cell_type": "code",
   "execution_count": null,
   "metadata": {},
   "outputs": [],
   "source": []
  },
  {
   "cell_type": "code",
   "execution_count": 15,
   "metadata": {},
   "outputs": [],
   "source": [
    "def get_text(html_object):\n",
    "    if \"text\" in html_object:\n",
    "        return html_object[\"text\"].strip()\n",
    "    else:\n",
    "        return html_object.get_text().strip()\n",
    "\n",
    "def get_link(html_object):\n",
    "    if \"href\" in html_object.attrs:\n",
    "        return html_object.attrs[\"href\"]\n",
    "    return \"\"\n",
    "\n",
    "def clean_name_of_footnote(text):\n",
    "    return re.sub('\\[\\d+\\]', '', text)"
   ]
  },
  {
   "cell_type": "code",
   "execution_count": 16,
   "metadata": {},
   "outputs": [],
   "source": [
    "occupation_triggers = [\"musician\", \"rapper\", \"vocalist\", \"singer\", \"songwriter\",\n",
    "                  \"record producer\", \"guitarist\", \"pianist\", \"cellist\", \"violinist\",\n",
    "                  \"bassist\", \"drummer\", \"dj\", \"remixer\", \"saxophonist\", \"trumpet\",\n",
    "                  \"clarinetist\", \"trombonist\", \"popstar\", \"rocker\", \"songwriter\", \"band\"]\n",
    "\n",
    "genre_triggers = []\n",
    "\n",
    "with open(\"musicbrainz_genres.csv\") as f:\n",
    "    reader = csv.reader(f)\n",
    "    for row in reader:\n",
    "        genre_triggers.append(row[0].lower())"
   ]
  },
  {
   "cell_type": "code",
   "execution_count": 17,
   "metadata": {},
   "outputs": [],
   "source": [
    "search_query = \"\"\"\n",
    "https://en.wikipedia.org/w/api.php?action=query&format=json&list=search&srsearch=\n",
    "\"\"\"\n",
    "base_query = \"https://en.wikipedia.org/wiki/\""
   ]
  },
  {
   "cell_type": "code",
   "execution_count": 18,
   "metadata": {},
   "outputs": [
    {
     "data": {
      "text/plain": [
       "('T.I.', 'https://www.songkick.com/artists/17879-ti')"
      ]
     },
     "execution_count": 18,
     "metadata": {},
     "output_type": "execute_result"
    }
   ],
   "source": [
    "part_2[118]"
   ]
  },
  {
   "cell_type": "code",
   "execution_count": null,
   "metadata": {},
   "outputs": [],
   "source": []
  },
  {
   "cell_type": "code",
   "execution_count": null,
   "metadata": {},
   "outputs": [],
   "source": []
  },
  {
   "cell_type": "code",
   "execution_count": 19,
   "metadata": {},
   "outputs": [
    {
     "name": "stderr",
     "output_type": "stream",
     "text": [
      "  4%|▎         | 100/2794 [01:24<27:24,  1.64it/s] "
     ]
    },
    {
     "name": "stdout",
     "output_type": "stream",
     "text": [
      "Sleeping for 17\n",
      "done sleeping\n"
     ]
    },
    {
     "name": "stderr",
     "output_type": "stream",
     "text": [
      "  7%|▋         | 200/2794 [02:58<29:53,  1.45it/s]  "
     ]
    },
    {
     "name": "stdout",
     "output_type": "stream",
     "text": [
      "Sleeping for 18\n",
      "done sleeping\n"
     ]
    },
    {
     "name": "stderr",
     "output_type": "stream",
     "text": [
      " 11%|█         | 300/2794 [04:18<20:48,  2.00it/s]  "
     ]
    },
    {
     "name": "stdout",
     "output_type": "stream",
     "text": [
      "Sleeping for 3\n",
      "done sleeping\n"
     ]
    },
    {
     "name": "stderr",
     "output_type": "stream",
     "text": [
      " 14%|█▍        | 400/2794 [05:18<23:32,  1.69it/s]"
     ]
    },
    {
     "name": "stdout",
     "output_type": "stream",
     "text": [
      "Sleeping for 5\n",
      "done sleeping\n"
     ]
    },
    {
     "name": "stderr",
     "output_type": "stream",
     "text": [
      " 18%|█▊        | 500/2794 [06:18<21:57,  1.74it/s]  "
     ]
    },
    {
     "name": "stdout",
     "output_type": "stream",
     "text": [
      "Sleeping for 3\n",
      "done sleeping\n"
     ]
    },
    {
     "name": "stderr",
     "output_type": "stream",
     "text": [
      " 21%|██▏       | 600/2794 [07:26<27:25,  1.33it/s]"
     ]
    },
    {
     "name": "stdout",
     "output_type": "stream",
     "text": [
      "Sleeping for 18\n",
      "done sleeping\n"
     ]
    },
    {
     "name": "stderr",
     "output_type": "stream",
     "text": [
      " 25%|██▌       | 700/2794 [08:39<18:15,  1.91it/s]  "
     ]
    },
    {
     "name": "stdout",
     "output_type": "stream",
     "text": [
      "Sleeping for 14\n",
      "done sleeping\n"
     ]
    },
    {
     "name": "stderr",
     "output_type": "stream",
     "text": [
      " 29%|██▊       | 800/2794 [09:50<21:28,  1.55it/s]  "
     ]
    },
    {
     "name": "stdout",
     "output_type": "stream",
     "text": [
      "Sleeping for 18\n",
      "done sleeping\n"
     ]
    },
    {
     "name": "stderr",
     "output_type": "stream",
     "text": [
      " 32%|███▏      | 900/2794 [11:08<15:53,  1.99it/s]  "
     ]
    },
    {
     "name": "stdout",
     "output_type": "stream",
     "text": [
      "Sleeping for 19\n",
      "done sleeping\n"
     ]
    },
    {
     "name": "stderr",
     "output_type": "stream",
     "text": [
      " 36%|███▌      | 1000/2794 [12:25<19:09,  1.56it/s] "
     ]
    },
    {
     "name": "stdout",
     "output_type": "stream",
     "text": [
      "Sleeping for 3\n",
      "done sleeping\n"
     ]
    },
    {
     "name": "stderr",
     "output_type": "stream",
     "text": [
      " 39%|███▉      | 1100/2794 [13:30<16:02,  1.76it/s]"
     ]
    },
    {
     "name": "stdout",
     "output_type": "stream",
     "text": [
      "Sleeping for 6\n",
      "done sleeping\n"
     ]
    },
    {
     "name": "stderr",
     "output_type": "stream",
     "text": [
      " 43%|████▎     | 1200/2794 [14:39<15:43,  1.69it/s]  "
     ]
    },
    {
     "name": "stdout",
     "output_type": "stream",
     "text": [
      "Sleeping for 18\n",
      "done sleeping\n"
     ]
    },
    {
     "name": "stderr",
     "output_type": "stream",
     "text": [
      " 47%|████▋     | 1300/2794 [15:51<16:39,  1.50it/s]  "
     ]
    },
    {
     "name": "stdout",
     "output_type": "stream",
     "text": [
      "Sleeping for 18\n",
      "done sleeping\n"
     ]
    },
    {
     "name": "stderr",
     "output_type": "stream",
     "text": [
      " 50%|█████     | 1400/2794 [17:06<11:57,  1.94it/s]  "
     ]
    },
    {
     "name": "stdout",
     "output_type": "stream",
     "text": [
      "Sleeping for 4\n",
      "done sleeping\n"
     ]
    },
    {
     "name": "stderr",
     "output_type": "stream",
     "text": [
      " 54%|█████▎    | 1500/2794 [18:23<10:06,  2.13it/s]  "
     ]
    },
    {
     "name": "stdout",
     "output_type": "stream",
     "text": [
      "Sleeping for 2\n",
      "done sleeping\n"
     ]
    },
    {
     "name": "stderr",
     "output_type": "stream",
     "text": [
      " 57%|█████▋    | 1600/2794 [19:23<11:09,  1.78it/s]"
     ]
    },
    {
     "name": "stdout",
     "output_type": "stream",
     "text": [
      "Sleeping for 14\n",
      "done sleeping\n"
     ]
    },
    {
     "name": "stderr",
     "output_type": "stream",
     "text": [
      " 61%|██████    | 1700/2794 [20:37<10:05,  1.81it/s]  "
     ]
    },
    {
     "name": "stdout",
     "output_type": "stream",
     "text": [
      "Sleeping for 4\n",
      "done sleeping\n"
     ]
    },
    {
     "name": "stderr",
     "output_type": "stream",
     "text": [
      " 64%|██████▍   | 1800/2794 [21:39<08:38,  1.92it/s]"
     ]
    },
    {
     "name": "stdout",
     "output_type": "stream",
     "text": [
      "Sleeping for 16\n",
      "done sleeping\n"
     ]
    },
    {
     "name": "stderr",
     "output_type": "stream",
     "text": [
      " 68%|██████▊   | 1900/2794 [22:52<14:13,  1.05it/s]  "
     ]
    },
    {
     "name": "stdout",
     "output_type": "stream",
     "text": [
      "Sleeping for 12\n",
      "done sleeping\n"
     ]
    },
    {
     "name": "stderr",
     "output_type": "stream",
     "text": [
      " 72%|███████▏  | 2000/2794 [23:59<08:30,  1.55it/s]  "
     ]
    },
    {
     "name": "stdout",
     "output_type": "stream",
     "text": [
      "Sleeping for 1\n",
      "done sleeping\n"
     ]
    },
    {
     "name": "stderr",
     "output_type": "stream",
     "text": [
      " 75%|███████▌  | 2100/2794 [24:59<05:34,  2.07it/s]"
     ]
    },
    {
     "name": "stdout",
     "output_type": "stream",
     "text": [
      "Sleeping for 6\n",
      "done sleeping\n"
     ]
    },
    {
     "name": "stderr",
     "output_type": "stream",
     "text": [
      " 79%|███████▊  | 2200/2794 [26:04<05:57,  1.66it/s]"
     ]
    },
    {
     "name": "stdout",
     "output_type": "stream",
     "text": [
      "Sleeping for 5\n",
      "done sleeping\n"
     ]
    },
    {
     "name": "stderr",
     "output_type": "stream",
     "text": [
      " 82%|████████▏ | 2300/2794 [27:01<03:59,  2.06it/s]"
     ]
    },
    {
     "name": "stdout",
     "output_type": "stream",
     "text": [
      "Sleeping for 19\n",
      "done sleeping\n"
     ]
    },
    {
     "name": "stderr",
     "output_type": "stream",
     "text": [
      " 86%|████████▌ | 2400/2794 [28:37<04:05,  1.61it/s]"
     ]
    },
    {
     "name": "stdout",
     "output_type": "stream",
     "text": [
      "Sleeping for 15\n",
      "done sleeping\n"
     ]
    },
    {
     "name": "stderr",
     "output_type": "stream",
     "text": [
      " 89%|████████▉ | 2500/2794 [29:47<02:54,  1.68it/s]"
     ]
    },
    {
     "name": "stdout",
     "output_type": "stream",
     "text": [
      "Sleeping for 13\n",
      "done sleeping\n"
     ]
    },
    {
     "name": "stderr",
     "output_type": "stream",
     "text": [
      " 93%|█████████▎| 2600/2794 [31:00<01:59,  1.62it/s]"
     ]
    },
    {
     "name": "stdout",
     "output_type": "stream",
     "text": [
      "Sleeping for 2\n",
      "done sleeping\n"
     ]
    },
    {
     "name": "stderr",
     "output_type": "stream",
     "text": [
      " 97%|█████████▋| 2700/2794 [32:02<01:07,  1.39it/s]"
     ]
    },
    {
     "name": "stdout",
     "output_type": "stream",
     "text": [
      "Sleeping for 17\n",
      "done sleeping\n"
     ]
    },
    {
     "name": "stderr",
     "output_type": "stream",
     "text": [
      "100%|██████████| 2794/2794 [33:13<00:00,  1.40it/s]\n"
     ]
    }
   ],
   "source": [
    "found_search = []\n",
    "dictionaries = []\n",
    "s = requests.Session()\n",
    "a = requests.adapters.HTTPAdapter(max_retries=5)\n",
    "s.mount('http://', a)\n",
    "s.mount('https://', a)\n",
    "# previous_run_count = 1667\n",
    "# part_1 = part_1[previous_run_count:]\n",
    "\n",
    "for i, name_url in enumerate(tqdm.tqdm(part_2)):\n",
    "    if i % 100 == 0 and i > 0:\n",
    "        sleep_seconds = random.randint(1, 20)\n",
    "        print(\"Sleeping for {}\".format(sleep_seconds))\n",
    "        time.sleep(sleep_seconds)\n",
    "        print(\"done sleeping\")\n",
    "\n",
    "    name = name_url[0]\n",
    "    url = name_url[1]\n",
    "    dict_repr = {\"name\" : name, \"songkick_url\" : url}\n",
    "    title = \"\"\n",
    "    x = s.get(search_query+name, timeout=(3.05, 18.05))\n",
    "    possible_results = x.json()[\"query\"][\"search\"]\n",
    "    for result in possible_results:\n",
    "        r_title = result[\"title\"]\n",
    "        lower_case_title = r_title.lower()\n",
    "        for occupation in occupation_triggers:\n",
    "            if occupation in lower_case_title:\n",
    "                title = r_title\n",
    "                break\n",
    "        if len(title) > 0:\n",
    "            break\n",
    "        snippet = result[\"snippet\"].lower()\n",
    "        for occupation in occupation_triggers:\n",
    "            if occupation in snippet:\n",
    "                title = r_title\n",
    "                break\n",
    "        if len(title) > 0:\n",
    "            break\n",
    "        for genre in genre_triggers:\n",
    "            if genre in snippet:\n",
    "                title = r_title\n",
    "                break\n",
    "\n",
    "    if len(title) > 0:\n",
    "        wiki_url = base_query+title\n",
    "        y = s.get(wiki_url, timeout=(3.05, 18.05))\n",
    "        dict_repr[\"wiki_title\"] = title\n",
    "        dict_repr[\"wiki_url\"] = wiki_url\n",
    "        found_search.append(1)\n",
    "    else:\n",
    "        found_search.append(0)\n",
    "        dictionaries.append(dict_repr)\n",
    "        continue\n",
    "    \n",
    "    status_code = y.status_code\n",
    "    \n",
    "    if status_code == 200:\n",
    "        soup_html = BeautifulSoup(y.text, 'lxml')\n",
    "        info_table = soup_html.find(\"table\", {\"class\": \"infobox\"})\n",
    "        if info_table != None:\n",
    "            rows = info_table.findAll(\"tr\")\n",
    "            for row in rows:\n",
    "                pos_header = row.find(\"th\")\n",
    "                pos_data = row.find(\"td\")\n",
    "                if pos_header != None:\n",
    "                    if pos_data != None:\n",
    "                        header_text = get_text(pos_header)\n",
    "                        data_text = get_text(pos_data)\n",
    "                        row_links = pos_data.findAll(\"a\")\n",
    "                        links = []\n",
    "                        for link in row_links:\n",
    "                            link_text = clean_name_of_footnote(get_text(link))\n",
    "                            if len(link_text) > 0:\n",
    "                                link_link = get_link(link)\n",
    "                                links.append({\"text\" : link_text, \"link\" : link_link})\n",
    "                        dict_repr[header_text] = {\"text\" : data_text, \"links\" : links}\n",
    "            dictionaries.append(dict_repr)\n",
    "        else:\n",
    "            dict_repr[\"table_not_found\"] = 1\n",
    "            dictionaries.append(dict_repr)\n",
    "    else:\n",
    "        print(status_code)\n",
    "        dict_repr[\"status_code\"] = status_code\n",
    "        dictionaries.append(dict_repr)"
   ]
  },
  {
   "cell_type": "code",
   "execution_count": 20,
   "metadata": {},
   "outputs": [
    {
     "data": {
      "text/plain": [
       "2794"
      ]
     },
     "execution_count": 20,
     "metadata": {},
     "output_type": "execute_result"
    }
   ],
   "source": [
    "len(dictionaries)"
   ]
  },
  {
   "cell_type": "code",
   "execution_count": 22,
   "metadata": {},
   "outputs": [
    {
     "data": {
      "text/plain": [
       "{'name': 'Lupe Fiasco',\n",
       " 'songkick_url': 'https://www.songkick.com/artists/268664-lupe-fiasco',\n",
       " 'wiki_title': 'Lupe Fiasco',\n",
       " 'wiki_url': 'https://en.wikipedia.org/wiki/Lupe Fiasco',\n",
       " 'Birth name': {'text': 'Wasalu Muhammad Jaco', 'links': []},\n",
       " 'Also known as': {'text': 'Double J[1]', 'links': []},\n",
       " 'Born': {'text': '(1982-02-16) February 16, 1982 (age\\xa038)Chicago, Illinois, U.S.',\n",
       "  'links': [{'text': 'Chicago', 'link': '/wiki/Chicago'},\n",
       "   {'text': 'Illinois', 'link': '/wiki/Illinois'}]},\n",
       " 'Genres': {'text': 'Hip hop',\n",
       "  'links': [{'text': 'Hip hop', 'link': '/wiki/Hip_hop_music'}]},\n",
       " 'Occupation(s)': {'text': 'Rapper\\nrecord producer\\nsongwriter\\nentrepreneur\\nactivist',\n",
       "  'links': []},\n",
       " 'Instruments': {'text': 'Vocals\\nkeyboards\\nsampler\\npiano',\n",
       "  'links': [{'text': 'Vocals', 'link': '/wiki/Rapping'},\n",
       "   {'text': 'keyboards', 'link': '/wiki/Keyboard_instrument'},\n",
       "   {'text': 'sampler', 'link': '/wiki/Sampler_(musical_instrument)'},\n",
       "   {'text': 'piano', 'link': '/wiki/Piano'}]},\n",
       " 'Years active': {'text': '2000–present', 'links': []},\n",
       " 'Labels': {'text': '1st & 15th\\nThe Orchard\\nThirty Tigers (current)\\nAtlantic (former)',\n",
       "  'links': [{'text': 'The Orchard', 'link': '/wiki/The_Orchard_(company)'},\n",
       "   {'text': 'Thirty Tigers', 'link': '/wiki/Thirty_Tigers'},\n",
       "   {'text': 'Atlantic', 'link': '/wiki/Atlantic_Records'}]},\n",
       " 'Associated acts': {'text': 'All City Chess Club\\nChild Rebel Soldier\\nJapanese Cartoon\\nDemarco Castle\\nGuy Sebastian\\nMatthew Santos\\nNikki Jean\\nPoo Bear\\nSway\\nTy Dolla Sign',\n",
       "  'links': [{'text': 'All City Chess Club', 'link': '#All_City_Chess_Club'},\n",
       "   {'text': 'Child Rebel Soldier', 'link': '/wiki/Child_Rebel_Soldier'},\n",
       "   {'text': 'Japanese Cartoon', 'link': '/wiki/Japanese_Cartoon_(band)'},\n",
       "   {'text': 'Demarco Castle', 'link': '/wiki/Demarco_Castle'},\n",
       "   {'text': 'Guy Sebastian', 'link': '/wiki/Guy_Sebastian'},\n",
       "   {'text': 'Matthew Santos', 'link': '/wiki/Matthew_Santos'},\n",
       "   {'text': 'Nikki Jean', 'link': '/wiki/Nikki_Jean'},\n",
       "   {'text': 'Poo Bear', 'link': '/wiki/Poo_Bear'},\n",
       "   {'text': 'Sway', 'link': '/wiki/Sway_(musician)'},\n",
       "   {'text': 'Ty Dolla Sign', 'link': '/wiki/Ty_Dolla_Sign'}]},\n",
       " 'Website': {'text': 'lupefiasco.com',\n",
       "  'links': [{'text': 'lupefiasco.com', 'link': 'https://lupefiasco.com'}]}}"
      ]
     },
     "execution_count": 22,
     "metadata": {},
     "output_type": "execute_result"
    }
   ],
   "source": [
    "dictionaries[1]"
   ]
  },
  {
   "cell_type": "code",
   "execution_count": 23,
   "metadata": {},
   "outputs": [],
   "source": [
    "with open(\"part_2.p\", \"wb\") as f:\n",
    "    data = {\"found_search\" : found_search, \n",
    "            \"dictionaries\" : dictionaries, \n",
    "            \"count\" : len(dictionaries)}\n",
    "    pickle.dump(data, f)"
   ]
  },
  {
   "cell_type": "code",
   "execution_count": null,
   "metadata": {},
   "outputs": [],
   "source": []
  }
 ],
 "metadata": {
  "kernelspec": {
   "display_name": "Python 3",
   "language": "python",
   "name": "python3"
  },
  "language_info": {
   "codemirror_mode": {
    "name": "ipython",
    "version": 3
   },
   "file_extension": ".py",
   "mimetype": "text/x-python",
   "name": "python",
   "nbconvert_exporter": "python",
   "pygments_lexer": "ipython3",
   "version": "3.6.5"
  }
 },
 "nbformat": 4,
 "nbformat_minor": 4
}
