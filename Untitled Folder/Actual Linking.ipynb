{
 "cells": [
  {
   "cell_type": "code",
   "execution_count": 16,
   "metadata": {},
   "outputs": [],
   "source": [
    "import jsonlines\n",
    "import requests\n",
    "import csv\n",
    "from bs4 import BeautifulSoup\n",
    "import pandas as pd\n",
    "import tqdm\n",
    "import random\n",
    "import time\n",
    "import pickle\n",
    "import re"
   ]
  },
  {
   "cell_type": "code",
   "execution_count": 2,
   "metadata": {},
   "outputs": [],
   "source": [
    "name_songkick_url_pairs = []\n",
    "with jsonlines.open('../data_for_558_proj/songkick.jl') as reader:\n",
    "    for obj in reader:\n",
    "        name_songkick_url_pairs.append((obj[\"name\"], obj[\"url\"]))"
   ]
  },
  {
   "cell_type": "code",
   "execution_count": 3,
   "metadata": {},
   "outputs": [],
   "source": [
    "part_1 = name_songkick_url_pairs[:len(name_songkick_url_pairs)//2]\n",
    "part_2 = name_songkick_url_pairs[len(name_songkick_url_pairs)//2:]"
   ]
  },
  {
   "cell_type": "code",
   "execution_count": 4,
   "metadata": {},
   "outputs": [
    {
     "data": {
      "text/plain": [
       "(2793, 2794)"
      ]
     },
     "execution_count": 4,
     "metadata": {},
     "output_type": "execute_result"
    }
   ],
   "source": [
    "len(part_1), len(part_2)"
   ]
  },
  {
   "cell_type": "code",
   "execution_count": 5,
   "metadata": {},
   "outputs": [],
   "source": [
    "with open(\"songkick_names_part1.p\", \"wb\") as f:\n",
    "    pickle.dump(part_1, f)\n",
    "\n",
    "with open(\"songkick_names_part2.p\", \"wb\") as f:\n",
    "    pickle.dump(part_2, f)"
   ]
  },
  {
   "cell_type": "code",
   "execution_count": 6,
   "metadata": {},
   "outputs": [],
   "source": [
    "del name_songkick_url_pairs\n",
    "del part_2"
   ]
  },
  {
   "cell_type": "code",
   "execution_count": 14,
   "metadata": {},
   "outputs": [],
   "source": [
    "def get_text(html_object):\n",
    "    if \"text\" in html_object:\n",
    "        return html_object[\"text\"].strip()\n",
    "    else:\n",
    "        return html_object.get_text().strip()\n",
    "\n",
    "def get_link(html_object):\n",
    "    if \"href\" in html_object.attrs:\n",
    "        return html_object.attrs[\"href\"]\n",
    "    return \"\"\n",
    "\n",
    "def clean_name_of_footnote(text):\n",
    "    return re.sub('\\[\\d+\\]', '', text)"
   ]
  },
  {
   "cell_type": "code",
   "execution_count": 8,
   "metadata": {},
   "outputs": [],
   "source": [
    "occupation_triggers = [\"musician\", \"rapper\", \"vocalist\", \"singer\", \"songwriter\",\n",
    "                  \"record producer\", \"guitarist\", \"pianist\", \"cellist\", \"violinist\",\n",
    "                  \"bassist\", \"drummer\", \"dj\", \"remixer\", \"saxophonist\", \"trumpet\",\n",
    "                  \"clarinetist\", \"trombonist\", \"popstar\", \"rocker\", \"songwriter\", \"band\"]\n",
    "\n",
    "genre_triggers = []\n",
    "\n",
    "with open(\"musicbrainz_genres.csv\") as f:\n",
    "    reader = csv.reader(f)\n",
    "    for row in reader:\n",
    "        genre_triggers.append(row[0].lower())"
   ]
  },
  {
   "cell_type": "code",
   "execution_count": 9,
   "metadata": {},
   "outputs": [],
   "source": [
    "search_query = \"\"\"\n",
    "https://en.wikipedia.org/w/api.php?action=query&format=json&list=search&srsearch=\n",
    "\"\"\"\n",
    "base_query = \"https://en.wikipedia.org/wiki/\""
   ]
  },
  {
   "cell_type": "code",
   "execution_count": 10,
   "metadata": {},
   "outputs": [
    {
     "data": {
      "text/plain": [
       "('Snow Tha Product',\n",
       " 'https://www.songkick.com/artists/4078461-snow-tha-product')"
      ]
     },
     "execution_count": 10,
     "metadata": {},
     "output_type": "execute_result"
    }
   ],
   "source": [
    "part_1[118]"
   ]
  },
  {
   "cell_type": "code",
   "execution_count": null,
   "metadata": {},
   "outputs": [],
   "source": []
  },
  {
   "cell_type": "code",
   "execution_count": null,
   "metadata": {},
   "outputs": [],
   "source": []
  },
  {
   "cell_type": "code",
   "execution_count": 19,
   "metadata": {},
   "outputs": [
    {
     "name": "stderr",
     "output_type": "stream",
     "text": [
      "  4%|▎         | 100/2793 [01:07<35:39,  1.26it/s]"
     ]
    },
    {
     "name": "stdout",
     "output_type": "stream",
     "text": [
      "Sleeping for 14\n",
      "done sleeping\n"
     ]
    },
    {
     "name": "stderr",
     "output_type": "stream",
     "text": [
      "  7%|▋         | 200/2793 [02:35<1:06:49,  1.55s/it]"
     ]
    },
    {
     "name": "stdout",
     "output_type": "stream",
     "text": [
      "Sleeping for 13\n",
      "done sleeping\n"
     ]
    },
    {
     "name": "stderr",
     "output_type": "stream",
     "text": [
      " 11%|█         | 300/2793 [03:47<21:38,  1.92it/s]  "
     ]
    },
    {
     "name": "stdout",
     "output_type": "stream",
     "text": [
      "Sleeping for 6\n",
      "done sleeping\n"
     ]
    },
    {
     "name": "stderr",
     "output_type": "stream",
     "text": [
      " 14%|█▍        | 400/2793 [04:54<26:44,  1.49it/s]  "
     ]
    },
    {
     "name": "stdout",
     "output_type": "stream",
     "text": [
      "Sleeping for 14\n",
      "done sleeping\n"
     ]
    },
    {
     "name": "stderr",
     "output_type": "stream",
     "text": [
      " 18%|█▊        | 500/2793 [06:05<17:37,  2.17it/s]  "
     ]
    },
    {
     "name": "stdout",
     "output_type": "stream",
     "text": [
      "Sleeping for 1\n",
      "done sleeping\n"
     ]
    },
    {
     "name": "stderr",
     "output_type": "stream",
     "text": [
      " 21%|██▏       | 600/2793 [07:04<21:23,  1.71it/s]"
     ]
    },
    {
     "name": "stdout",
     "output_type": "stream",
     "text": [
      "Sleeping for 5\n",
      "done sleeping\n"
     ]
    },
    {
     "name": "stderr",
     "output_type": "stream",
     "text": [
      " 25%|██▌       | 700/2793 [08:07<29:07,  1.20it/s]  "
     ]
    },
    {
     "name": "stdout",
     "output_type": "stream",
     "text": [
      "Sleeping for 12\n",
      "done sleeping\n"
     ]
    },
    {
     "name": "stderr",
     "output_type": "stream",
     "text": [
      " 29%|██▊       | 800/2793 [09:21<16:59,  1.95it/s]  "
     ]
    },
    {
     "name": "stdout",
     "output_type": "stream",
     "text": [
      "Sleeping for 17\n",
      "done sleeping\n"
     ]
    },
    {
     "name": "stderr",
     "output_type": "stream",
     "text": [
      " 32%|███▏      | 900/2793 [10:34<13:52,  2.27it/s]  "
     ]
    },
    {
     "name": "stdout",
     "output_type": "stream",
     "text": [
      "Sleeping for 6\n",
      "done sleeping\n"
     ]
    },
    {
     "name": "stderr",
     "output_type": "stream",
     "text": [
      " 36%|███▌      | 1000/2793 [11:42<16:28,  1.81it/s] "
     ]
    },
    {
     "name": "stdout",
     "output_type": "stream",
     "text": [
      "Sleeping for 14\n",
      "done sleeping\n"
     ]
    },
    {
     "name": "stderr",
     "output_type": "stream",
     "text": [
      " 39%|███▉      | 1100/2793 [12:58<18:37,  1.52it/s]  "
     ]
    },
    {
     "name": "stdout",
     "output_type": "stream",
     "text": [
      "Sleeping for 19\n",
      "done sleeping\n"
     ]
    },
    {
     "name": "stderr",
     "output_type": "stream",
     "text": [
      " 43%|████▎     | 1200/2793 [14:13<13:47,  1.93it/s]  "
     ]
    },
    {
     "name": "stdout",
     "output_type": "stream",
     "text": [
      "Sleeping for 4\n",
      "done sleeping\n"
     ]
    },
    {
     "name": "stderr",
     "output_type": "stream",
     "text": [
      " 47%|████▋     | 1300/2793 [15:13<11:41,  2.13it/s]"
     ]
    },
    {
     "name": "stdout",
     "output_type": "stream",
     "text": [
      "Sleeping for 15\n",
      "done sleeping\n"
     ]
    },
    {
     "name": "stderr",
     "output_type": "stream",
     "text": [
      " 50%|█████     | 1400/2793 [16:25<15:59,  1.45it/s]  "
     ]
    },
    {
     "name": "stdout",
     "output_type": "stream",
     "text": [
      "Sleeping for 5\n",
      "done sleeping\n"
     ]
    },
    {
     "name": "stderr",
     "output_type": "stream",
     "text": [
      " 54%|█████▎    | 1500/2793 [17:30<11:05,  1.94it/s]"
     ]
    },
    {
     "name": "stdout",
     "output_type": "stream",
     "text": [
      "Sleeping for 15\n",
      "done sleeping\n"
     ]
    },
    {
     "name": "stderr",
     "output_type": "stream",
     "text": [
      " 57%|█████▋    | 1600/2793 [18:48<18:35,  1.07it/s]  "
     ]
    },
    {
     "name": "stdout",
     "output_type": "stream",
     "text": [
      "Sleeping for 14\n",
      "done sleeping\n"
     ]
    },
    {
     "name": "stderr",
     "output_type": "stream",
     "text": [
      " 61%|██████    | 1700/2793 [20:15<10:15,  1.78it/s]  "
     ]
    },
    {
     "name": "stdout",
     "output_type": "stream",
     "text": [
      "Sleeping for 9\n",
      "done sleeping\n"
     ]
    },
    {
     "name": "stderr",
     "output_type": "stream",
     "text": [
      " 64%|██████▍   | 1800/2793 [21:21<09:22,  1.77it/s]"
     ]
    },
    {
     "name": "stdout",
     "output_type": "stream",
     "text": [
      "Sleeping for 16\n",
      "done sleeping\n"
     ]
    },
    {
     "name": "stderr",
     "output_type": "stream",
     "text": [
      " 68%|██████▊   | 1900/2793 [22:37<08:06,  1.84it/s]  "
     ]
    },
    {
     "name": "stdout",
     "output_type": "stream",
     "text": [
      "Sleeping for 14\n",
      "done sleeping\n"
     ]
    },
    {
     "name": "stderr",
     "output_type": "stream",
     "text": [
      " 72%|███████▏  | 2000/2793 [23:55<09:27,  1.40it/s]  "
     ]
    },
    {
     "name": "stdout",
     "output_type": "stream",
     "text": [
      "Sleeping for 19\n",
      "done sleeping\n"
     ]
    },
    {
     "name": "stderr",
     "output_type": "stream",
     "text": [
      " 75%|███████▌  | 2100/2793 [25:18<06:10,  1.87it/s]  "
     ]
    },
    {
     "name": "stdout",
     "output_type": "stream",
     "text": [
      "Sleeping for 8\n",
      "done sleeping\n"
     ]
    },
    {
     "name": "stderr",
     "output_type": "stream",
     "text": [
      " 79%|███████▉  | 2200/2793 [26:35<05:44,  1.72it/s]"
     ]
    },
    {
     "name": "stdout",
     "output_type": "stream",
     "text": [
      "Sleeping for 17\n",
      "done sleeping\n"
     ]
    },
    {
     "name": "stderr",
     "output_type": "stream",
     "text": [
      " 82%|████████▏ | 2300/2793 [27:56<04:59,  1.65it/s]"
     ]
    },
    {
     "name": "stdout",
     "output_type": "stream",
     "text": [
      "Sleeping for 7\n",
      "done sleeping\n"
     ]
    },
    {
     "name": "stderr",
     "output_type": "stream",
     "text": [
      " 86%|████████▌ | 2400/2793 [29:24<03:59,  1.64it/s]"
     ]
    },
    {
     "name": "stdout",
     "output_type": "stream",
     "text": [
      "Sleeping for 20\n",
      "done sleeping\n"
     ]
    },
    {
     "name": "stderr",
     "output_type": "stream",
     "text": [
      " 90%|████████▉ | 2500/2793 [30:48<03:27,  1.41it/s]"
     ]
    },
    {
     "name": "stdout",
     "output_type": "stream",
     "text": [
      "Sleeping for 9\n",
      "done sleeping\n"
     ]
    },
    {
     "name": "stderr",
     "output_type": "stream",
     "text": [
      " 93%|█████████▎| 2600/2793 [32:04<02:23,  1.35it/s]"
     ]
    },
    {
     "name": "stdout",
     "output_type": "stream",
     "text": [
      "Sleeping for 17\n",
      "done sleeping\n"
     ]
    },
    {
     "name": "stderr",
     "output_type": "stream",
     "text": [
      " 97%|█████████▋| 2700/2793 [33:30<01:01,  1.50it/s]"
     ]
    },
    {
     "name": "stdout",
     "output_type": "stream",
     "text": [
      "Sleeping for 11\n",
      "done sleeping\n"
     ]
    },
    {
     "name": "stderr",
     "output_type": "stream",
     "text": [
      "100%|██████████| 2793/2793 [34:44<00:00,  1.34it/s]\n"
     ]
    }
   ],
   "source": [
    "found_search = []\n",
    "dictionaries = []\n",
    "s = requests.Session()\n",
    "a = requests.adapters.HTTPAdapter(max_retries=5)\n",
    "s.mount('http://', a)\n",
    "s.mount('https://', a)\n",
    "# previous_run_count = 1667\n",
    "# part_1 = part_1[previous_run_count:]\n",
    "\n",
    "for i, name_url in enumerate(tqdm.tqdm(part_1)):\n",
    "    if i % 100 == 0 and i > 0:\n",
    "        sleep_seconds = random.randint(1, 20)\n",
    "        print(\"Sleeping for {}\".format(sleep_seconds))\n",
    "        time.sleep(sleep_seconds)\n",
    "        print(\"done sleeping\")\n",
    "\n",
    "    name = name_url[0]\n",
    "    url = name_url[1]\n",
    "    dict_repr = {\"name\" : name, \"songkick_url\" : url}\n",
    "    title = \"\"\n",
    "    x = s.get(search_query+name, timeout=(3.05, 18.05))\n",
    "    possible_results = x.json()[\"query\"][\"search\"]\n",
    "    for result in possible_results:\n",
    "        r_title = result[\"title\"]\n",
    "        lower_case_title = r_title.lower()\n",
    "        for occupation in occupation_triggers:\n",
    "            if occupation in lower_case_title:\n",
    "                title = r_title\n",
    "                break\n",
    "        if len(title) > 0:\n",
    "            break\n",
    "        snippet = result[\"snippet\"].lower()\n",
    "        for occupation in occupation_triggers:\n",
    "            if occupation in snippet:\n",
    "                title = r_title\n",
    "                break\n",
    "        if len(title) > 0:\n",
    "            break\n",
    "        for genre in genre_triggers:\n",
    "            if genre in snippet:\n",
    "                title = r_title\n",
    "                break\n",
    "\n",
    "    if len(title) > 0:\n",
    "        wiki_url = base_query+title\n",
    "        y = s.get(wiki_url, timeout=(3.05, 18.05))\n",
    "        dict_repr[\"wiki_title\"] = title\n",
    "        dict_repr[\"wiki_url\"] = wiki_url\n",
    "        found_search.append(1)\n",
    "    else:\n",
    "        found_search.append(0)\n",
    "        dictionaries.append(dict_repr)\n",
    "        continue\n",
    "    \n",
    "    status_code = y.status_code\n",
    "    \n",
    "    if status_code == 200:\n",
    "        soup_html = BeautifulSoup(y.text, 'lxml')\n",
    "        info_table = soup_html.find(\"table\", {\"class\": \"infobox\"})\n",
    "        if info_table != None:\n",
    "            rows = info_table.findAll(\"tr\")\n",
    "            for row in rows:\n",
    "                pos_header = row.find(\"th\")\n",
    "                pos_data = row.find(\"td\")\n",
    "                if pos_header != None:\n",
    "                    if pos_data != None:\n",
    "                        header_text = get_text(pos_header)\n",
    "                        data_text = get_text(pos_data)\n",
    "                        row_links = pos_data.findAll(\"a\")\n",
    "                        links = []\n",
    "                        for link in row_links:\n",
    "                            link_text = clean_name_of_footnote(get_text(link))\n",
    "                            if len(link_text) > 0:\n",
    "                                link_link = get_link(link)\n",
    "                                links.append({\"text\" : link_text, \"link\" : link_link})\n",
    "                        dict_repr[header_text] = {\"text\" : data_text, \"links\" : links}\n",
    "            dictionaries.append(dict_repr)\n",
    "        else:\n",
    "            dict_repr[\"table_not_found\"] = 1\n",
    "            dictionaries.append(dict_repr)\n",
    "    else:\n",
    "        print(status_code)\n",
    "        dict_repr[\"status_code\"] = status_code\n",
    "        dictionaries.append(dict_repr)\n",
    "    \n",
    "    "
   ]
  },
  {
   "cell_type": "code",
   "execution_count": 15,
   "metadata": {},
   "outputs": [
    {
     "data": {
      "text/plain": [
       "1667"
      ]
     },
     "execution_count": 15,
     "metadata": {},
     "output_type": "execute_result"
    }
   ],
   "source": [
    "len(dictionaries)"
   ]
  },
  {
   "cell_type": "code",
   "execution_count": 21,
   "metadata": {},
   "outputs": [],
   "source": [
    "with open(\"part_1.p\", \"wb\") as f:\n",
    "    data = {\"found_search\" : found_search, \n",
    "            \"dictionaries\" : dictionaries, \n",
    "            \"count\" : len(dictionaries)}\n",
    "    pickle.dump(data, f)"
   ]
  },
  {
   "cell_type": "code",
   "execution_count": 20,
   "metadata": {},
   "outputs": [
    {
     "data": {
      "text/plain": [
       "{'name': 'The Beach Boys',\n",
       " 'songkick_url': 'https://www.songkick.com/artists/268425-beach-boys',\n",
       " 'wiki_title': 'The Beach Boys',\n",
       " 'wiki_url': 'https://en.wikipedia.org/wiki/The Beach Boys',\n",
       " 'Origin': {'text': 'Hawthorne, California, U.S.',\n",
       "  'links': [{'text': 'Hawthorne, California',\n",
       "    'link': '/wiki/Hawthorne,_California'}]},\n",
       " 'Genres': {'text': 'Rock\\npop\\nsurf\\npsychedelia',\n",
       "  'links': [{'text': 'Rock', 'link': '/wiki/Rock_music'},\n",
       "   {'text': 'pop', 'link': '/wiki/Pop_music'},\n",
       "   {'text': 'surf', 'link': '/wiki/Surf_music'},\n",
       "   {'text': 'psychedelia', 'link': '/wiki/Psychedelic_music'}]},\n",
       " 'Years active': {'text': '1961–present', 'links': []},\n",
       " 'Labels': {'text': 'Candix\\nCapitol\\nBrother\\nReprise\\nCaribou\\nCBS',\n",
       "  'links': [{'text': 'Candix', 'link': '/wiki/Candix_Records'},\n",
       "   {'text': 'Capitol', 'link': '/wiki/Capitol_Records'},\n",
       "   {'text': 'Brother', 'link': '/wiki/Brother_Records'},\n",
       "   {'text': 'Reprise', 'link': '/wiki/Reprise_Records'},\n",
       "   {'text': 'Caribou', 'link': '/wiki/Caribou_Records'},\n",
       "   {'text': 'CBS', 'link': '/wiki/Columbia_Records'}]},\n",
       " 'Associated acts': {'text': 'California Music\\nKenny & the Cadets\\nThe Flames',\n",
       "  'links': [{'text': 'California Music', 'link': '/wiki/California_Music'},\n",
       "   {'text': 'Kenny & the Cadets', 'link': '#Kenny_&_the_Cadets'},\n",
       "   {'text': 'The Flames', 'link': '/wiki/The_Flames'}]},\n",
       " 'Website': {'text': 'thebeachboys.com',\n",
       "  'links': [{'text': 'thebeachboys.com', 'link': 'http://thebeachboys.com'}]},\n",
       " 'Members': {'text': 'Brian Wilson\\nMike Love\\nAl Jardine\\nBruce Johnston',\n",
       "  'links': [{'text': 'Brian Wilson', 'link': '/wiki/Brian_Wilson'},\n",
       "   {'text': 'Mike Love', 'link': '/wiki/Mike_Love'},\n",
       "   {'text': 'Al Jardine', 'link': '/wiki/Al_Jardine'},\n",
       "   {'text': 'Bruce Johnston', 'link': '/wiki/Bruce_Johnston'}]},\n",
       " 'Past members': {'text': 'Carl Wilson\\nDennis Wilson\\nDavid Marks\\nRicky Fataar\\nBlondie Chaplin',\n",
       "  'links': [{'text': 'Carl Wilson', 'link': '/wiki/Carl_Wilson'},\n",
       "   {'text': 'Dennis Wilson', 'link': '/wiki/Dennis_Wilson'},\n",
       "   {'text': 'David Marks', 'link': '/wiki/David_Marks'},\n",
       "   {'text': 'Ricky Fataar', 'link': '/wiki/Ricky_Fataar'},\n",
       "   {'text': 'Blondie Chaplin', 'link': '/wiki/Blondie_Chaplin'}]}}"
      ]
     },
     "execution_count": 20,
     "metadata": {},
     "output_type": "execute_result"
    }
   ],
   "source": [
    "dictionaries[0]"
   ]
  },
  {
   "cell_type": "code",
   "execution_count": null,
   "metadata": {},
   "outputs": [],
   "source": []
  }
 ],
 "metadata": {
  "kernelspec": {
   "display_name": "Python 3",
   "language": "python",
   "name": "python3"
  },
  "language_info": {
   "codemirror_mode": {
    "name": "ipython",
    "version": 3
   },
   "file_extension": ".py",
   "mimetype": "text/x-python",
   "name": "python",
   "nbconvert_exporter": "python",
   "pygments_lexer": "ipython3",
   "version": "3.6.5"
  }
 },
 "nbformat": 4,
 "nbformat_minor": 4
}
