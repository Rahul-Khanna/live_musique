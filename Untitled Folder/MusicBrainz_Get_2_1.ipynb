{
 "cells": [
  {
   "cell_type": "code",
   "execution_count": 1,
   "metadata": {},
   "outputs": [],
   "source": [
    "import jsonlines\n",
    "import requests\n",
    "import csv\n",
    "from bs4 import BeautifulSoup\n",
    "import pandas as pd\n",
    "import tqdm\n",
    "import random\n",
    "import time\n",
    "import pickle\n",
    "import re"
   ]
  },
  {
   "cell_type": "code",
   "execution_count": 2,
   "metadata": {},
   "outputs": [],
   "source": [
    "with open(\"songkick_names_part2_1.p\", \"rb\") as f:\n",
    "    part_2_1 = pickle.load(f)"
   ]
  },
  {
   "cell_type": "code",
   "execution_count": null,
   "metadata": {},
   "outputs": [],
   "source": []
  },
  {
   "cell_type": "code",
   "execution_count": null,
   "metadata": {},
   "outputs": [],
   "source": []
  },
  {
   "cell_type": "code",
   "execution_count": 3,
   "metadata": {},
   "outputs": [],
   "source": [
    "def get_text(html_object):\n",
    "    if \"text\" in html_object:\n",
    "        return html_object[\"text\"].strip()\n",
    "    else:\n",
    "        return html_object.get_text().strip()\n",
    "\n",
    "def get_link(html_object):\n",
    "    if \"href\" in html_object.attrs:\n",
    "        return html_object.attrs[\"href\"]\n",
    "    return \"\"\n",
    "\n",
    "def clean_name_of_footnote(text):\n",
    "    return re.sub('\\[\\d+\\]', '', text)"
   ]
  },
  {
   "cell_type": "code",
   "execution_count": 4,
   "metadata": {},
   "outputs": [],
   "source": [
    "search_query = \"\"\"\n",
    "https://musicbrainz.org/ws/2/artist?fmt=json&query=ARTIST_NAME\n",
    "\"\"\"\n",
    "\n",
    "single_query = \"\"\"\n",
    "https://musicbrainz.org/ws/2/release?fmt=json&artist=ARTIST_ID&type=single&limit=100&offset=OFFSET\n",
    "\"\"\"\n",
    "\n",
    "album_query = \"\"\"\n",
    "https://musicbrainz.org/ws/2/release?fmt=json&artist=ARTIST_ID&type=album&limit=100&offset=OFFSET\n",
    "\"\"\"\n"
   ]
  },
  {
   "cell_type": "code",
   "execution_count": 5,
   "metadata": {},
   "outputs": [
    {
     "data": {
      "text/plain": [
       "'\\nhttps://musicbrainz.org/ws/2/release?fmt=json&artist=ARTIST_ID&type=single&limit=100&offset=OFFSET\\n'"
      ]
     },
     "execution_count": 5,
     "metadata": {},
     "output_type": "execute_result"
    }
   ],
   "source": [
    "single_query"
   ]
  },
  {
   "cell_type": "code",
   "execution_count": 6,
   "metadata": {},
   "outputs": [
    {
     "name": "stderr",
     "output_type": "stream",
     "text": [
      "  7%|▋         | 100/1397 [41:49<11:00:44, 30.57s/it]"
     ]
    },
    {
     "name": "stdout",
     "output_type": "stream",
     "text": [
      "Sleeping for 17\n",
      "done sleeping\n"
     ]
    },
    {
     "name": "stderr",
     "output_type": "stream",
     "text": [
      " 14%|█▍        | 200/1397 [1:23:08<5:38:45, 16.98s/it] "
     ]
    },
    {
     "name": "stdout",
     "output_type": "stream",
     "text": [
      "Sleeping for 15\n",
      "done sleeping\n"
     ]
    },
    {
     "name": "stderr",
     "output_type": "stream",
     "text": [
      " 21%|██▏       | 300/1397 [1:50:09<4:50:47, 15.90s/it]"
     ]
    },
    {
     "name": "stdout",
     "output_type": "stream",
     "text": [
      "Sleeping for 10\n",
      "done sleeping\n"
     ]
    },
    {
     "name": "stderr",
     "output_type": "stream",
     "text": [
      " 29%|██▊       | 400/1397 [2:17:49<4:25:00, 15.95s/it]"
     ]
    },
    {
     "name": "stdout",
     "output_type": "stream",
     "text": [
      "Sleeping for 1\n",
      "done sleeping\n"
     ]
    },
    {
     "name": "stderr",
     "output_type": "stream",
     "text": [
      " 36%|███▌      | 500/1397 [2:45:07<3:54:57, 15.72s/it]"
     ]
    },
    {
     "name": "stdout",
     "output_type": "stream",
     "text": [
      "Sleeping for 20\n",
      "done sleeping\n"
     ]
    },
    {
     "name": "stderr",
     "output_type": "stream",
     "text": [
      " 43%|████▎     | 600/1397 [3:12:43<3:53:03, 17.55s/it]"
     ]
    },
    {
     "name": "stdout",
     "output_type": "stream",
     "text": [
      "Sleeping for 9\n",
      "done sleeping\n"
     ]
    },
    {
     "name": "stderr",
     "output_type": "stream",
     "text": [
      " 50%|█████     | 700/1397 [3:40:12<3:27:50, 17.89s/it]"
     ]
    },
    {
     "name": "stdout",
     "output_type": "stream",
     "text": [
      "Sleeping for 19\n",
      "done sleeping\n"
     ]
    },
    {
     "name": "stderr",
     "output_type": "stream",
     "text": [
      " 57%|█████▋    | 800/1397 [4:08:23<2:41:04, 16.19s/it]"
     ]
    },
    {
     "name": "stdout",
     "output_type": "stream",
     "text": [
      "Sleeping for 11\n",
      "done sleeping\n"
     ]
    },
    {
     "name": "stderr",
     "output_type": "stream",
     "text": [
      " 64%|██████▍   | 900/1397 [4:35:30<2:06:39, 15.29s/it]"
     ]
    },
    {
     "name": "stdout",
     "output_type": "stream",
     "text": [
      "Sleeping for 8\n",
      "done sleeping\n"
     ]
    },
    {
     "name": "stderr",
     "output_type": "stream",
     "text": [
      " 72%|███████▏  | 1000/1397 [5:03:20<1:48:13, 16.36s/it]"
     ]
    },
    {
     "name": "stdout",
     "output_type": "stream",
     "text": [
      "Sleeping for 5\n",
      "done sleeping\n"
     ]
    },
    {
     "name": "stderr",
     "output_type": "stream",
     "text": [
      " 79%|███████▊  | 1100/1397 [5:31:03<1:24:13, 17.01s/it]"
     ]
    },
    {
     "name": "stdout",
     "output_type": "stream",
     "text": [
      "Sleeping for 16\n",
      "done sleeping\n"
     ]
    },
    {
     "name": "stderr",
     "output_type": "stream",
     "text": [
      " 86%|████████▌ | 1200/1397 [5:59:51<1:03:24, 19.31s/it]"
     ]
    },
    {
     "name": "stdout",
     "output_type": "stream",
     "text": [
      "Sleeping for 18\n",
      "done sleeping\n"
     ]
    },
    {
     "name": "stderr",
     "output_type": "stream",
     "text": [
      " 93%|█████████▎| 1300/1397 [6:27:46<27:49, 17.21s/it]  "
     ]
    },
    {
     "name": "stdout",
     "output_type": "stream",
     "text": [
      "Sleeping for 10\n",
      "done sleeping\n"
     ]
    },
    {
     "name": "stderr",
     "output_type": "stream",
     "text": [
      "100%|██████████| 1397/1397 [6:54:31<00:00, 17.80s/it]\n"
     ]
    }
   ],
   "source": [
    "dictionaries = []\n",
    "s = requests.Session()\n",
    "a = requests.adapters.HTTPAdapter(max_retries=5)\n",
    "s.mount('http://', a)\n",
    "s.mount('https://', a)\n",
    "s.headers = {'User-Agent': 'LiveMusique-beta/1.0.0 ( https://github.com/rahul-khanna )'}\n",
    "\n",
    "for i, name_url in enumerate(tqdm.tqdm(part_2_1)):\n",
    "    if i % 100 == 0 and i > 0:\n",
    "        sleep_seconds = random.randint(1, 20)\n",
    "        print(\"Sleeping for {}\".format(sleep_seconds))\n",
    "        time.sleep(sleep_seconds)\n",
    "        print(\"done sleeping\")\n",
    "\n",
    "    name = name_url[0]\n",
    "    url = name_url[1]\n",
    "    dict_repr = {\"name\" : name, \"songkick_url\" : url}\n",
    "    updated_search_url = search_query.replace(\"ARTIST_NAME\", name)\n",
    "    x = s.get(updated_search_url, timeout=(3.05, 18.05))\n",
    "    possible_results = x.json()[\"artists\"]\n",
    "    artist_id = \"\"\n",
    "    artist_class = \"\"\n",
    "    for result in possible_results:\n",
    "        if \"type\" in result:\n",
    "            type_of_entity = result[\"type\"]\n",
    "            if type_of_entity == \"Person\":\n",
    "                artist_id = result[\"id\"]\n",
    "                if \"gender\" in result:\n",
    "                    artist_class = result[\"gender\"]\n",
    "                break\n",
    "            elif type_of_entity == \"Group\":\n",
    "                artist_id = result[\"id\"]\n",
    "                artist_class = \"group\"\n",
    "                break\n",
    "\n",
    "    if len(artist_id) > 0:\n",
    "        dict_repr[\"mb_id\"] = artist_id\n",
    "        dict_repr[\"mb_class\"] = artist_class\n",
    "        \n",
    "        offset = 0\n",
    "        cont = True\n",
    "        updated_single_query = single_query.replace(\"ARTIST_ID\", artist_id)\n",
    "        artist_singles = []\n",
    "        while cont:\n",
    "            time.sleep(4)\n",
    "            updated_single_query_offset = updated_single_query.replace(\"OFFSET\", str(offset))\n",
    "            y = s.get(updated_single_query_offset, timeout=(3.05, 18.05))\n",
    "            singles = y.json()[\"releases\"]\n",
    "            if len(singles):\n",
    "                for single in singles:\n",
    "                    single_facts = {\"title\" : single[\"title\"], \"id\" : single[\"id\"]}\n",
    "                    if \"date\" in single:\n",
    "                        single_facts[\"date\"] = single[\"date\"]\n",
    "                    artist_singles.append(single_facts)\n",
    "                offset = offset + 100\n",
    "            else:\n",
    "                cont = False\n",
    "        \n",
    "        if len(artist_singles):\n",
    "            dict_repr[\"singles\"] = artist_singles\n",
    "        \n",
    "        offset = 0\n",
    "        cont = True\n",
    "        updated_album_query = album_query.replace(\"ARTIST_ID\", artist_id)\n",
    "        artist_albums = []\n",
    "        while cont:\n",
    "            time.sleep(4)\n",
    "            updated_album_query_offset = updated_album_query.replace(\"OFFSET\", str(offset))\n",
    "            y = s.get(updated_album_query_offset, timeout=(3.05, 18.05))\n",
    "            albums = y.json()[\"releases\"]\n",
    "            if len(albums):\n",
    "                for album in albums:\n",
    "                    album_facts = {\"title\" : album[\"title\"], \"id\" : album[\"id\"]}\n",
    "                    if \"date\" in album:\n",
    "                        album_facts[\"date\"] = album[\"date\"]\n",
    "                    artist_albums.append(album_facts)\n",
    "                offset = offset + 100\n",
    "            else:\n",
    "                cont = False\n",
    "        \n",
    "        if len(artist_albums):\n",
    "            dict_repr[\"albums\"] = artist_albums\n",
    "        \n",
    "    dictionaries.append(dict_repr)\n",
    "        "
   ]
  },
  {
   "cell_type": "code",
   "execution_count": 18,
   "metadata": {},
   "outputs": [],
   "source": [
    "# dictionaries[26]"
   ]
  },
  {
   "cell_type": "code",
   "execution_count": 7,
   "metadata": {},
   "outputs": [],
   "source": [
    "with open(\"mb_data/mb_2_1.p\", \"wb\") as f:\n",
    "    pickle.dump(dictionaries, f)"
   ]
  },
  {
   "cell_type": "code",
   "execution_count": null,
   "metadata": {},
   "outputs": [],
   "source": []
  }
 ],
 "metadata": {
  "kernelspec": {
   "display_name": "Python 3",
   "language": "python",
   "name": "python3"
  },
  "language_info": {
   "codemirror_mode": {
    "name": "ipython",
    "version": 3
   },
   "file_extension": ".py",
   "mimetype": "text/x-python",
   "name": "python",
   "nbconvert_exporter": "python",
   "pygments_lexer": "ipython3",
   "version": "3.6.5"
  }
 },
 "nbformat": 4,
 "nbformat_minor": 4
}
