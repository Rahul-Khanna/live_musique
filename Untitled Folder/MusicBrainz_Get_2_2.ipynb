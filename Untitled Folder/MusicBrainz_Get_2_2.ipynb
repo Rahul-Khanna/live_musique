{
 "cells": [
  {
   "cell_type": "code",
   "execution_count": 1,
   "metadata": {},
   "outputs": [],
   "source": [
    "import jsonlines\n",
    "import requests\n",
    "import csv\n",
    "from bs4 import BeautifulSoup\n",
    "import pandas as pd\n",
    "import tqdm\n",
    "import random\n",
    "import time\n",
    "import pickle\n",
    "import re"
   ]
  },
  {
   "cell_type": "code",
   "execution_count": 2,
   "metadata": {},
   "outputs": [],
   "source": [
    "with open(\"songkick_names_part2_2.p\", \"rb\") as f:\n",
    "    part_2_2 = pickle.load(f)"
   ]
  },
  {
   "cell_type": "code",
   "execution_count": null,
   "metadata": {},
   "outputs": [],
   "source": []
  },
  {
   "cell_type": "code",
   "execution_count": null,
   "metadata": {},
   "outputs": [],
   "source": []
  },
  {
   "cell_type": "code",
   "execution_count": 3,
   "metadata": {},
   "outputs": [],
   "source": [
    "def get_text(html_object):\n",
    "    if \"text\" in html_object:\n",
    "        return html_object[\"text\"].strip()\n",
    "    else:\n",
    "        return html_object.get_text().strip()\n",
    "\n",
    "def get_link(html_object):\n",
    "    if \"href\" in html_object.attrs:\n",
    "        return html_object.attrs[\"href\"]\n",
    "    return \"\"\n",
    "\n",
    "def clean_name_of_footnote(text):\n",
    "    return re.sub('\\[\\d+\\]', '', text)"
   ]
  },
  {
   "cell_type": "code",
   "execution_count": 4,
   "metadata": {},
   "outputs": [],
   "source": [
    "search_query = \"\"\"\n",
    "https://musicbrainz.org/ws/2/artist?fmt=json&query=ARTIST_NAME\n",
    "\"\"\"\n",
    "\n",
    "single_query = \"\"\"\n",
    "https://musicbrainz.org/ws/2/release?fmt=json&artist=ARTIST_ID&type=single&limit=100&offset=OFFSET\n",
    "\"\"\"\n",
    "\n",
    "album_query = \"\"\"\n",
    "https://musicbrainz.org/ws/2/release?fmt=json&artist=ARTIST_ID&type=album&limit=100&offset=OFFSET\n",
    "\"\"\"\n"
   ]
  },
  {
   "cell_type": "code",
   "execution_count": 5,
   "metadata": {},
   "outputs": [
    {
     "data": {
      "text/plain": [
       "'\\nhttps://musicbrainz.org/ws/2/release?fmt=json&artist=ARTIST_ID&type=single&limit=100&offset=OFFSET\\n'"
      ]
     },
     "execution_count": 5,
     "metadata": {},
     "output_type": "execute_result"
    }
   ],
   "source": [
    "single_query"
   ]
  },
  {
   "cell_type": "code",
   "execution_count": 6,
   "metadata": {},
   "outputs": [
    {
     "name": "stderr",
     "output_type": "stream",
     "text": [
      "  7%|▋         | 100/1397 [27:28<5:37:12, 15.60s/it]"
     ]
    },
    {
     "name": "stdout",
     "output_type": "stream",
     "text": [
      "Sleeping for 16\n",
      "done sleeping\n"
     ]
    },
    {
     "name": "stderr",
     "output_type": "stream",
     "text": [
      " 14%|█▍        | 200/1397 [55:05<5:05:53, 15.33s/it]"
     ]
    },
    {
     "name": "stdout",
     "output_type": "stream",
     "text": [
      "Sleeping for 7\n",
      "done sleeping\n"
     ]
    },
    {
     "name": "stderr",
     "output_type": "stream",
     "text": [
      " 21%|██▏       | 300/1397 [1:22:40<5:06:57, 16.79s/it]"
     ]
    },
    {
     "name": "stdout",
     "output_type": "stream",
     "text": [
      "Sleeping for 11\n",
      "done sleeping\n"
     ]
    },
    {
     "name": "stderr",
     "output_type": "stream",
     "text": [
      " 29%|██▊       | 400/1397 [1:51:09<4:20:36, 15.68s/it]"
     ]
    },
    {
     "name": "stdout",
     "output_type": "stream",
     "text": [
      "Sleeping for 18\n",
      "done sleeping\n"
     ]
    },
    {
     "name": "stderr",
     "output_type": "stream",
     "text": [
      " 36%|███▌      | 500/1397 [2:18:49<4:15:56, 17.12s/it]"
     ]
    },
    {
     "name": "stdout",
     "output_type": "stream",
     "text": [
      "Sleeping for 8\n",
      "done sleeping\n"
     ]
    },
    {
     "name": "stderr",
     "output_type": "stream",
     "text": [
      " 43%|████▎     | 600/1397 [2:47:11<3:23:32, 15.32s/it]"
     ]
    },
    {
     "name": "stdout",
     "output_type": "stream",
     "text": [
      "Sleeping for 1\n",
      "done sleeping\n"
     ]
    },
    {
     "name": "stderr",
     "output_type": "stream",
     "text": [
      " 50%|█████     | 700/1397 [3:15:22<3:12:04, 16.53s/it]"
     ]
    },
    {
     "name": "stdout",
     "output_type": "stream",
     "text": [
      "Sleeping for 17\n",
      "done sleeping\n"
     ]
    },
    {
     "name": "stderr",
     "output_type": "stream",
     "text": [
      " 57%|█████▋    | 800/1397 [3:43:28<2:54:57, 17.58s/it]"
     ]
    },
    {
     "name": "stdout",
     "output_type": "stream",
     "text": [
      "Sleeping for 5\n",
      "done sleeping\n"
     ]
    },
    {
     "name": "stderr",
     "output_type": "stream",
     "text": [
      " 64%|██████▍   | 900/1397 [4:11:44<2:29:53, 18.10s/it]"
     ]
    },
    {
     "name": "stdout",
     "output_type": "stream",
     "text": [
      "Sleeping for 11\n",
      "done sleeping\n"
     ]
    },
    {
     "name": "stderr",
     "output_type": "stream",
     "text": [
      " 72%|███████▏  | 1000/1397 [4:42:43<1:39:54, 15.10s/it]"
     ]
    },
    {
     "name": "stdout",
     "output_type": "stream",
     "text": [
      "Sleeping for 18\n",
      "done sleeping\n"
     ]
    },
    {
     "name": "stderr",
     "output_type": "stream",
     "text": [
      " 79%|███████▊  | 1100/1397 [5:10:03<1:28:25, 17.86s/it]"
     ]
    },
    {
     "name": "stdout",
     "output_type": "stream",
     "text": [
      "Sleeping for 4\n",
      "done sleeping\n"
     ]
    },
    {
     "name": "stderr",
     "output_type": "stream",
     "text": [
      " 86%|████████▌ | 1200/1397 [5:37:42<1:07:59, 20.71s/it]"
     ]
    },
    {
     "name": "stdout",
     "output_type": "stream",
     "text": [
      "Sleeping for 16\n",
      "done sleeping\n"
     ]
    },
    {
     "name": "stderr",
     "output_type": "stream",
     "text": [
      " 93%|█████████▎| 1300/1397 [6:05:14<27:02, 16.73s/it]  "
     ]
    },
    {
     "name": "stdout",
     "output_type": "stream",
     "text": [
      "Sleeping for 17\n",
      "done sleeping\n"
     ]
    },
    {
     "name": "stderr",
     "output_type": "stream",
     "text": [
      "100%|██████████| 1397/1397 [6:31:44<00:00, 16.82s/it]\n"
     ]
    }
   ],
   "source": [
    "dictionaries = []\n",
    "s = requests.Session()\n",
    "a = requests.adapters.HTTPAdapter(max_retries=5)\n",
    "s.mount('http://', a)\n",
    "s.mount('https://', a)\n",
    "s.headers = {'User-Agent': 'LiveMusique-beta/1.0.0 ( https://github.com/rahul-khanna )'}\n",
    "\n",
    "for i, name_url in enumerate(tqdm.tqdm(part_2_2)):\n",
    "    if i % 100 == 0 and i > 0:\n",
    "        sleep_seconds = random.randint(1, 20)\n",
    "        print(\"Sleeping for {}\".format(sleep_seconds))\n",
    "        time.sleep(sleep_seconds)\n",
    "        print(\"done sleeping\")\n",
    "\n",
    "    name = name_url[0]\n",
    "    url = name_url[1]\n",
    "    dict_repr = {\"name\" : name, \"songkick_url\" : url}\n",
    "    updated_search_url = search_query.replace(\"ARTIST_NAME\", name)\n",
    "    x = s.get(updated_search_url, timeout=(3.05, 18.05))\n",
    "    possible_results = x.json()[\"artists\"]\n",
    "    artist_id = \"\"\n",
    "    artist_class = \"\"\n",
    "    for result in possible_results:\n",
    "        if \"type\" in result:\n",
    "            type_of_entity = result[\"type\"]\n",
    "            if type_of_entity == \"Person\":\n",
    "                artist_id = result[\"id\"]\n",
    "                if \"gender\" in result:\n",
    "                    artist_class = result[\"gender\"]\n",
    "                break\n",
    "            elif type_of_entity == \"Group\":\n",
    "                artist_id = result[\"id\"]\n",
    "                artist_class = \"group\"\n",
    "                break\n",
    "\n",
    "    if len(artist_id) > 0:\n",
    "        dict_repr[\"mb_id\"] = artist_id\n",
    "        dict_repr[\"mb_class\"] = artist_class\n",
    "        \n",
    "        offset = 0\n",
    "        cont = True\n",
    "        updated_single_query = single_query.replace(\"ARTIST_ID\", artist_id)\n",
    "        artist_singles = []\n",
    "        while cont:\n",
    "            time.sleep(4)\n",
    "            updated_single_query_offset = updated_single_query.replace(\"OFFSET\", str(offset))\n",
    "            y = s.get(updated_single_query_offset, timeout=(3.05, 18.05))\n",
    "            singles = y.json()[\"releases\"]\n",
    "            if len(singles):\n",
    "                for single in singles:\n",
    "                    single_facts = {\"title\" : single[\"title\"], \"id\" : single[\"id\"]}\n",
    "                    if \"date\" in single:\n",
    "                        single_facts[\"date\"] = single[\"date\"]\n",
    "                    artist_singles.append(single_facts)\n",
    "                offset = offset + 100\n",
    "            else:\n",
    "                cont = False\n",
    "        \n",
    "        if len(artist_singles):\n",
    "            dict_repr[\"singles\"] = artist_singles\n",
    "        \n",
    "        offset = 0\n",
    "        cont = True\n",
    "        updated_album_query = album_query.replace(\"ARTIST_ID\", artist_id)\n",
    "        artist_albums = []\n",
    "        while cont:\n",
    "            time.sleep(4)\n",
    "            updated_album_query_offset = updated_album_query.replace(\"OFFSET\", str(offset))\n",
    "            y = s.get(updated_album_query_offset, timeout=(3.05, 18.05))\n",
    "            albums = y.json()[\"releases\"]\n",
    "            if len(albums):\n",
    "                for album in albums:\n",
    "                    album_facts = {\"title\" : album[\"title\"], \"id\" : album[\"id\"]}\n",
    "                    if \"date\" in album:\n",
    "                        album_facts[\"date\"] = album[\"date\"]\n",
    "                    artist_albums.append(album_facts)\n",
    "                offset = offset + 100\n",
    "            else:\n",
    "                cont = False\n",
    "        \n",
    "        if len(artist_albums):\n",
    "            dict_repr[\"albums\"] = artist_albums\n",
    "        \n",
    "    dictionaries.append(dict_repr)\n",
    "        "
   ]
  },
  {
   "cell_type": "code",
   "execution_count": 7,
   "metadata": {},
   "outputs": [],
   "source": [
    "with open(\"mb_data/mb_2_2.p\", \"wb\") as f:\n",
    "    pickle.dump(dictionaries, f)\n",
    "    \n",
    "    \n",
    "    "
   ]
  },
  {
   "cell_type": "code",
   "execution_count": 8,
   "metadata": {},
   "outputs": [
    {
     "data": {
      "text/plain": [
       "('Hot Since 82', 'https://www.songkick.com/artists/5101163-hot-since-82')"
      ]
     },
     "execution_count": 8,
     "metadata": {},
     "output_type": "execute_result"
    }
   ],
   "source": [
    "part_2_2[63]"
   ]
  },
  {
   "cell_type": "code",
   "execution_count": 10,
   "metadata": {},
   "outputs": [
    {
     "data": {
      "text/plain": [
       "('Kruder & Dorfmeister',\n",
       " 'https://www.songkick.com/artists/81918-kruder-and-dorfmeister')"
      ]
     },
     "execution_count": 10,
     "metadata": {},
     "output_type": "execute_result"
    }
   ],
   "source": [
    "part_2_2[61]"
   ]
  },
  {
   "cell_type": "code",
   "execution_count": null,
   "metadata": {},
   "outputs": [],
   "source": []
  }
 ],
 "metadata": {
  "kernelspec": {
   "display_name": "Python 3",
   "language": "python",
   "name": "python3"
  },
  "language_info": {
   "codemirror_mode": {
    "name": "ipython",
    "version": 3
   },
   "file_extension": ".py",
   "mimetype": "text/x-python",
   "name": "python",
   "nbconvert_exporter": "python",
   "pygments_lexer": "ipython3",
   "version": "3.6.5"
  }
 },
 "nbformat": 4,
 "nbformat_minor": 4
}
