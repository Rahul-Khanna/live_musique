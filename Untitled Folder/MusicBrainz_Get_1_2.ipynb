{
 "cells": [
  {
   "cell_type": "code",
   "execution_count": 1,
   "metadata": {},
   "outputs": [],
   "source": [
    "import jsonlines\n",
    "import requests\n",
    "import csv\n",
    "from bs4 import BeautifulSoup\n",
    "import pandas as pd\n",
    "import tqdm\n",
    "import random\n",
    "import time\n",
    "import pickle\n",
    "import re"
   ]
  },
  {
   "cell_type": "code",
   "execution_count": 2,
   "metadata": {},
   "outputs": [],
   "source": [
    "with open(\"songkick_names_part1_2.p\", \"rb\") as f:\n",
    "    part_1_2 = pickle.load(f)"
   ]
  },
  {
   "cell_type": "code",
   "execution_count": null,
   "metadata": {},
   "outputs": [],
   "source": []
  },
  {
   "cell_type": "code",
   "execution_count": null,
   "metadata": {},
   "outputs": [],
   "source": []
  },
  {
   "cell_type": "code",
   "execution_count": 3,
   "metadata": {},
   "outputs": [],
   "source": [
    "def get_text(html_object):\n",
    "    if \"text\" in html_object:\n",
    "        return html_object[\"text\"].strip()\n",
    "    else:\n",
    "        return html_object.get_text().strip()\n",
    "\n",
    "def get_link(html_object):\n",
    "    if \"href\" in html_object.attrs:\n",
    "        return html_object.attrs[\"href\"]\n",
    "    return \"\"\n",
    "\n",
    "def clean_name_of_footnote(text):\n",
    "    return re.sub('\\[\\d+\\]', '', text)"
   ]
  },
  {
   "cell_type": "code",
   "execution_count": 4,
   "metadata": {},
   "outputs": [],
   "source": [
    "search_query = \"\"\"\n",
    "https://musicbrainz.org/ws/2/artist?fmt=json&query=ARTIST_NAME\n",
    "\"\"\"\n",
    "\n",
    "single_query = \"\"\"\n",
    "https://musicbrainz.org/ws/2/release?fmt=json&artist=ARTIST_ID&type=single&limit=100&offset=OFFSET\n",
    "\"\"\"\n",
    "\n",
    "album_query = \"\"\"\n",
    "https://musicbrainz.org/ws/2/release?fmt=json&artist=ARTIST_ID&type=album&limit=100&offset=OFFSET\n",
    "\"\"\"\n"
   ]
  },
  {
   "cell_type": "code",
   "execution_count": 5,
   "metadata": {},
   "outputs": [
    {
     "data": {
      "text/plain": [
       "'\\nhttps://musicbrainz.org/ws/2/release?fmt=json&artist=ARTIST_ID&type=single&limit=100&offset=OFFSET\\n'"
      ]
     },
     "execution_count": 5,
     "metadata": {},
     "output_type": "execute_result"
    }
   ],
   "source": [
    "single_query"
   ]
  },
  {
   "cell_type": "code",
   "execution_count": 6,
   "metadata": {},
   "outputs": [
    {
     "name": "stderr",
     "output_type": "stream",
     "text": [
      "  7%|▋         | 100/1397 [29:06<6:15:06, 17.35s/it]"
     ]
    },
    {
     "name": "stdout",
     "output_type": "stream",
     "text": [
      "Sleeping for 10\n",
      "done sleeping\n"
     ]
    },
    {
     "name": "stderr",
     "output_type": "stream",
     "text": [
      " 14%|█▍        | 200/1397 [59:29<5:57:01, 17.90s/it]"
     ]
    },
    {
     "name": "stdout",
     "output_type": "stream",
     "text": [
      "Sleeping for 5\n",
      "done sleeping\n"
     ]
    },
    {
     "name": "stderr",
     "output_type": "stream",
     "text": [
      " 21%|██▏       | 300/1397 [1:28:57<6:04:18, 19.93s/it]"
     ]
    },
    {
     "name": "stdout",
     "output_type": "stream",
     "text": [
      "Sleeping for 7\n",
      "done sleeping\n"
     ]
    },
    {
     "name": "stderr",
     "output_type": "stream",
     "text": [
      " 29%|██▊       | 400/1397 [1:59:08<4:38:45, 16.78s/it]"
     ]
    },
    {
     "name": "stdout",
     "output_type": "stream",
     "text": [
      "Sleeping for 18\n",
      "done sleeping\n"
     ]
    },
    {
     "name": "stderr",
     "output_type": "stream",
     "text": [
      " 36%|███▌      | 500/1397 [2:29:48<4:02:08, 16.20s/it]"
     ]
    },
    {
     "name": "stdout",
     "output_type": "stream",
     "text": [
      "Sleeping for 15\n",
      "done sleeping\n"
     ]
    },
    {
     "name": "stderr",
     "output_type": "stream",
     "text": [
      " 43%|████▎     | 600/1397 [3:01:22<3:52:15, 17.48s/it]"
     ]
    },
    {
     "name": "stdout",
     "output_type": "stream",
     "text": [
      "Sleeping for 11\n",
      "done sleeping\n"
     ]
    },
    {
     "name": "stderr",
     "output_type": "stream",
     "text": [
      " 50%|█████     | 700/1397 [3:32:01<4:09:22, 21.47s/it]"
     ]
    },
    {
     "name": "stdout",
     "output_type": "stream",
     "text": [
      "Sleeping for 13\n",
      "done sleeping\n"
     ]
    },
    {
     "name": "stderr",
     "output_type": "stream",
     "text": [
      " 57%|█████▋    | 800/1397 [4:04:15<3:19:40, 20.07s/it]"
     ]
    },
    {
     "name": "stdout",
     "output_type": "stream",
     "text": [
      "Sleeping for 3\n",
      "done sleeping\n"
     ]
    },
    {
     "name": "stderr",
     "output_type": "stream",
     "text": [
      " 64%|██████▍   | 900/1397 [4:35:37<2:31:19, 18.27s/it]"
     ]
    },
    {
     "name": "stdout",
     "output_type": "stream",
     "text": [
      "Sleeping for 4\n",
      "done sleeping\n"
     ]
    },
    {
     "name": "stderr",
     "output_type": "stream",
     "text": [
      " 72%|███████▏  | 1000/1397 [5:06:34<2:14:28, 20.32s/it]"
     ]
    },
    {
     "name": "stdout",
     "output_type": "stream",
     "text": [
      "Sleeping for 15\n",
      "done sleeping\n"
     ]
    },
    {
     "name": "stderr",
     "output_type": "stream",
     "text": [
      " 79%|███████▊  | 1100/1397 [5:38:44<1:25:25, 17.26s/it]"
     ]
    },
    {
     "name": "stdout",
     "output_type": "stream",
     "text": [
      "Sleeping for 6\n",
      "done sleeping\n"
     ]
    },
    {
     "name": "stderr",
     "output_type": "stream",
     "text": [
      " 86%|████████▌ | 1200/1397 [6:11:54<58:23, 17.79s/it]  "
     ]
    },
    {
     "name": "stdout",
     "output_type": "stream",
     "text": [
      "Sleeping for 14\n",
      "done sleeping\n"
     ]
    },
    {
     "name": "stderr",
     "output_type": "stream",
     "text": [
      " 93%|█████████▎| 1300/1397 [6:45:46<35:50, 22.17s/it]  "
     ]
    },
    {
     "name": "stdout",
     "output_type": "stream",
     "text": [
      "Sleeping for 10\n",
      "done sleeping\n"
     ]
    },
    {
     "name": "stderr",
     "output_type": "stream",
     "text": [
      "100%|██████████| 1397/1397 [7:20:37<00:00, 18.92s/it]\n"
     ]
    }
   ],
   "source": [
    "dictionaries = []\n",
    "s = requests.Session()\n",
    "a = requests.adapters.HTTPAdapter(max_retries=5)\n",
    "s.mount('http://', a)\n",
    "s.mount('https://', a)\n",
    "s.headers = {'User-Agent': 'LiveMusique/1.0.0 ( https://github.com/rahul-khanna )'}\n",
    "\n",
    "for i, name_url in enumerate(tqdm.tqdm(part_1_2)):\n",
    "    if i % 100 == 0 and i > 0:\n",
    "        sleep_seconds = random.randint(1, 20)\n",
    "        print(\"Sleeping for {}\".format(sleep_seconds))\n",
    "        time.sleep(sleep_seconds)\n",
    "        print(\"done sleeping\")\n",
    "\n",
    "    name = name_url[0]\n",
    "    url = name_url[1]\n",
    "    dict_repr = {\"name\" : name, \"songkick_url\" : url}\n",
    "    updated_search_url = search_query.replace(\"ARTIST_NAME\", name)\n",
    "    x = s.get(updated_search_url, timeout=(3.05, 18.05))\n",
    "    possible_results = x.json()[\"artists\"]\n",
    "    artist_id = \"\"\n",
    "    artist_class = \"\"\n",
    "    for result in possible_results:\n",
    "        if \"type\" in result:\n",
    "            type_of_entity = result[\"type\"]\n",
    "            if type_of_entity == \"Person\":\n",
    "                artist_id = result[\"id\"]\n",
    "                if \"gender\" in result:\n",
    "                    artist_class = result[\"gender\"]\n",
    "                break\n",
    "            elif type_of_entity == \"Group\":\n",
    "                artist_id = result[\"id\"]\n",
    "                artist_class = \"group\"\n",
    "                break\n",
    "\n",
    "    if len(artist_id) > 0:\n",
    "        dict_repr[\"mb_id\"] = artist_id\n",
    "        dict_repr[\"mb_class\"] = artist_class\n",
    "        \n",
    "        offset = 0\n",
    "        cont = True\n",
    "        updated_single_query = single_query.replace(\"ARTIST_ID\", artist_id)\n",
    "        artist_singles = []\n",
    "        while cont:\n",
    "            time.sleep(4)\n",
    "            updated_single_query_offset = updated_single_query.replace(\"OFFSET\", str(offset))\n",
    "            y = s.get(updated_single_query_offset, timeout=(3.05, 18.05))\n",
    "            singles = y.json()[\"releases\"]\n",
    "            if len(singles):\n",
    "                for single in singles:\n",
    "                    single_facts = {\"title\" : single[\"title\"], \"id\" : single[\"id\"]}\n",
    "                    if \"date\" in single:\n",
    "                        single_facts[\"date\"] = single[\"date\"]\n",
    "                    artist_singles.append(single_facts)\n",
    "                offset = offset + 100\n",
    "            else:\n",
    "                cont = False\n",
    "        \n",
    "        if len(artist_singles):\n",
    "            dict_repr[\"singles\"] = artist_singles\n",
    "        \n",
    "        offset = 0\n",
    "        cont = True\n",
    "        updated_album_query = album_query.replace(\"ARTIST_ID\", artist_id)\n",
    "        artist_albums = []\n",
    "        while cont:\n",
    "            time.sleep(4)\n",
    "            updated_album_query_offset = updated_album_query.replace(\"OFFSET\", str(offset))\n",
    "            y = s.get(updated_album_query_offset, timeout=(3.05, 18.05))\n",
    "            albums = y.json()[\"releases\"]\n",
    "            if len(albums):\n",
    "                for album in albums:\n",
    "                    album_facts = {\"title\" : album[\"title\"], \"id\" : album[\"id\"]}\n",
    "                    if \"date\" in album:\n",
    "                        album_facts[\"date\"] = album[\"date\"]\n",
    "                    artist_albums.append(album_facts)\n",
    "                offset = offset + 100\n",
    "            else:\n",
    "                cont = False\n",
    "        \n",
    "        if len(artist_albums):\n",
    "            dict_repr[\"albums\"] = artist_albums\n",
    "        \n",
    "    dictionaries.append(dict_repr)\n",
    "        "
   ]
  },
  {
   "cell_type": "code",
   "execution_count": 7,
   "metadata": {},
   "outputs": [],
   "source": [
    "with open(\"mb_data/mb_1_2.p\", \"wb\") as f:\n",
    "    pickle.dump(dictionaries, f)"
   ]
  },
  {
   "cell_type": "code",
   "execution_count": 9,
   "metadata": {},
   "outputs": [],
   "source": [
    "# dictionaries[1396]"
   ]
  },
  {
   "cell_type": "code",
   "execution_count": null,
   "metadata": {},
   "outputs": [],
   "source": []
  }
 ],
 "metadata": {
  "kernelspec": {
   "display_name": "Python 3",
   "language": "python",
   "name": "python3"
  },
  "language_info": {
   "codemirror_mode": {
    "name": "ipython",
    "version": 3
   },
   "file_extension": ".py",
   "mimetype": "text/x-python",
   "name": "python",
   "nbconvert_exporter": "python",
   "pygments_lexer": "ipython3",
   "version": "3.6.5"
  }
 },
 "nbformat": 4,
 "nbformat_minor": 4
}
