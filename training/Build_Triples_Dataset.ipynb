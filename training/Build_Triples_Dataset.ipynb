{
 "cells": [
  {
   "cell_type": "code",
   "execution_count": 3,
   "metadata": {},
   "outputs": [],
   "source": [
    "import pickle\n",
    "import random"
   ]
  },
  {
   "cell_type": "code",
   "execution_count": 4,
   "metadata": {},
   "outputs": [],
   "source": [
    "# random.seed(42)"
   ]
  },
  {
   "cell_type": "code",
   "execution_count": 5,
   "metadata": {},
   "outputs": [],
   "source": [
    "with open(\"data/positive_labels.p\", \"rb\") as f:\n",
    "    positive_labels = pickle.load(f)\n",
    "\n",
    "with open(\"data/positive_labels_per_artist.p\", \"rb\") as f:\n",
    "    positive_labels_per_artist = pickle.load(f)\n",
    "\n",
    "with open(\"data/artist_dict.p\", \"rb\") as f:\n",
    "    artist_dict = pickle.load(f)\n",
    "\n",
    "with open(\"data/artist_names.p\", \"rb\") as f:\n",
    "    artist_names = pickle.load(f)"
   ]
  },
  {
   "cell_type": "code",
   "execution_count": 6,
   "metadata": {},
   "outputs": [],
   "source": [
    "from sklearn.model_selection import train_test_split\n",
    "import torch"
   ]
  },
  {
   "cell_type": "code",
   "execution_count": 7,
   "metadata": {},
   "outputs": [],
   "source": [
    "train, dev = train_test_split(positive_labels, train_size=0.8, random_state=42)\n",
    "dev, test = train_test_split(dev, train_size=0.5, random_state=42)"
   ]
  },
  {
   "cell_type": "code",
   "execution_count": 8,
   "metadata": {},
   "outputs": [],
   "source": [
    "def create_triples(name_pairs, all_names, artist_dict, positive_labels_per_artist):\n",
    "    anchor_ids = []\n",
    "    positive_ids = []\n",
    "    negative_ids = []\n",
    "    not_found = []\n",
    "    for i, pair in enumerate(name_pairs):\n",
    "        anchor_name = pair[0]\n",
    "        positive_name = pair[1]\n",
    "        if anchor_name in artist_dict and positive_name in artist_dict:\n",
    "            anchor_id = artist_dict[anchor_name]\n",
    "            positive_id = artist_dict[pair[1]]\n",
    "            random.seed(i)\n",
    "#             count = 0\n",
    "            while True:\n",
    "                sample = random.sample(all_names, 1)[0]\n",
    "                if sample not in positive_labels_per_artist[anchor_name]:\n",
    "                    negative_id = artist_dict[sample]\n",
    "                    break\n",
    "            anchor_ids.append(anchor_id)\n",
    "            positive_ids.append(positive_id)\n",
    "            negative_ids.append(negative_id)\n",
    "#                     count += 1\n",
    "        else:\n",
    "            not_found.append(pair)\n",
    "        \n",
    "    return anchor_ids, positive_ids, negative_ids, not_found"
   ]
  },
  {
   "cell_type": "code",
   "execution_count": 9,
   "metadata": {},
   "outputs": [],
   "source": [
    "# len(train), len(train_a_ids)"
   ]
  },
  {
   "cell_type": "code",
   "execution_count": 10,
   "metadata": {},
   "outputs": [],
   "source": [
    "train_a_ids, train_p_ids, train_n_ids, train_not_found = create_triples(train, \n",
    "                                                                        artist_names, \n",
    "                                                                        artist_dict, \n",
    "                                                                  positive_labels_per_artist)\n"
   ]
  },
  {
   "cell_type": "code",
   "execution_count": 11,
   "metadata": {},
   "outputs": [],
   "source": [
    "dev_a_ids, dev_p_ids, dev_n_ids, dev_not_found = create_triples(dev, \n",
    "                                                                artist_names, \n",
    "                                                                artist_dict, \n",
    "                                                                positive_labels_per_artist)\n"
   ]
  },
  {
   "cell_type": "code",
   "execution_count": 12,
   "metadata": {},
   "outputs": [],
   "source": [
    "test_a_ids, test_p_ids, test_n_ids, test_not_found = create_triples(test, \n",
    "                                                                  artist_names, \n",
    "                                                                  artist_dict, \n",
    "                                                                  positive_labels_per_artist)\n"
   ]
  },
  {
   "cell_type": "code",
   "execution_count": null,
   "metadata": {},
   "outputs": [],
   "source": []
  },
  {
   "cell_type": "code",
   "execution_count": 13,
   "metadata": {},
   "outputs": [],
   "source": [
    "train_a_ids = torch.tensor(train_a_ids).unsqueeze(1)\n",
    "train_p_ids = torch.tensor(train_p_ids).unsqueeze(1)\n",
    "train_n_ids = torch.tensor(train_n_ids).unsqueeze(1)\n",
    "\n",
    "dev_a_ids = torch.tensor(dev_a_ids).unsqueeze(1)\n",
    "dev_p_ids = torch.tensor(dev_p_ids).unsqueeze(1)\n",
    "dev_n_ids = torch.tensor(dev_n_ids).unsqueeze(1)\n",
    "\n",
    "test_a_ids = torch.tensor(test_a_ids).unsqueeze(1)\n",
    "test_p_ids = torch.tensor(test_p_ids).unsqueeze(1)\n",
    "test_n_ids = torch.tensor(test_n_ids).unsqueeze(1)\n",
    "\n",
    "\n",
    "with open(\"data/og_train.p\", \"wb\") as f:\n",
    "    data = {\n",
    "        \"a_ids\" : train_a_ids,\n",
    "        \"p_ids\" : train_p_ids,\n",
    "        \"n_ids\" : train_n_ids\n",
    "    }\n",
    "    pickle.dump(data, f)\n",
    "\n",
    "with open(\"data/og_dev.p\", \"wb\") as f:\n",
    "    data = {\n",
    "        \"a_ids\" : dev_a_ids,\n",
    "        \"p_ids\" : dev_p_ids,\n",
    "        \"n_ids\" : dev_n_ids\n",
    "    }\n",
    "    pickle.dump(data, f)\n",
    "\n",
    "with open(\"data/og_test.p\", \"wb\") as f:\n",
    "    data = {\n",
    "        \"a_ids\" : test_a_ids,\n",
    "        \"p_ids\" : test_p_ids,\n",
    "        \"n_ids\" : test_n_ids\n",
    "    }\n",
    "    pickle.dump(data, f)"
   ]
  },
  {
   "cell_type": "code",
   "execution_count": null,
   "metadata": {},
   "outputs": [],
   "source": []
  }
 ],
 "metadata": {
  "kernelspec": {
   "display_name": "Python 3",
   "language": "python",
   "name": "python3"
  },
  "language_info": {
   "codemirror_mode": {
    "name": "ipython",
    "version": 3
   },
   "file_extension": ".py",
   "mimetype": "text/x-python",
   "name": "python",
   "nbconvert_exporter": "python",
   "pygments_lexer": "ipython3",
   "version": "3.6.5"
  }
 },
 "nbformat": 4,
 "nbformat_minor": 4
}
