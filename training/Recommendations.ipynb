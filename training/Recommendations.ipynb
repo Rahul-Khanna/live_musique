{
 "cells": [
  {
   "cell_type": "code",
   "execution_count": 1,
   "metadata": {},
   "outputs": [],
   "source": [
    "import pickle"
   ]
  },
  {
   "cell_type": "code",
   "execution_count": 9,
   "metadata": {},
   "outputs": [],
   "source": [
    "with open(\"data/recommendations_per_artist_scores.p\", \"rb\") as f:\n",
    "    recommendations_per_artist_scores = pickle.load(f)"
   ]
  },
  {
   "cell_type": "code",
   "execution_count": 10,
   "metadata": {},
   "outputs": [],
   "source": [
    "with open(\"data/recommendations_per_artist_names.p\", \"rb\") as f:\n",
    "    recommendations_per_artist_names = pickle.load(f)"
   ]
  },
  {
   "cell_type": "code",
   "execution_count": 11,
   "metadata": {},
   "outputs": [],
   "source": [
    "with open(\"data/artists_per_city\", \"rb\") as f:\n",
    "    artists_per_city = pickle.load(f)"
   ]
  },
  {
   "cell_type": "code",
   "execution_count": 12,
   "metadata": {},
   "outputs": [],
   "source": [
    "with open(\"data/artists_per_genre\", \"rb\") as f:\n",
    "    artists_per_genre = pickle.load(f)"
   ]
  },
  {
   "cell_type": "code",
   "execution_count": 13,
   "metadata": {},
   "outputs": [],
   "source": [
    "with open(\"data/artists_per_label\", \"rb\") as f:\n",
    "    artists_per_label = pickle.load(f)"
   ]
  },
  {
   "cell_type": "code",
   "execution_count": 14,
   "metadata": {},
   "outputs": [],
   "source": [
    "import random\n",
    "random.seed(42)"
   ]
  },
  {
   "cell_type": "code",
   "execution_count": 33,
   "metadata": {},
   "outputs": [],
   "source": [
    "def get_artists(name):\n",
    "    name = name.lower()\n",
    "    possible_artists = []\n",
    "    for artist in recommendations_per_artist_names:\n",
    "        if artist.startswith(name):\n",
    "            possible_artists.append(artist)\n",
    "    return possible_artists"
   ]
  },
  {
   "cell_type": "code",
   "execution_count": 34,
   "metadata": {},
   "outputs": [],
   "source": [
    "def get_genres(name):\n",
    "    name = name.lower()\n",
    "    possible_genres = []\n",
    "    for genre in artists_per_genre:\n",
    "        if genre.startswith(name):\n",
    "            possible_genres.append(genre)\n",
    "    return possible_genres"
   ]
  },
  {
   "cell_type": "code",
   "execution_count": 35,
   "metadata": {},
   "outputs": [],
   "source": [
    "def get_record_label(name):\n",
    "    name = name.lower()\n",
    "    possible_labels = []\n",
    "    for label in artists_per_label:\n",
    "        if label.startswith(name):\n",
    "            possible_labels.append(label)\n",
    "    return possible_labels"
   ]
  },
  {
   "cell_type": "code",
   "execution_count": 36,
   "metadata": {},
   "outputs": [],
   "source": [
    "def get_city(name):\n",
    "    name = name.lower()\n",
    "    possible_cities = []\n",
    "    for city in artists_per_city:\n",
    "        if city.startswith(name):\n",
    "            possible_cities.append(city)\n",
    "    return possible_cities"
   ]
  },
  {
   "cell_type": "code",
   "execution_count": 37,
   "metadata": {},
   "outputs": [],
   "source": [
    "def get_recommendations(artist, city=None, genre=None, label=None):\n",
    "    artist = artist.lower()\n",
    "    if artist not in recommendations_per_artist_names:\n",
    "        return []\n",
    "    all_recommendations = set(recommendations_per_artist_names[artist])\n",
    "    \n",
    "    if city is not None:\n",
    "        city = city.lower()\n",
    "        if city in artists_per_city:\n",
    "            accepetable_artists = set(list(artists_per_city[city].keys()))\n",
    "            all_recommendations = accepetable_artists.intersection(all_recommendations)\n",
    "        else:\n",
    "            return []\n",
    "    \n",
    "    if genre is not None:\n",
    "        genre = genre.lower()\n",
    "        if genre in artists_per_genre:\n",
    "            accepetable_artists = set(list(artists_per_genre[genre].keys()))\n",
    "            all_recommendations = accepetable_artists.intersection(all_recommendations)\n",
    "        else:\n",
    "            return []\n",
    "    \n",
    "    if label is not None:\n",
    "        label = label.lower()\n",
    "        if label in artists_per_label:\n",
    "            accepetable_artists = set(list(artists_per_label[label].keys()))\n",
    "            all_recommendations = accepetable_artists.intersection(all_recommendations)\n",
    "        else:\n",
    "            return []\n",
    "    \n",
    "    if len(all_recommendations) > 10:\n",
    "        all_recommendations = random.sample(all_recommendations, 10)\n",
    "    \n",
    "    final_output = []\n",
    "    for name in all_recommendations:\n",
    "        final_output.append((name, recommendations_per_artist_scores[artist][name]))\n",
    "    \n",
    "    return final_output"
   ]
  },
  {
   "cell_type": "code",
   "execution_count": 49,
   "metadata": {},
   "outputs": [
    {
     "data": {
      "text/plain": [
       "[('florida georgia line', 0.83499366),\n",
       " ('old dominion', 0.96941006),\n",
       " ('blanco brown', 0.83937955),\n",
       " ('dustin lynch', 0.9677707),\n",
       " ('kelsea ballerini', 0.92458105),\n",
       " ('sam hunt', 0.8274791),\n",
       " ('luke combs', 0.95037466),\n",
       " ('darius', 0.8113674)]"
      ]
     },
     "execution_count": 49,
     "metadata": {},
     "output_type": "execute_result"
    }
   ],
   "source": [
    "get_recommendations(\"Taylor Swift\", \"Los Angeles\", \"country\")"
   ]
  },
  {
   "cell_type": "code",
   "execution_count": 47,
   "metadata": {},
   "outputs": [
    {
     "data": {
      "text/plain": [
       "['paris']"
      ]
     },
     "execution_count": 47,
     "metadata": {},
     "output_type": "execute_result"
    }
   ],
   "source": [
    "get_city(\"paris\")"
   ]
  },
  {
   "cell_type": "code",
   "execution_count": 44,
   "metadata": {},
   "outputs": [
    {
     "data": {
      "text/plain": [
       "['hippos in tanks', 'hip o']"
      ]
     },
     "execution_count": 44,
     "metadata": {},
     "output_type": "execute_result"
    }
   ],
   "source": [
    "get_record_label(\"hip\")"
   ]
  },
  {
   "cell_type": "code",
   "execution_count": 48,
   "metadata": {},
   "outputs": [
    {
     "data": {
      "text/plain": [
       "['country pop',\n",
       " 'country',\n",
       " 'country folk',\n",
       " 'country rock',\n",
       " 'country rap',\n",
       " 'country music',\n",
       " 'country soul',\n",
       " 'country blues']"
      ]
     },
     "execution_count": 48,
     "metadata": {},
     "output_type": "execute_result"
    }
   ],
   "source": [
    "get_genres(\"country\")"
   ]
  },
  {
   "cell_type": "code",
   "execution_count": null,
   "metadata": {},
   "outputs": [],
   "source": []
  }
 ],
 "metadata": {
  "kernelspec": {
   "display_name": "Python 3",
   "language": "python",
   "name": "python3"
  },
  "language_info": {
   "codemirror_mode": {
    "name": "ipython",
    "version": 3
   },
   "file_extension": ".py",
   "mimetype": "text/x-python",
   "name": "python",
   "nbconvert_exporter": "python",
   "pygments_lexer": "ipython3",
   "version": "3.6.5"
  }
 },
 "nbformat": 4,
 "nbformat_minor": 4
}
