{
 "cells": [
  {
   "cell_type": "code",
   "execution_count": 2,
   "metadata": {},
   "outputs": [],
   "source": [
    "import csv"
   ]
  },
  {
   "cell_type": "code",
   "execution_count": null,
   "metadata": {},
   "outputs": [],
   "source": []
  },
  {
   "cell_type": "code",
   "execution_count": 4,
   "metadata": {},
   "outputs": [
    {
     "name": "stdout",
     "output_type": "stream",
     "text": [
      "['<http://dsci558.org/rahul-zerui-project/413397ba-d40d-3e30-b48a-3cabee0c5fc2>', '<http://dsci558.org/rahul-zerui-project/https://en.wikipedia.org/wiki/Slim>', 'Slim']\n"
     ]
    }
   ],
   "source": [
    "albums = {}\n",
    "with open(\"../data_for_558_proj/jena/albums.tsv\") as f:\n",
    "    reader = csv.reader(f, delimiter='\\t')\n",
    "    for i, row in enumerate(reader):\n",
    "        if i > 0:\n",
    "            if row[1] == \"<http://dsci558.org/rahul-zerui-project/https://en.wikipedia.org/wiki/Slim>\":\n",
    "                print(row)\n",
    "                break\n",
    "            album_uri = row[0]\n",
    "            artist_uri = row[1]\n",
    "            artist_name = row[2]\n",
    "            if album_uri not in albums:\n",
    "                albums[album_uri] = []\n",
    "            albums[album_uri].append({\"uri\" : artist_uri, \"name\" : artist_name})"
   ]
  },
  {
   "cell_type": "code",
   "execution_count": 3,
   "metadata": {},
   "outputs": [],
   "source": [
    "filtered_albums = {}\n",
    "for key in albums:\n",
    "    uris ={}\n",
    "    for artist in albums[key]:\n",
    "        uris[artist[\"uri\"]] = 1\n",
    "    if len(uris) > 1:\n",
    "        filtered_albums[key] = albums[key]"
   ]
  },
  {
   "cell_type": "code",
   "execution_count": 4,
   "metadata": {},
   "outputs": [],
   "source": [
    "del albums"
   ]
  },
  {
   "cell_type": "code",
   "execution_count": 5,
   "metadata": {},
   "outputs": [
    {
     "data": {
      "text/plain": [
       "10042"
      ]
     },
     "execution_count": 5,
     "metadata": {},
     "output_type": "execute_result"
    }
   ],
   "source": [
    "len(filtered_albums)"
   ]
  },
  {
   "cell_type": "code",
   "execution_count": 6,
   "metadata": {},
   "outputs": [],
   "source": [
    "related_artists = {}\n",
    "for key in filtered_albums:\n",
    "    artists = filtered_albums[key]\n",
    "    for i in range(len(artists)):\n",
    "        for j in range(len(artists)):\n",
    "            if i != j:\n",
    "                key = \"*-*-*\".join([artists[i][\"name\"], artists[j][\"name\"]])\n",
    "                related_artists[key] = 1\n",
    "                key = \"*-*-*\".join([artists[j][\"name\"], artists[i][\"name\"]])\n",
    "                related_artists[key] = 1"
   ]
  },
  {
   "cell_type": "code",
   "execution_count": 7,
   "metadata": {},
   "outputs": [
    {
     "data": {
      "text/plain": [
       "2290"
      ]
     },
     "execution_count": 7,
     "metadata": {},
     "output_type": "execute_result"
    }
   ],
   "source": [
    "len(related_artists)"
   ]
  },
  {
   "cell_type": "code",
   "execution_count": 8,
   "metadata": {},
   "outputs": [],
   "source": [
    "songs = {}\n",
    "with open(\"../data_for_558_proj/jena/song.tsv\") as f:\n",
    "    reader = csv.reader(f, delimiter='\\t')\n",
    "    for i, row in enumerate(reader):\n",
    "        if i > 0:\n",
    "            song_uri = row[0]\n",
    "            artist_uri = row[1]\n",
    "            artist_name = row[2]\n",
    "            if song_uri not in songs:\n",
    "                songs[song_uri] = []\n",
    "            songs[song_uri].append({\"uri\" : artist_uri, \"name\" : artist_name})"
   ]
  },
  {
   "cell_type": "code",
   "execution_count": 9,
   "metadata": {},
   "outputs": [],
   "source": [
    "filtered_songs = {}\n",
    "for key in songs:\n",
    "    uris ={}\n",
    "    for artist in songs[key]:\n",
    "        uris[artist[\"uri\"]] = 1\n",
    "    if len(uris) > 1:\n",
    "        filtered_songs[key] = songs[key]"
   ]
  },
  {
   "cell_type": "code",
   "execution_count": 10,
   "metadata": {},
   "outputs": [
    {
     "data": {
      "text/plain": [
       "9464"
      ]
     },
     "execution_count": 10,
     "metadata": {},
     "output_type": "execute_result"
    }
   ],
   "source": [
    "len(filtered_songs)"
   ]
  },
  {
   "cell_type": "code",
   "execution_count": 11,
   "metadata": {},
   "outputs": [],
   "source": [
    "del songs"
   ]
  },
  {
   "cell_type": "code",
   "execution_count": 12,
   "metadata": {},
   "outputs": [],
   "source": [
    "for key in filtered_songs:\n",
    "    artists = filtered_songs[key]\n",
    "    for i in range(len(artists)):\n",
    "        for j in range(len(artists)):\n",
    "            if i != j:\n",
    "                key = \"*-*-*\".join([artists[i][\"name\"], artists[j][\"name\"]])\n",
    "                related_artists[key] = 1\n",
    "                key = \"*-*-*\".join([artists[j][\"name\"], artists[i][\"name\"]])\n",
    "                related_artists[key] = 1"
   ]
  },
  {
   "cell_type": "code",
   "execution_count": 13,
   "metadata": {},
   "outputs": [
    {
     "data": {
      "text/plain": [
       "19504"
      ]
     },
     "execution_count": 13,
     "metadata": {},
     "output_type": "execute_result"
    }
   ],
   "source": [
    "len(related_artists)"
   ]
  },
  {
   "cell_type": "code",
   "execution_count": 14,
   "metadata": {},
   "outputs": [],
   "source": [
    "with open(\"../data_for_558_proj/jena/appears_often_with.tsv\") as f:\n",
    "    reader = csv.reader(f, delimiter='\\t')\n",
    "    for i, row in enumerate(reader):\n",
    "        if i > 0 and len(row) == 3:\n",
    "            artist_one = row[1]\n",
    "            artist_two = row[2]\n",
    "            key = \"*-*-*\".join([artist_one, artist_two])\n",
    "            related_artists[key] = 1\n",
    "            key = \"*-*-*\".join([artist_two, artist_one])\n",
    "            related_artists[key] = 1"
   ]
  },
  {
   "cell_type": "code",
   "execution_count": 15,
   "metadata": {},
   "outputs": [
    {
     "data": {
      "text/plain": [
       "44896"
      ]
     },
     "execution_count": 15,
     "metadata": {},
     "output_type": "execute_result"
    }
   ],
   "source": [
    "len(related_artists)"
   ]
  },
  {
   "cell_type": "code",
   "execution_count": 16,
   "metadata": {},
   "outputs": [],
   "source": [
    "with open(\"../data_for_558_proj/jena/similar_artists.tsv\") as f:\n",
    "    reader = csv.reader(f, delimiter='\\t')\n",
    "    for i, row in enumerate(reader):\n",
    "        if i > 0 and len(row) == 3:\n",
    "            artist_one = row[1]\n",
    "            artist_two = row[2]\n",
    "            key = \"*-*-*\".join([artist_one, artist_two])\n",
    "            related_artists[key] = 1\n",
    "            key = \"*-*-*\".join([artist_two, artist_one])\n",
    "            related_artists[key] = 1"
   ]
  },
  {
   "cell_type": "code",
   "execution_count": 17,
   "metadata": {},
   "outputs": [
    {
     "data": {
      "text/plain": [
       "123318"
      ]
     },
     "execution_count": 17,
     "metadata": {},
     "output_type": "execute_result"
    }
   ],
   "source": [
    "len(related_artists)"
   ]
  },
  {
   "cell_type": "code",
   "execution_count": 26,
   "metadata": {},
   "outputs": [],
   "source": [
    "positive_labels = []\n",
    "labels_per_artist = {}\n",
    "for key in related_artists:\n",
    "    parts = key.split(\"*-*-*\")\n",
    "    positive_labels.append([parts[0], parts[1]])\n",
    "    if parts[0] not in labels_per_artist:\n",
    "        labels_per_artist[parts[0]] = {}\n",
    "    labels_per_artist[parts[0]][parts[1]] = 1"
   ]
  },
  {
   "cell_type": "code",
   "execution_count": 27,
   "metadata": {},
   "outputs": [],
   "source": [
    "import pickle\n",
    "with open(\"data/positive_labels.p\", \"wb\") as f:\n",
    "    pickle.dump(positive_labels, f)"
   ]
  },
  {
   "cell_type": "code",
   "execution_count": 28,
   "metadata": {},
   "outputs": [],
   "source": [
    "with open(\"data/positive_labels_per_artist.p\", \"wb\") as f:\n",
    "    pickle.dump(labels_per_artist, f)"
   ]
  },
  {
   "cell_type": "code",
   "execution_count": null,
   "metadata": {},
   "outputs": [],
   "source": []
  },
  {
   "cell_type": "code",
   "execution_count": null,
   "metadata": {},
   "outputs": [],
   "source": []
  }
 ],
 "metadata": {
  "kernelspec": {
   "display_name": "Python 3",
   "language": "python",
   "name": "python3"
  },
  "language_info": {
   "codemirror_mode": {
    "name": "ipython",
    "version": 3
   },
   "file_extension": ".py",
   "mimetype": "text/x-python",
   "name": "python",
   "nbconvert_exporter": "python",
   "pygments_lexer": "ipython3",
   "version": "3.6.5"
  }
 },
 "nbformat": 4,
 "nbformat_minor": 4
}
