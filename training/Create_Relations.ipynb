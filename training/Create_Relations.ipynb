{
 "cells": [
  {
   "cell_type": "code",
   "execution_count": 1,
   "metadata": {},
   "outputs": [],
   "source": [
    "import csv"
   ]
  },
  {
   "cell_type": "code",
   "execution_count": 2,
   "metadata": {},
   "outputs": [
    {
     "name": "stdout",
     "output_type": "stream",
     "text": [
      "['?subject', '?name', '?year', '?band', '?gender']\n",
      "['<http://dsci558.org/rahul-zerui-project/https://en.wikipedia.org/wiki/Royce-da-59>', 'Royce da 5\\'9\\\\\"\\t1995\\tfalse\\tmale\"']\n"
     ]
    }
   ],
   "source": [
    "artist_info = {}\n",
    "with open(\"../data_for_558_proj/jena/general.tsv\") as f:\n",
    "    reader = csv.reader(f, delimiter='\\t')\n",
    "    for i, row in enumerate(reader):\n",
    "        if i > 0 and len(row) == 5:\n",
    "            artist_uri = row[0]\n",
    "            artist_name = row[1]\n",
    "            artist_start_year = row[2]\n",
    "            artist_band = row[3]\n",
    "            artist_gender = row[4]\n",
    "            \n",
    "            if artist_uri not in artist_info:\n",
    "                artist_info[artist_uri] = []\n",
    "            artist_info[artist_uri].append([artist_name, artist_start_year, artist_band, artist_gender])\n",
    "        else:\n",
    "            print(row)\n",
    "        "
   ]
  },
  {
   "cell_type": "code",
   "execution_count": 3,
   "metadata": {},
   "outputs": [
    {
     "data": {
      "text/plain": [
       "5384"
      ]
     },
     "execution_count": 3,
     "metadata": {},
     "output_type": "execute_result"
    }
   ],
   "source": [
    "len(artist_info)"
   ]
  },
  {
   "cell_type": "code",
   "execution_count": 4,
   "metadata": {},
   "outputs": [],
   "source": [
    "def convert_general_row(row):\n",
    "    output_dict = {\n",
    "        \"name\" : row[0],\n",
    "        \"band\" : row[2]\n",
    "    }\n",
    "    if len(row[1]) > 0:\n",
    "        output_dict[\"start_year\"] = row[1]\n",
    "    \n",
    "    if len(row[3]) > 0:\n",
    "        output_dict[\"gender\"] = row[3]\n",
    "    \n",
    "    return output_dict"
   ]
  },
  {
   "cell_type": "code",
   "execution_count": 5,
   "metadata": {},
   "outputs": [],
   "source": [
    "fixed_artists = {}\n",
    "for artist in artist_info:\n",
    "    if len(artist_info[artist]) > 1:\n",
    "        parts = artist.split(\"/\")\n",
    "        wiki_url = parts[len(parts)-1].replace(\"-\", \" \").lower()\n",
    "        rows = artist_info[artist]\n",
    "        for row in rows:\n",
    "            if row[0].lower() in wiki_url:\n",
    "                is_band = row[2] == 'true'\n",
    "                gender_len = len(row[3])\n",
    "                if (is_band and gender_len == 0) or (not is_band and gender_len > 0):\n",
    "                    key = \"-\".join([artist, row[0]])\n",
    "                    fixed_artists[key] = convert_general_row(row)\n",
    "                    break\n",
    "#                 print(type(row[3]))\n",
    "                \n",
    "    else:\n",
    "        key = \"-\".join([artist, artist_info[artist][0][0]])\n",
    "        fixed_artists[key] = convert_general_row(artist_info[artist][0])\n",
    "#         weird_artists.append(artist)\n",
    "#         print((artist, artist_info[artist]))"
   ]
  },
  {
   "cell_type": "code",
   "execution_count": 6,
   "metadata": {},
   "outputs": [
    {
     "data": {
      "text/plain": [
       "5370"
      ]
     },
     "execution_count": 6,
     "metadata": {},
     "output_type": "execute_result"
    }
   ],
   "source": [
    "len(fixed_artists)"
   ]
  },
  {
   "cell_type": "code",
   "execution_count": 19,
   "metadata": {},
   "outputs": [],
   "source": [
    "cities = {}"
   ]
  },
  {
   "cell_type": "code",
   "execution_count": 20,
   "metadata": {},
   "outputs": [
    {
     "name": "stdout",
     "output_type": "stream",
     "text": [
      "['?subject', '?name', '?entity_name']\n",
      "['<http://dsci558.org/rahul-zerui-project/https://en.wikipedia.org/wiki/Royce-da-59>', 'Royce da 5\\'9\\\\\"\\tNew York\"']\n",
      "['<http://dsci558.org/rahul-zerui-project/https://en.wikipedia.org/wiki/Royce-da-59>', 'Royce da 5\\'9\\\\\"\\tHouston\"']\n",
      "['<http://dsci558.org/rahul-zerui-project/https://en.wikipedia.org/wiki/Royce-da-59>', 'Royce da 5\\'9\\\\\"\\tDallas - Fort Worth\"']\n",
      "['<http://dsci558.org/rahul-zerui-project/https://en.wikipedia.org/wiki/Royce-da-59>', 'Royce da 5\\'9\\\\\"\\tManchester\"']\n",
      "['<http://dsci558.org/rahul-zerui-project/https://en.wikipedia.org/wiki/Royce-da-59>', 'Royce da 5\\'9\\\\\"\\tDetroit\"']\n"
     ]
    }
   ],
   "source": [
    "with open(\"../data_for_558_proj/jena/cities.tsv\") as f:\n",
    "    reader = csv.reader(f, delimiter='\\t')\n",
    "    for i, row in enumerate(reader):\n",
    "        if i > 0 and len(row) == 3:\n",
    "            artist_uri = row[0]\n",
    "            artist_name = row[1]\n",
    "            city_name = row[2].lower().replace(\"-\", \" \")\n",
    "            key = \"-\".join([artist_uri, artist_name])\n",
    "            if key in fixed_artists:\n",
    "                if city_name.lower() not in cities:\n",
    "                    cities[city_name.lower()] = {}\n",
    "                cities[city_name.lower()][artist_name.lower()] = 1\n",
    "                if \"cities\" not in fixed_artists[key]:\n",
    "                    fixed_artists[key][\"cities\"] = {}\n",
    "                fixed_artists[key][\"cities\"][city_name] = 1\n",
    "        else:\n",
    "            print(row)\n",
    "                    \n",
    "        "
   ]
  },
  {
   "cell_type": "code",
   "execution_count": 21,
   "metadata": {},
   "outputs": [],
   "source": [
    "# list(cities.keys())[:10]"
   ]
  },
  {
   "cell_type": "code",
   "execution_count": 22,
   "metadata": {},
   "outputs": [],
   "source": [
    "import pickle"
   ]
  },
  {
   "cell_type": "code",
   "execution_count": 23,
   "metadata": {},
   "outputs": [],
   "source": [
    "with open(\"data/artists_per_city\", \"wb\") as f:\n",
    "    pickle.dump(cities, f)"
   ]
  },
  {
   "cell_type": "code",
   "execution_count": 25,
   "metadata": {},
   "outputs": [],
   "source": [
    "genres = {}"
   ]
  },
  {
   "cell_type": "code",
   "execution_count": 26,
   "metadata": {},
   "outputs": [
    {
     "name": "stdout",
     "output_type": "stream",
     "text": [
      "['?subject', '?name', '?entity_name']\n",
      "['<http://dsci558.org/rahul-zerui-project/https://en.wikipedia.org/wiki/Royce-da-59>', 'Royce da 5\\'9\\\\\"\\tEast Coast Hip hop\"']\n",
      "['<http://dsci558.org/rahul-zerui-project/https://en.wikipedia.org/wiki/Royce-da-59>', 'Royce da 5\\'9\\\\\"\\tHip–hop\"']\n",
      "['<http://dsci558.org/rahul-zerui-project/https://en.wikipedia.org/wiki/Royce-da-59>', 'Royce da 5\\'9\\\\\"\\tHip-Hop\"']\n",
      "['<http://dsci558.org/rahul-zerui-project/https://en.wikipedia.org/wiki/Royce-da-59>', 'Royce da 5\\'9\\\\\"\\thip-hop\"']\n",
      "['<http://dsci558.org/rahul-zerui-project/https://en.wikipedia.org/wiki/Royce-da-59>', 'Royce da 5\\'9\\\\\"\\tHip-hop\"']\n",
      "['<http://dsci558.org/rahul-zerui-project/https://en.wikipedia.org/wiki/Royce-da-59>', 'Royce da 5\\'9\\\\\"\\tHip Hop\"']\n",
      "['<http://dsci558.org/rahul-zerui-project/https://en.wikipedia.org/wiki/Royce-da-59>', 'Royce da 5\\'9\\\\\"\\trap\"']\n",
      "['<http://dsci558.org/rahul-zerui-project/https://en.wikipedia.org/wiki/Royce-da-59>', 'Royce da 5\\'9\\\\\"\\tHip hop\"']\n",
      "['<http://dsci558.org/rahul-zerui-project/https://en.wikipedia.org/wiki/Royce-da-59>', 'Royce da 5\\'9\\\\\"\\thip hop\"']\n"
     ]
    }
   ],
   "source": [
    "with open(\"../data_for_558_proj/jena/genre_data.tsv\") as f:\n",
    "    reader = csv.reader(f, delimiter='\\t')\n",
    "    for i, row in enumerate(reader):\n",
    "        if i > 0 and len(row) == 3:\n",
    "            artist_uri = row[0]\n",
    "            artist_name = row[1]\n",
    "            genre_name = row[2].lower().replace(\"-\", \" \")\n",
    "            key = \"-\".join([artist_uri, artist_name])\n",
    "            if key in fixed_artists:\n",
    "                if genre_name.lower() not in genres:\n",
    "                    genres[genre_name.lower()] = {}\n",
    "                genres[genre_name.lower()][artist_name.lower()] = 1\n",
    "                if \"genres\" not in fixed_artists[key]:\n",
    "                    fixed_artists[key][\"genres\"] = {}\n",
    "                fixed_artists[key][\"genres\"][genre_name] = 1\n",
    "        else:\n",
    "            print(row)\n",
    "                    \n",
    "        "
   ]
  },
  {
   "cell_type": "code",
   "execution_count": 27,
   "metadata": {},
   "outputs": [],
   "source": [
    "with open(\"data/artists_per_genre\", \"wb\") as f:\n",
    "    pickle.dump(genres, f)"
   ]
  },
  {
   "cell_type": "code",
   "execution_count": 29,
   "metadata": {},
   "outputs": [],
   "source": [
    "record_labels = {}"
   ]
  },
  {
   "cell_type": "code",
   "execution_count": 30,
   "metadata": {},
   "outputs": [
    {
     "name": "stdout",
     "output_type": "stream",
     "text": [
      "['?subject', '?name', '?entity_name']\n",
      "['<http://dsci558.org/rahul-zerui-project/https://en.wikipedia.org/wiki/Royce-da-59>', 'Royce da 5\\'9\\\\\"\\tPortrait/CBS\"']\n",
      "['<http://dsci558.org/rahul-zerui-project/https://en.wikipedia.org/wiki/Royce-da-59>', 'Royce da 5\\'9\\\\\"\\tCBS\"']\n",
      "['<http://dsci558.org/rahul-zerui-project/https://en.wikipedia.org/wiki/Royce-da-59>', 'Royce da 5\\'9\\\\\"\\tZelig Recordings\"']\n",
      "['<http://dsci558.org/rahul-zerui-project/https://en.wikipedia.org/wiki/Royce-da-59>', 'Royce da 5\\'9\\\\\"\\tColumbia Nashville\"']\n",
      "['<http://dsci558.org/rahul-zerui-project/https://en.wikipedia.org/wiki/Royce-da-59>', 'Royce da 5\\'9\\\\\"\\tCBS Ireland\"']\n",
      "['<http://dsci558.org/rahul-zerui-project/https://en.wikipedia.org/wiki/Royce-da-59>', 'Royce da 5\\'9\\\\\"\\tColumbia Records\"']\n",
      "['<http://dsci558.org/rahul-zerui-project/https://en.wikipedia.org/wiki/Royce-da-59>', 'Royce da 5\\'9\\\\\"\\tColumbia\"']\n",
      "['<http://dsci558.org/rahul-zerui-project/https://en.wikipedia.org/wiki/Royce-da-59>', 'Royce da 5\\'9\\\\\"\\tColumbia/CBS\"']\n",
      "['<http://dsci558.org/rahul-zerui-project/https://en.wikipedia.org/wiki/Royce-da-59>', 'Royce da 5\\'9\\\\\"\\tGame\"']\n",
      "['<http://dsci558.org/rahul-zerui-project/https://en.wikipedia.org/wiki/Royce-da-59>', 'Royce da 5\\'9\\\\\"\\tGAME\"']\n",
      "['<http://dsci558.org/rahul-zerui-project/https://en.wikipedia.org/wiki/Royce-da-59>', 'Royce da 5\\'9\\\\\"\\tKoch Records\"']\n",
      "['<http://dsci558.org/rahul-zerui-project/https://en.wikipedia.org/wiki/Royce-da-59>', 'Royce da 5\\'9\\\\\"\\tE1 Music\"']\n",
      "['<http://dsci558.org/rahul-zerui-project/https://en.wikipedia.org/wiki/Royce-da-59>', 'Royce da 5\\'9\\\\\"\\tAudium\"']\n",
      "['<http://dsci558.org/rahul-zerui-project/https://en.wikipedia.org/wiki/Royce-da-59>', 'Royce da 5\\'9\\\\\"\\tEntertainment One\"']\n",
      "['<http://dsci558.org/rahul-zerui-project/https://en.wikipedia.org/wiki/Royce-da-59>', 'Royce da 5\\'9\\\\\"\\tE1\"']\n",
      "['<http://dsci558.org/rahul-zerui-project/https://en.wikipedia.org/wiki/Royce-da-59>', 'Royce da 5\\'9\\\\\"\\teOne\"']\n",
      "['<http://dsci558.org/rahul-zerui-project/https://en.wikipedia.org/wiki/Royce-da-59>', 'Royce da 5\\'9\\\\\"\\tKoch\"']\n",
      "['<http://dsci558.org/rahul-zerui-project/https://en.wikipedia.org/wiki/Royce-da-59>', 'Royce da 5\\'9\\\\\"\\teOne Music\"']\n",
      "['<http://dsci558.org/rahul-zerui-project/https://en.wikipedia.org/wiki/Royce-da-59>', 'Royce da 5\\'9\\\\\"\\tShady\"']\n",
      "['<http://dsci558.org/rahul-zerui-project/https://en.wikipedia.org/wiki/Royce-da-59>', 'Royce da 5\\'9\\\\\"\\tInterscope\"']\n",
      "['<http://dsci558.org/rahul-zerui-project/https://en.wikipedia.org/wiki/Royce-da-59>', 'Royce da 5\\'9\\\\\"\\tInterscope Records\"']\n"
     ]
    }
   ],
   "source": [
    "with open(\"../data_for_558_proj/jena/record_label.tsv\") as f:\n",
    "    reader = csv.reader(f, delimiter='\\t')\n",
    "    for i, row in enumerate(reader):\n",
    "        if i > 0 and len(row) == 3:\n",
    "            artist_uri = row[0]\n",
    "            artist_name = row[1]\n",
    "            label_name = row[2].lower().replace(\"-\", \" \")\n",
    "            if label_name != \"n/a\":\n",
    "                key = \"-\".join([artist_uri, artist_name])\n",
    "                if key in fixed_artists:\n",
    "                    if label_name.lower() not in record_labels:\n",
    "                        record_labels[label_name.lower()] = {}\n",
    "                    record_labels[label_name.lower()][artist_name.lower()] = 1\n",
    "                    if \"record_labels\" not in fixed_artists[key]:\n",
    "                        fixed_artists[key][\"record_labels\"] = {}\n",
    "                    fixed_artists[key][\"record_labels\"][label_name] = 1\n",
    "        else:\n",
    "            print(row)\n"
   ]
  },
  {
   "cell_type": "code",
   "execution_count": 31,
   "metadata": {},
   "outputs": [],
   "source": [
    "with open(\"data/artists_per_label\", \"wb\") as f:\n",
    "    pickle.dump(record_labels, f)"
   ]
  },
  {
   "cell_type": "code",
   "execution_count": 13,
   "metadata": {},
   "outputs": [
    {
     "name": "stdout",
     "output_type": "stream",
     "text": [
      "['?name', '?classifciation', '?year', '?winner', '?artist_uri', '?artist_name']\n"
     ]
    }
   ],
   "source": [
    "with open(\"../data_for_558_proj/jena/award_info.tsv\") as f:\n",
    "    reader = csv.reader(f, delimiter='\\t')\n",
    "    for i, row in enumerate(reader):\n",
    "        if i > 0 and len(row) == 6:\n",
    "            award_name = row[0]\n",
    "            award_class = row[1]\n",
    "            award_year = row[2]\n",
    "            winner = row[3] == \"true\"\n",
    "            artist_uri = row[4]\n",
    "            artist_name = row[5]\n",
    "            \n",
    "            \n",
    "            award_key = \"-\".join([award_name, award_class, award_year])\n",
    "            artist_key = \"-\".join([artist_uri, artist_name])\n",
    "\n",
    "            if artist_key in fixed_artists:\n",
    "                if \"awards\" not in fixed_artists[artist_key]:\n",
    "                    fixed_artists[artist_key][\"awards\"] = {}\n",
    "                fixed_artists[artist_key][\"awards\"][award_key] = winner\n",
    "        else:\n",
    "            print(row)\n"
   ]
  },
  {
   "cell_type": "code",
   "execution_count": 14,
   "metadata": {},
   "outputs": [
    {
     "name": "stdout",
     "output_type": "stream",
     "text": [
      "['?rank', '?date', '?artist_uri', '?artist_name']\n",
      "['25', '2011-08-27', '<http://dsci558.org/rahul-zerui-project/https://en.wikipedia.org/wiki/Royce-da-59>', 'Royce da 5\\'9\\\\\"\\n71\"', '2016-01-23', '<http://dsci558.org/rahul-zerui-project/https://en.wikipedia.org/wiki/Disturbed-(band)>', 'Disturbed']\n",
      "['187', '2016-05-14', '<http://dsci558.org/rahul-zerui-project/https://en.wikipedia.org/wiki/Royce-da-59>', 'Royce da 5\\'9\\\\\"\\n132\"', '2017-09-30', '<http://dsci558.org/rahul-zerui-project/https://en.wikipedia.org/wiki/Linkin-Park>', 'Linkin Park']\n",
      "['24', '2018-05-19', '<http://dsci558.org/rahul-zerui-project/https://en.wikipedia.org/wiki/Royce-da-59>', 'Royce da 5\\'9\\\\\"\\n61\"', '2004-04-03', '<http://dsci558.org/rahul-zerui-project/https://en.wikipedia.org/wiki/Blink-182>', 'blink-182']\n",
      "['110', '2009-11-07', '<http://dsci558.org/rahul-zerui-project/https://en.wikipedia.org/wiki/Royce-da-59>', 'Royce da 5\\'9\\\\\"\\n31\"', '2010-05-08', '<http://dsci558.org/rahul-zerui-project/https://en.wikipedia.org/wiki/Rihanna>', 'Rihanna']\n",
      "['161', '2004-03-13', '<http://dsci558.org/rahul-zerui-project/https://en.wikipedia.org/wiki/Royce-da-59>', 'Royce da 5\\'9\\\\\"\\n4\"', '2020-08-01', '<http://dsci558.org/rahul-zerui-project/https://en.wikipedia.org/wiki/The-Weeknd>', 'The Weeknd']\n",
      "['58', '2020-03-07', '<http://dsci558.org/rahul-zerui-project/https://en.wikipedia.org/wiki/Royce-da-59>', 'Royce da 5\\'9\\\\\"\\n105\"', '2020-10-03', '<http://dsci558.org/rahul-zerui-project/https://en.wikipedia.org/wiki/Saint-Jhn>', 'SAINt JHN']\n",
      "['186', '2011-09-10', '<http://dsci558.org/rahul-zerui-project/https://en.wikipedia.org/wiki/Royce-da-59>', 'Royce da 5\\'9\\\\\"\\n50\"', '2017-04-08', '<http://dsci558.org/rahul-zerui-project/https://en.wikipedia.org/wiki/Drake-(musician)>', 'Drake']\n",
      "['22', '2016-05-07', '<http://dsci558.org/rahul-zerui-project/https://en.wikipedia.org/wiki/Royce-da-59>', 'Royce da 5\\'9\\\\\"\\n137\"', '2006-11-04', '<http://dsci558.org/rahul-zerui-project/https://en.wikipedia.org/wiki/Ne-Yo>', 'Ne-Yo']\n",
      "['141', '2018-05-26', '<http://dsci558.org/rahul-zerui-project/https://en.wikipedia.org/wiki/Royce-da-59>', 'Royce da 5\\'9\\\\\"\\n26\"', '2010-06-26', '<http://dsci558.org/rahul-zerui-project/https://en.wikipedia.org/wiki/Godsmack>', 'Godsmack']\n",
      "['90', '2011-09-03', '<http://dsci558.org/rahul-zerui-project/https://en.wikipedia.org/wiki/Royce-da-59>', 'Royce da 5\\'9\\\\\"\\n187\"', '2010-10-16', '<http://dsci558.org/rahul-zerui-project/https://en.wikipedia.org/wiki/Shinedown>', 'Shinedown']\n"
     ]
    }
   ],
   "source": [
    "with open(\"../data_for_558_proj/jena/billboard.tsv\") as f:\n",
    "    reader = csv.reader(f, delimiter='\\t')\n",
    "    for i, row in enumerate(reader):\n",
    "        if i > 0 and len(row) == 4:\n",
    "            rank = row[0]\n",
    "            date = row[1]\n",
    "            artist_uri = row[2]\n",
    "            artist_name = row[3]\n",
    "            \n",
    "            artist_key = \"-\".join([artist_uri, artist_name])\n",
    "            rank_date = \"-\".join([rank, date])\n",
    "            \n",
    "            if artist_key in fixed_artists:\n",
    "                if \"billboard\" not in fixed_artists[artist_key]:\n",
    "                    fixed_artists[artist_key][\"billboard\"] = {}\n",
    "                fixed_artists[artist_key][\"billboard\"][rank_date] = 1\n",
    "        else:\n",
    "            print(row)\n"
   ]
  },
  {
   "cell_type": "code",
   "execution_count": 15,
   "metadata": {},
   "outputs": [
    {
     "data": {
      "text/plain": [
       "'<http://dsci558.org/rahul-zerui-project/https://en.wikipedia.org/wiki/Pretenders>-Pretenders'"
      ]
     },
     "execution_count": 15,
     "metadata": {},
     "output_type": "execute_result"
    }
   ],
   "source": [
    "list(fixed_artists.keys())[0]"
   ]
  },
  {
   "cell_type": "code",
   "execution_count": 16,
   "metadata": {},
   "outputs": [
    {
     "name": "stdout",
     "output_type": "stream",
     "text": [
      "{'name': 'Taylor Swift', 'band': 'false', 'start_year': '2003', 'gender': 'female', 'cities': {'new york': 1, 'london': 1, 'los angeles': 1, 'chicago': 1, 'nashville': 1}, 'genres': {'country': 1, 'rock': 1, 'pop rock': 1, 'pop': 1, 'folk pop': 1, 'indie pop': 1, 'pop music': 1, 'country pop': 1, 'synth pop': 1}, 'record_labels': {'valory': 1, 'big machine': 1, 'valory music co.': 1, 'so what the fuss records': 1, 'republic': 1, 'republic records': 1, 'universal republic': 1}, 'awards': {'Grammy_Award-Album_of_the_Year-2014': False, 'Grammy_Award-Song_of_the_Year-2010': False, 'Billboard_Music_Award-Top_Artist-2018': False, 'American_Music_Award-Favorite_Pop/Rock_Album-2015': True, 'Billboard_Music_Award-Top_Billboard_200_Album-2020': False, 'American_Music_Award-Favorite_Pop/Rock_Album-2013': False, 'Billboard_Music_Award-Top_Female_Artist-2015': True, 'Billboard_Music_Award-Top_Artist-2020': False, 'American_Music_Award-Favorite_Pop/Rock_Female_Artist-2013': True, 'Billboard_Music_Award-Top_Billboard_200_Album-2018': False, 'Billboard_Music_Award-Top_Artist-2011': False, 'Grammy_Award-Album_of_the_Year-2016': False, 'Billboard_Music_Award-Top_Billboard_200_Album-1989': False, 'Billboard_Music_Award-Top_Artist-2015': True, 'Billboard_Music_Award-Top_Hot_100_Song-2015': False, 'American_Music_Award-Favorite_Pop/Rock_Female_Artist-2009': True, 'American_Music_Award-Favorite_Country_Female_Artist-2007': False, 'Grammy_Award-Song_of_the_Year-2015': False, 'American_Music_Award-Favorite_Pop/Rock_Album-2009': False, 'American_Music_Award-Favorite_Country_Album-2009': True, 'Billboard_Music_Award-Top_Female_Artist-2019': False, 'American_Music_Award-Favorite_Pop/Rock_Album-2020': False, 'Billboard_Music_Award-Top_Female_Artist-2013': True, 'Billboard_Music_Award-Top_Artist-2016': False, 'Billboard_Music_Award-Top_Female_Artist-2016': False, 'American_Music_Award-Favorite_Country_Album-2011': True, 'Grammy_Award-Song_of_the_Year-2020': False, 'American_Music_Award-Favorite_Country_Female_Artist-2011': True, 'American_Music_Award-Favorite_Country_Female_Artist-2009': True, 'American_Music_Award-Favorite_Pop/Rock_Album-2019': True, 'American_Music_Award-Favorite_Pop/Rock_Female_Artist-2015': False, 'American_Music_Award-Favorite_Country_Album-2013': True, 'Billboard_Music_Award-Top_Billboard_200_Album-2011': False, 'Billboard_Music_Award-Top_Female_Artist-2011': False, 'American_Music_Award-Favorite_Pop/Rock_Album-2018': True, 'American_Music_Award-Favorite_Country_Female_Artist-2012': True, 'Grammy_Award-Album_of_the_Year-2010': False, 'American_Music_Award-Favorite_Country_Female_Artist-2008': True, 'Grammy_Award-Song_of_the_Year-2016': False, 'American_Music_Award-Favorite_Pop/Rock_Female_Artist-2020': False, 'Billboard_Music_Award-Top_Artist-2013': True, 'Billboard_Music_Award-Top_Female_Artist-2020': False, 'American_Music_Award-Favorite_Country_Female_Artist-2013': True, 'Billboard_Music_Award-Top_Female_Artist-2018': True}, 'billboard': {'25-2013-05-04': 1, '76-2013-09-21': 1, '72-2011-01-15': 1, '3-2011-01-29': 1, '81-2018-12-22': 1, '188-2020-08-29': 1, '170-2015-09-26': 1, '156-2011-10-22': 1, '129-2019-07-20': 1, '100-2008-09-13': 1, '136-2020-07-18': 1, '191-2017-04-15': 1, '4-2010-01-02': 1, '4-2013-01-26': 1, '53-2009-11-21': 1, '145-2014-03-22': 1, '121-2012-11-03': 1, '34-2013-11-09': 1, '33-2020-04-25': 1, '69-2019-08-03': 1, '12-2008-12-20': 1, '52-2019-11-09': 1, '63-2011-08-13': 1, '195-2012-10-20': 1, '11-2012-11-10': 1, '83-2012-01-14': 1, '32-2020-05-16': 1, '15-2007-06-16': 1, '37-2020-06-13': 1, '123-2018-06-30': 1, '48-2009-09-26': 1, '8-2010-01-30': 1, '24-2010-03-06': 1, '9-2009-06-13': 1, '17-2018-04-07': 1, '18-2007-07-07': 1, '2-2017-12-30': 1, '7-2010-01-23': 1, '180-2014-11-29': 1, '45-2008-04-12': 1, '27-2011-01-08': 1, '78-2016-05-07': 1, '11-2008-05-17': 1, '51-2011-04-30': 1, '70-2011-09-03': 1, '64-2013-03-30': 1, '130-2013-09-21': 1, '55-2013-12-07': 1, '52-2007-04-28': 1, '32-2009-02-07': 1, '111-2018-03-10': 1, '91-2011-01-15': 1, '56-2018-05-12': 1, '67-2011-04-16': 1, '135-2013-01-26': 1, '47-2013-09-14': 1, '68-2012-11-17': 1, '10-2015-03-21': 1, '158-2011-04-09': 1, '104-2014-03-08': 1, '24-2018-09-01': 1, '1-2012-12-29': 1, '49-2011-11-26': 1, '15-2009-04-11': 1, '145-2010-06-05': 1, '36-2010-03-20': 1, '47-2017-10-21': 1, '33-2018-10-20': 1, '14-2015-12-19': 1, '10-2010-09-25': 1, '40-2010-01-16': 1, '122-2020-03-28': 1, '46-2009-08-22': 1, '24-2020-06-06': 1, '84-2019-06-29': 1, '50-2013-09-28': 1, '20-2011-03-19': 1, '131-2019-10-19': 1, '142-2010-05-15': 1, '10-2015-10-10': 1, '55-2008-03-29': 1, '130-2019-07-27': 1, '148-2015-10-10': 1, '36-2008-10-18': 1, '1-2017-12-02': 1, '29-2008-05-17': 1, '47-2011-12-31': 1, '32-2012-12-15': 1, '145-2011-07-30': 1, '60-2017-12-16': 1, '21-2008-11-29': 1, '45-2007-07-07': 1, '125-2020-10-24': 1, '39-2009-02-07': 1, '38-2009-04-18': 1, '36-2018-06-30': 1, '77-2018-01-20': 1, '46-2009-05-09': 1, '49-2010-01-23': 1, '121-2011-12-17': 1, '1-2020-08-22': 1, '34-2011-07-09': 1, '174-2013-09-07': 1, '24-2015-03-21': 1, '42-2011-11-19': 1, '44-2012-02-04': 1, '27-2010-02-20': 1, '38-2010-11-13': 1, '26-2010-05-15': 1, '114-2018-06-23': 1, '82-2011-01-29': 1, '186-2015-09-05': 1, '125-2012-08-11': 1, '45-2006-12-09': 1, '16-2013-04-20': 1, '16-2009-05-02': 1, '49-2018-11-17': 1, '20-2011-02-19': 1, '162-2011-06-18': 1, '45-2010-07-24': 1, '7-2010-02-20': 1, '8-2015-11-21': 1, '21-2018-08-18': 1, '38-2009-01-17': 1, '57-2020-01-04': 1, '35-2009-05-02': 1, '146-2011-11-05': 1, '140-2015-07-04': 1, '25-2010-05-08': 1, '7-2020-10-10': 1, '113-2012-09-29': 1, '43-2012-01-14': 1, '29-2009-07-04': 1, '90-2015-01-10': 1, '147-2011-03-12': 1, '191-2017-06-17': 1, '15-2011-03-05': 1, '21-2007-05-12': 1, '129-2019-08-17': 1, '103-2017-12-23': 1, '60-2011-10-15': 1, '55-2007-02-17': 1, '46-2018-05-19': 1, '17-2008-07-19': 1, '1-2010-11-13': 1, '188-2014-02-15': 1, '52-2019-02-09': 1, '22-2016-01-09': 1, '38-2009-11-21': 1, '151-2014-12-13': 1, '58-2012-02-04': 1, '56-2010-10-02': 1, '8-2009-03-07': 1, '13-2008-10-18': 1, '26-2011-05-28': 1, '177-2011-04-16': 1, '39-2011-12-24': 1, '67-2010-10-30': 1, '32-2009-06-20': 1, '24-2020-02-08': 1, '41-2013-06-01': 1, '35-2009-01-31': 1, '30-2011-12-31': 1, '152-2011-08-13': 1, '21-2016-04-02': 1, '14-2018-02-24': 1, '155-2011-07-23': 1, '116-2015-10-24': 1, '5-2015-04-18': 1, '13-2012-11-03': 1, '137-2011-11-26': 1, '36-2020-04-18': 1, '46-2009-08-15': 1, '43-2010-12-18': 1, '18-2016-01-16': 1, '55-2013-10-05': 1, '56-2017-07-08': 1, '129-2020-10-10': 1, '126-2019-09-14': 1, '132-2020-04-25': 1, '31-2017-12-16': 1, '40-2009-02-14': 1, '50-2015-08-15': 1, '34-2007-08-18': 1, '1-2012-12-22': 1, '182-2020-08-22': 1, '66-2016-08-13': 1, '111-2012-11-17': 1, '157-2016-12-10': 1, '28-2008-04-26': 1, '5-2014-12-06': 1, '72-2017-01-14': 1, '32-2015-06-06': 1, '34-2009-03-07': 1, '80-2010-10-16': 1, '86-2020-02-22': 1, '1-2012-09-01': 1, '24-2019-09-21': 1, '22-2010-02-13': 1, '67-2012-03-31': 1, '39-2008-10-25': 1, '99-2010-02-20': 1, '170-2011-07-02': 1, '77-2007-03-31': 1, '81-2009-10-17': 1, '24-2011-03-05': 1, '46-2011-05-21': 1, '7-2015-04-04': 1, '63-2017-10-07': 1, '27-2011-09-10': 1, '85-2017-11-25': 1, '58-2011-11-19': 1, '157-2012-09-01': 1, '57-2018-11-03': 1, '49-2019-09-28': 1, '105-2018-06-16': 1, '9-2008-10-11': 1, '89-2017-11-04': 1, '132-2012-09-22': 1, '174-2020-01-04': 1, '15-2007-09-15': 1, '39-2009-08-22': 1, '105-2012-08-04': 1, '1-2019-09-07': 1, '53-2017-12-02': 1, '129-2011-03-05': 1, '14-2018-06-02': 1, '155-2015-03-21': 1, '200-2017-07-15': 1, '42-2010-07-03': 1, '126-2013-01-26': 1, '31-2017-12-02': 1, '13-2009-03-28': 1, '47-2010-12-18': 1, '12-2011-02-26': 1, '34-2013-05-11': 1, '115-2013-02-23': 1, '24-2008-02-09': 1, '194-2015-02-07': 1, '46-2012-02-11': 1, '143-2015-07-25': 1, '4-2013-03-16': 1, '16-2008-01-19': 1, '42-2014-02-15': 1, '95-2009-05-16': 1, '103-2020-01-18': 1, '170-2019-11-09': 1, '36-2010-04-10': 1, '8-2008-01-12': 1, '94-2009-10-03': 1, '159-2016-12-03': 1, '1-2008-12-27': 1, '56-2007-05-05': 1, '1-2009-03-07': 1, '38-2017-09-16': 1, '200-2015-02-28': 1, '8-2009-10-24': 1, '76-2013-11-16': 1, '13-2007-08-11': 1, '43-2020-07-11': 1, '25-2011-01-22': 1, '7-2015-02-28': 1, '66-2011-06-25': 1, '12-2008-06-14': 1, '26-2009-01-31': 1, '199-2020-08-22': 1, '164-2019-01-12': 1, '68-2014-11-29': 1, '7-2008-03-01': 1, '87-2020-08-15': 1, '108-2020-09-26': 1, '158-2012-06-02': 1, '179-2010-08-21': 1, '9-2020-01-11': 1, '10-2013-03-09': 1, '119-2015-02-28': 1, '58-2016-06-25': 1, '11-2008-08-30': 1, '12-2008-11-22': 1, '87-2018-12-29': 1, '34-2012-02-04': 1, '109-2011-05-07': 1, '1-2017-09-16': 1, '87-2018-07-21': 1, '83-2010-11-27': 1, '45-2019-10-12': 1, '45-2015-07-11': 1, '127-2010-06-19': 1, '187-2017-04-01': 1, '172-2013-03-09': 1, '47-2020-07-04': 1, '32-2019-12-14': 1, '41-2010-04-24': 1, '187-2020-02-22': 1, '26-2011-01-29': 1, '73-2013-10-19': 1, '32-2013-06-29': 1, '173-2015-10-31': 1, '9-2015-01-10': 1, '26-2011-04-02': 1, '24-2018-04-28': 1, '129-2012-05-12': 1, '176-2020-02-08': 1, '9-2008-05-10': 1, '68-2006-10-21': 1, '25-2010-05-01': 1, '129-2011-03-19': 1, '1-2015-02-14': 1, '16-2007-09-08': 1, '10-2015-02-28': 1, '15-2008-11-08': 1, '71-2013-09-14': 1, '2-2014-10-04': 1, '121-2019-07-27': 1, '42-2020-08-29': 1, '24-2011-02-26': 1, '50-2010-12-25': 1, '54-2019-02-23': 1, '28-2011-08-20': 1, '104-2012-05-19': 1, '39-2011-12-10': 1, '11-2010-10-09': 1, '179-2010-07-10': 1, '169-2011-07-16': 1, '4-2019-11-30': 1, '30-2013-05-18': 1, '129-2015-10-03': 1, '86-2019-04-27': 1, '49-2008-05-17': 1, '38-2015-07-04': 1, '49-2016-05-21': 1, '46-2011-11-12': 1, '5-2019-10-19': 1, '30-2018-10-13': 1, '10-2010-02-27': 1, '3-2009-08-15': 1, '4-2017-09-23': 1, '53-2020-10-24': 1, '78-2012-11-03': 1, '31-2008-02-16': 1, '1-2014-12-27': 1, '94-2012-12-29': 1, '169-2020-08-15': 1, '20-2013-04-13': 1, '40-2009-08-01': 1, '54-2009-09-12': 1, '32-2008-10-11': 1, '189-2010-07-17': 1, '35-2013-05-18': 1, '120-2015-11-07': 1, '9-2008-11-01': 1, '14-2011-03-12': 1, '34-2013-04-27': 1, '2-2014-12-06': 1, '34-2020-08-01': 1, '104-2010-12-18': 1, '33-2013-04-13': 1, '42-2015-06-27': 1, '88-2020-10-31': 1, '3-2015-07-18': 1, '125-2020-02-08': 1, '102-2015-08-15': 1, '41-2007-07-21': 1, '26-2020-03-21': 1, '184-2015-06-13': 1, '97-2019-08-31': 1, '51-2011-11-26': 1, '181-2012-05-26': 1, '76-2013-11-09': 1, '26-2015-05-23': 1, '18-2015-02-21': 1, '1-2014-09-13': 1, '174-2011-06-04': 1, '6-2015-05-09': 1, '108-2010-03-27': 1, '120-2010-10-30': 1, '25-2018-09-08': 1, '15-2016-01-30': 1, '60-2009-11-07': 1, '44-2007-06-02': 1, '131-2017-09-23': 1, '48-2015-08-01': 1, '79-2008-11-29': 1, '60-2014-11-15': 1, '34-2013-04-20': 1, '4-2015-07-11': 1, '152-2014-09-06': 1, '21-2009-05-23': 1, '126-2017-12-02': 1, '133-2017-07-01': 1, '58-2010-10-09': 1, '84-2019-04-06': 1, '71-2009-10-24': 1, '3-2009-08-01': 1, '1-2020-10-03': 1, '48-2007-01-06': 1, '51-2020-09-12': 1, '8-2015-03-07': 1, '14-2009-04-25': 1, '195-2015-06-27': 1, '14-2008-10-25': 1, '199-2015-09-05': 1, '125-2018-11-03': 1, '24-2007-03-17': 1, '30-2011-05-14': 1, '3-2013-01-19': 1, '106-2010-12-04': 1, '17-2008-01-12': 1, '5-2009-02-07': 1, '44-2020-07-18': 1, '26-2019-11-23': 1, '193-2020-08-15': 1, '55-2011-12-10': 1, '68-2018-11-24': 1, '9-2015-05-30': 1, '1-2020-09-05': 1, '56-2011-12-03': 1, '55-2018-01-13': 1, '174-2012-03-17': 1, '130-2011-07-23': 1, '9-2015-01-24': 1, '144-2015-04-18': 1, '38-2009-08-08': 1, '11-2020-02-15': 1, '166-2011-10-15': 1, '112-2018-10-20': 1, '88-2017-07-01': 1, '146-2016-12-17': 1, '46-2015-07-18': 1, '33-2007-04-28': 1, '98-2008-11-22': 1, '86-2012-01-28': 1, '47-2011-10-15': 1, '5-2015-04-04': 1, '193-2012-10-06': 1, '14-2009-04-18': 1, '5-2019-10-12': 1, '200-2016-03-12': 1, '2-2013-01-12': 1, '76-2014-12-27': 1, '3-2017-12-23': 1, '59-2017-07-22': 1, '23-2018-07-14': 1, '56-2011-01-01': 1, '33-2009-07-11': 1, '1-2014-12-20': 1, '150-2019-12-28': 1, '38-2018-10-06': 1, '68-2011-09-17': 1, '38-2008-11-08': 1, '12-2008-12-13': 1, '139-2019-02-23': 1, '53-2016-07-16': 1, '6-2009-11-21': 1, '14-2013-03-16': 1, '64-2017-09-09': 1, '53-2016-03-05': 1, '115-2015-06-27': 1, '53-2011-12-03': 1, '4-2013-01-05': 1, '45-2010-04-10': 1, '46-2009-07-04': 1, '15-2012-12-22': 1, '8-2007-12-29': 1, '1-2008-11-29': 1, '37-2019-10-26': 1, '44-2009-07-18': 1, '27-2009-12-26': 1, '8-2009-09-05': 1, '41-2009-01-10': 1, '10-2013-02-16': 1, '107-2014-11-22': 1, '154-2019-11-02': 1, '8-2011-02-05': 1, '24-2013-06-15': 1, '165-2020-02-15': 1, '84-2018-08-04': 1, '37-2010-12-11': 1, '126-2016-11-12': 1, '39-2010-01-09': 1, '77-2009-10-24': 1, '40-2017-09-23': 1, '57-2020-08-08': 1, '26-2009-11-28': 1, '31-2009-03-21': 1, '41-2010-11-13': 1, '51-2018-04-28': 1, '36-2007-11-17': 1, '4-2013-03-09': 1, '102-2012-07-21': 1, '156-2011-11-19': 1, '43-2018-11-10': 1, '5-2010-01-16': 1, '89-2017-12-02': 1, '84-2012-11-24': 1, '125-2018-09-22': 1, '2-2015-07-25': 1, '46-2018-04-14': 1, '22-2013-03-30': 1, '158-2011-08-20': 1, '96-2010-05-29': 1, '120-2018-10-06': 1, '13-2020-01-18': 1, '7-2009-02-28': 1, '19-2011-07-02': 1, '69-2017-11-18': 1, '122-2018-04-21': 1, '122-2011-09-10': 1, '141-2012-04-28': 1, '179-2018-12-15': 1, '128-2020-05-23': 1, '86-2007-10-13': 1, '83-2017-10-28': 1, '113-2016-09-17': 1, '52-2011-01-01': 1, '77-2012-12-01': 1, '25-2013-05-25': 1, '17-2010-03-20': 1, '183-2011-06-11': 1, '20-2016-04-30': 1, '135-2019-10-26': 1, '135-2012-04-07': 1, '8-2016-03-05': 1, '10-2010-02-06': 1, '28-2007-12-01': 1, '16-2020-03-07': 1, '77-2017-09-09': 1, '41-2009-03-07': 1, '4-2012-10-06': 1, '62-2010-02-20': 1, '5-2008-01-26': 1, '42-2020-08-08': 1, '77-2012-07-28': 1, '36-2008-05-24': 1, '2-2015-06-06': 1, '141-2014-12-20': 1, '122-2011-02-26': 1, '6-2013-03-23': 1, '39-2008-05-31': 1, '42-2007-06-30': 1, '197-2017-12-02': 1, '133-2020-10-17': 1, '1-2013-01-12': 1, '77-2012-12-15': 1, '76-2014-11-15': 1, '189-2010-07-03': 1, '88-2012-11-10': 1, '97-2010-03-13': 1, '160-2015-01-10': 1, '119-2015-03-07': 1, '137-2019-03-02': 1, '30-2011-06-04': 1, '194-2017-09-16': 1, '2-2015-06-27': 1, '26-2011-06-11': 1, '144-2011-07-16': 1, '112-2019-08-03': 1, '12-2009-04-11': 1, '8-2011-02-19': 1, '65-2010-05-08': 1, '31-2010-03-13': 1, '126-2017-02-04': 1, '5-2020-09-19': 1, '5-2015-02-21': 1, '68-2012-11-10': 1, '36-2011-09-24': 1, '10-2009-12-05': 1, '14-2010-10-30': 1, '21-2016-01-23': 1, '42-2009-08-08': 1, '27-2015-04-25': 1, '51-2016-06-18': 1, '29-2010-02-27': 1, '67-2018-05-05': 1, '49-2012-03-10': 1, '40-2015-07-04': 1, '22-2010-01-30': 1, '172-2012-05-05': 1, '61-2012-09-01': 1, '43-2011-11-05': 1, '16-2007-12-01': 1, '89-2012-11-17': 1, '200-2012-07-07': 1, '138-2015-09-12': 1, '13-2019-12-21': 1, '1-2011-01-08': 1, '4-2019-12-14': 1, '170-2013-01-26': 1, '105-2018-02-17': 1, '97-2010-02-27': 1, '185-2013-02-23': 1, '192-2010-08-07': 1, '27-2015-06-13': 1, '15-2008-02-09': 1, '89-2009-10-10': 1, '46-2016-03-12': 1, '42-2012-04-07': 1, '90-2010-11-06': 1, '76-2012-11-03': 1, '3-2015-01-31': 1, '101-2012-10-20': 1, '5-2015-10-03': 1, '61-2011-08-06': 1, '161-2017-02-18': 1, '30-2010-02-27': 1, '119-2011-12-24': 1, '2-2019-09-14': 1, '24-2015-04-11': 1, '115-2015-10-31': 1, '92-2012-05-19': 1, '73-2017-12-02': 1, '15-2019-11-30': 1, '122-2015-11-14': 1, '36-2008-04-26': 1, '67-2011-07-02': 1, '2-2010-02-06': 1, '5-2012-10-27': 1, '138-2020-05-09': 1, '199-2019-08-31': 1, '108-2015-01-31': 1, '21-2018-08-11': 1, '1-2012-09-08': 1, '9-2009-08-01': 1, '91-2019-04-13': 1, '22-2015-03-28': 1, '65-2017-08-05': 1, '42-2007-02-03': 1, '42-2007-07-14': 1, '21-2007-12-29': 1, '44-2010-11-20': 1, '12-2019-09-14': 1, '185-2012-09-15': 1, '4-2009-08-08': 1, '80-2008-06-28': 1, '123-2020-04-04': 1, '77-2010-03-27': 1, '53-2007-05-12': 1, '48-2019-12-28': 1, '9-2012-12-01': 1, '128-2019-09-14': 1, '48-2013-06-08': 1, '86-2012-05-05': 1, '3-2017-10-07': 1, '48-2008-06-14': 1, '163-2017-03-11': 1, '143-2010-05-22': 1, '132-2019-10-05': 1, '18-2020-08-08': 1, '42-2012-02-25': 1, '114-2019-08-10': 1, '77-2019-05-04': 1, '9-2010-09-11': 1, '39-2012-03-24': 1, '18-2017-12-02': 1, '163-2015-12-12': 1, '28-2009-06-13': 1, '122-2012-07-07': 1, '17-2015-04-18': 1, '28-2019-10-19': 1, '25-2018-05-12': 1, '97-2012-04-21': 1, '72-2017-10-14': 1, '7-2015-03-07': 1, '39-2009-07-11': 1, '9-2018-08-04': 1, '26-2009-06-20': 1, '195-2020-09-05': 1, '22-2008-04-05': 1, '71-2017-08-12': 1, '50-2011-10-29': 1, '12-2016-03-12': 1, '109-2019-12-07': 1, '90-2013-01-05': 1, '52-2008-12-20': 1, '32-2013-08-03': 1, '12-2013-04-13': 1, '104-2012-05-26': 1, '7-2015-09-26': 1, '29-2018-10-06': 1, '164-2011-07-30': 1, '7-2009-02-21': 1, '116-2020-09-19': 1, '29-2008-04-26': 1, '8-2016-01-09': 1, '12-2015-12-26': 1, '171-2015-11-07': 1, '13-2015-12-12': 1, '11-2008-05-31': 1, '72-2017-12-23': 1, '5-2015-04-25': 1, '146-2012-04-21': 1, '7-2015-03-14': 1, '62-2016-04-23': 1, '1-2014-11-29': 1, '28-2007-03-24': 1, '22-2020-05-30': 1, '98-2019-06-29': 1, '15-2008-02-23': 1, '61-2017-07-29': 1, '39-2011-07-16': 1, '7-2015-10-17': 1, '1-2017-09-23': 1, '5-2013-03-02': 1, '12-2015-05-09': 1, '82-2018-01-06': 1, '194-2012-07-21': 1, '165-2012-09-29': 1, '67-2007-10-20': 1, '166-2015-05-09': 1, '84-2014-02-01': 1, '43-2020-09-26': 1, '14-2009-11-28': 1, '45-2010-07-10': 1, '187-2015-07-11': 1, '79-2014-11-08': 1, '2-2019-06-29': 1, '44-2017-12-09': 1, '49-2013-07-13': 1, '34-2015-06-06': 1, '26-2015-04-18': 1, '1-2014-09-06': 1, '30-2010-03-27': 1, '7-2015-09-05': 1, '33-2013-05-04': 1, '182-2017-12-09': 1, '24-2007-12-29': 1, '93-2018-04-14': 1, '4-2013-02-09': 1, '5-2009-01-10': 1, '34-2007-04-07': 1, '39-2013-12-21': 1, '77-2014-11-08': 1, '13-2007-06-02': 1, '45-2013-09-07': 1, '12-2007-12-15': 1, '4-2012-11-03': 1, '30-2013-06-15': 1, '9-2009-08-29': 1, '10-2020-10-24': 1, '30-2018-07-14': 1, '67-2009-10-31': 1, '29-2011-03-12': 1, '9-2009-05-16': 1, '106-2012-10-20': 1, '117-2015-08-01': 1, '31-2011-07-02': 1, '75-2013-10-12': 1, '2-2012-09-29': 1, '13-2009-10-10': 1, '39-2009-02-21': 1, '46-2013-06-29': 1, '115-2016-10-08': 1, '2-2015-01-24': 1, '2-2014-11-01': 1, '18-2009-12-12': 1, '136-2020-05-02': 1, '147-2019-04-06': 1, '42-2007-06-23': 1, '46-2007-06-09': 1, '175-2014-05-03': 1, '58-2013-10-26': 1, '146-2019-03-16': 1, '84-2010-05-01': 1, '8-2015-11-28': 1, '19-2013-04-27': 1, '33-2020-08-29': 1, '165-2011-06-11': 1, '24-2007-12-15': 1, '16-2009-07-04': 1, '10-2008-02-23': 1, '25-2012-12-22': 1, '87-2006-09-30': 1, '48-2020-09-19': 1, '78-2012-12-22': 1, '31-2015-06-20': 1, '194-2017-05-06': 1, '100-2018-02-10': 1, '5-2017-10-21': 1, '52-2013-09-21': 1, '49-2019-09-21': 1, '61-2010-12-11': 1, '145-2019-04-27': 1, '9-2016-01-02': 1, '190-2014-04-19': 1, '123-2020-10-03': 1, '61-2016-04-16': 1, '97-2010-06-05': 1, '147-2020-01-18': 1, '25-2016-04-16': 1, '21-2007-06-23': 1, '2-2015-01-31': 1, '1-2020-10-31': 1, '20-2013-05-11': 1, '33-2015-05-09': 1, '45-2009-09-05': 1, '5-2009-11-28': 1, '76-2010-04-10': 1, '11-2009-06-06': 1, '19-2010-01-09': 1, '2-2014-12-27': 1, '190-2015-08-01': 1, '84-2017-08-26': 1, '103-2010-04-10': 1, '139-2019-02-16': 1, '145-2015-10-17': 1, '183-2019-12-21': 1, '48-2006-12-02': 1, '7-2015-04-18': 1, '88-2011-06-04': 1, '27-2018-09-29': 1, '65-2013-07-27': 1, '90-2019-01-26': 1, '165-2018-12-22': 1, '30-2010-01-02': 1, '159-2012-02-25': 1, '49-2013-07-06': 1, '19-2008-07-05': 1, '27-2009-01-24': 1, '1-2020-08-15': 1, '58-2009-11-14': 1, '28-2011-05-21': 1, '71-2012-11-24': 1, '127-2019-07-06': 1, '132-2019-09-21': 1, '38-2019-09-07': 1, '32-2012-01-07': 1, '2-2012-12-01': 1, '46-2009-05-30': 1, '132-2019-08-17': 1, '51-2011-12-03': 1, '65-2011-12-24': 1, '39-2015-07-11': 1, '7-2009-11-07': 1, '110-2011-02-19': 1, '141-2012-10-06': 1, '9-2015-12-05': 1, '43-2017-12-23': 1, '13-2007-12-08': 1, '37-2020-06-27': 1, '8-2008-01-05': 1, '112-2018-03-24': 1, '24-2018-05-05': 1, '49-2013-06-29': 1, '9-2018-02-03': 1, '43-2019-11-16': 1, '18-2008-01-19': 1, '161-2011-12-24': 1, '33-2018-07-07': 1, '28-2008-05-03': 1, '54-2011-12-03': 1, '195-2012-12-15': 1, '13-2010-11-06': 1, '72-2006-10-14': 1, '1-2012-11-17': 1, '3-2018-01-13': 1, '5-2009-03-28': 1, '39-2010-02-20': 1, '41-2009-07-25': 1, '2-2019-09-21': 1, '50-2011-01-22': 1, '77-2011-06-11': 1, '34-2008-05-24': 1, '131-2011-02-19': 1, '108-2018-03-31': 1, '45-2010-08-14': 1, '19-2019-12-07': 1, '77-2012-11-03': 1, '66-2010-11-20': 1, '59-2009-10-31': 1, '77-2016-03-12': 1, '7-2009-10-31': 1, '37-2017-11-25': 1, '133-2018-11-17': 1, '83-2017-11-18': 1, '1-2017-09-30': 1, '5-2012-10-20': 1, '166-2014-04-05': 1, '36-2009-01-17': 1, '29-2018-09-15': 1, '37-2013-12-28': 1, '44-2008-04-19': 1, '42-2014-01-11': 1, '155-2020-08-15': 1, '156-2019-12-07': 1, '10-2008-03-08': 1, '10-2015-02-21': 1, '55-2011-07-30': 1, '46-2007-02-24': 1, '9-2015-05-16': 1, '34-2020-05-23': 1, '132-2019-10-12': 1, '96-2018-01-27': 1, '52-2015-01-31': 1, '23-2009-12-19': 1, '39-2017-10-14': 1, '44-2009-08-01': 1, '34-2012-01-14': 1, '53-2013-12-07': 1, '136-2010-09-04': 1, '25-2012-03-03': 1, '143-2019-03-09': 1, '37-2013-12-14': 1, '8-2015-03-14': 1, '75-2012-12-29': 1, '132-2019-02-09': 1, '25-2011-04-23': 1, '2-2014-09-27': 1, '10-2009-10-31': 1, '70-2006-12-16': 1, '11-2008-12-27': 1, '113-2015-06-20': 1, '44-2019-10-05': 1, '4-2009-12-26': 1, '25-2008-10-04': 1, '42-2013-06-22': 1, '17-2020-01-25': 1, '188-2013-04-13': 1, '13-2009-04-04': 1, '77-2011-01-22': 1, '105-2013-01-05': 1, '14-2008-02-02': 1, '14-2018-07-28': 1, '2-2008-12-13': 1, '174-2019-05-11': 1, '73-2012-11-24': 1, '39-2009-12-12': 1, '47-2015-08-01': 1, '34-2019-01-26': 1, '40-2007-04-14': 1, '125-2010-10-23': 1, '6-2015-10-31': 1, '138-2015-04-25': 1, '70-2012-10-27': 1, '49-2007-06-16': 1, '39-2007-11-10': 1, '40-2007-01-13': 1, '26-2013-04-06': 1, '164-2017-03-04': 1, '57-2020-10-10': 1, '10-2017-11-04': 1, '13-2008-04-26': 1, '54-2010-12-25': 1, '23-2016-02-20': 1, '29-2018-06-23': 1, '72-2019-03-30': 1, '159-2019-10-19': 1, '12-2015-05-02': 1, '51-2006-11-18': 1, '43-2010-08-21': 1, '123-2012-03-03': 1, '26-2018-09-15': 1, '92-2019-09-07': 1, '165-2012-03-24': 1, '93-2007-03-24': 1, '70-2007-04-14': 1, '25-2017-11-11': 1, '27-2009-12-12': 1, '99-2016-09-10': 1, '6-2014-12-20': 1, '29-2008-05-03': 1, '17-2013-01-12': 1, '66-2018-03-31': 1, '32-2009-02-21': 1, '128-2012-01-28': 1, '29-2008-02-23': 1, '111-2013-01-19': 1, '20-2011-07-23': 1, '157-2019-04-13': 1, '59-2019-12-21': 1, '119-2018-10-13': 1, '30-2020-04-04': 1, '73-2016-03-26': 1, '29-2008-11-08': 1, '6-2015-10-24': 1, '96-2019-09-07': 1, '197-2012-04-28': 1, '48-2008-06-07': 1, '172-2020-08-08': 1, '37-2007-10-13': 1, '21-2007-05-19': 1, '59-2017-07-15': 1, '36-2009-06-20': 1, '9-2015-02-14': 1, '26-2007-11-17': 1, '62-2006-11-25': 1, '21-2009-04-25': 1, '160-2019-04-20': 1, '46-2009-08-29': 1, '121-2011-08-27': 1, '197-2011-04-30': 1, '13-2008-11-29': 1, '27-2010-06-19': 1, '174-2018-05-05': 1, '159-2015-04-04': 1, '140-2019-11-16': 1, '16-2008-02-02': 1, '79-2019-08-10': 1, '11-2009-06-27': 1, '61-2014-01-18': 1, '11-2009-07-11': 1, '50-2010-04-17': 1, '40-2007-01-27': 1, '65-2018-11-17': 1, '21-2010-11-13': 1, '4-2013-03-02': 1, '9-2015-11-07': 1, '46-2010-08-07': 1, '54-2010-07-31': 1, '163-2011-10-01': 1, '33-2010-03-13': 1, '1-2009-02-07': 1, '158-2011-05-28': 1, '9-2010-12-04': 1, '99-2020-01-11': 1, '126-2012-06-30': 1, '95-2010-12-25': 1, '5-2008-10-04': 1, '45-2010-04-03': 1, '36-2020-09-05': 1, '139-2020-03-07': 1, '33-2019-10-26': 1, '6-2010-10-30': 1, '44-2007-12-15': 1, '99-2019-01-05': 1, '29-2009-03-28': 1, '48-2012-09-08': 1, '31-2011-01-15': 1, '21-2015-03-14': 1, '2-2008-12-20': 1, '17-2007-09-01': 1, '81-2011-12-10': 1, '52-2011-10-01': 1, '7-2009-05-30': 1, '195-2011-12-03': 1, '22-2008-03-29': 1, '144-2011-07-09': 1, '15-2007-05-26': 1, '5-2010-01-09': 1, '153-2012-02-18': 1, '32-2008-12-20': 1, '105-2015-08-01': 1, '21-2011-06-18': 1, '40-2007-07-28': 1, '6-2009-04-04': 1, '23-2018-05-19': 1, '56-2019-02-16': 1, '124-2016-10-15': 1, '7-2010-09-18': 1, '161-2015-04-11': 1, '18-2019-08-24': 1, '64-2011-09-24': 1, '5-2015-02-07': 1, '129-2014-12-27': 1, '126-2012-08-25': 1, '1-2015-01-10': 1, '39-2008-03-29': 1, '22-2011-06-25': 1, '138-2016-11-26': 1, '121-2019-06-15': 1, '8-2009-10-03': 1, '140-2011-12-31': 1, '45-2012-01-07': 1, '64-2020-10-17': 1, '1-2014-11-22': 1, '12-2015-03-28': 1, '49-2009-08-29': 1, '1-2014-11-15': 1, '55-2013-07-20': 1, '14-2019-08-31': 1, '112-2019-08-10': 1, '28-2008-04-19': 1, '73-2008-03-15': 1, '31-2008-05-10': 1, '18-2015-12-05': 1, '181-2012-12-22': 1, '24-2015-05-09': 1, '134-2012-11-24': 1, '134-2016-10-22': 1, '31-2017-07-01': 1, '118-2017-09-16': 1, '30-2007-12-22': 1, '21-2013-05-18': 1, '10-2009-05-02': 1, '46-2012-03-03': 1, '48-2015-07-18': 1, '122-2010-10-02': 1, '113-2020-09-12': 1, '72-2010-10-23': 1, '16-2019-08-10': 1, '137-2011-08-06': 1, '11-2009-07-18': 1, '33-2011-04-09': 1, '19-2015-04-25': 1, '19-2009-10-17': 1, '37-2020-08-15': 1, '18-2014-11-01': 1, '10-2009-06-20': 1, '172-2017-09-30': 1, '102-2019-08-03': 1, '102-2015-08-08': 1, '187-2017-03-18': 1, '65-2006-10-28': 1, '1-2011-01-22': 1, '87-2016-09-03': 1, '54-2019-05-11': 1, '77-2010-04-03': 1, '47-2008-12-13': 1, '97-2018-05-26': 1, '19-2019-08-31': 1, '34-2007-10-20': 1, '182-2019-12-14': 1, '5-2009-01-31': 1, '114-2012-06-16': 1, '141-2019-07-13': 1, '86-2013-09-07': 1, '197-2019-01-26': 1, '150-2019-03-30': 1, '92-2020-08-22': 1, '159-2019-12-21': 1, '45-2006-12-30': 1, '200-2010-08-14': 1, '3-2009-12-19': 1, '12-2008-03-15': 1, '184-2015-08-29': 1, '2-2009-03-21': 1, '109-2018-09-01': 1, '22-2016-04-23': 1, '134-2014-12-06': 1, '10-2010-03-06': 1, '95-2012-12-29': 1, '48-2009-05-23': 1, '75-2013-01-12': 1, '120-2013-02-09': 1, '35-2010-04-03': 1, '128-2011-03-12': 1, '44-2012-11-10': 1, '90-2018-12-15': 1, '119-2020-08-08': 1, '65-2007-01-06': 1, '111-2019-05-18': 1, '6-2019-12-07': 1, '52-2018-04-07': 1, '130-2016-12-24': 1, '122-2013-01-19': 1, '2-2010-12-18': 1, '1-2015-01-03': 1, '18-2014-11-15': 1, '34-2016-02-06': 1, '37-2006-11-18': 1, '10-2019-12-28': 1, '47-2012-02-25': 1, '142-2011-12-10': 1, '28-2013-05-11': 1, '122-2020-08-08': 1, '117-2019-08-24': 1, '34-2007-10-06': 1, '1-2009-01-03': 1, '67-2011-09-10': 1, '21-2020-03-14': 1, '194-2013-02-16': 1, '51-2006-11-11': 1, '56-2008-12-06': 1, '8-2015-10-10': 1, '115-2011-09-03': 1, '35-2016-02-20': 1, '69-2016-04-02': 1, '41-2009-12-26': 1, '149-2011-06-25': 1, '51-2008-12-27': 1, '29-2015-05-30': 1, '2-2015-08-01': 1, '131-2011-08-20': 1, '7-2011-02-12': 1, '51-2016-02-27': 1, '2-2012-12-15': 1, '5-2015-08-29': 1, '142-2020-07-11': 1, '94-2010-03-13': 1, '110-2020-05-30': 1, '91-2020-08-15': 1, '7-2009-05-23': 1, '91-2017-12-30': 1, '96-2018-07-14': 1, '101-2016-09-24': 1, '87-2010-03-20': 1, '2-2015-06-13': 1, '24-2018-04-21': 1, '26-2013-06-22': 1, '75-2013-02-16': 1, '30-2007-03-31': 1, '13-2019-07-06': 1, '71-2015-03-21': 1, '25-2013-01-19': 1, '73-2019-03-16': 1, '87-2009-05-16': 1, '143-2015-03-14': 1, '14-2015-11-28': 1, '34-2020-01-11': 1, '28-2018-06-09': 1, '40-2008-12-06': 1, '5-2019-11-02': 1, '197-2012-09-08': 1, '30-2011-09-17': 1, '114-2019-07-06': 1, '50-2015-07-25': 1, '163-2019-11-30': 1, '34-2009-06-06': 1, '7-2015-03-28': 1, '19-2006-11-11': 1, '72-2012-01-21': 1, '2-2010-11-27': 1, '191-2015-09-12': 1, '72-2012-08-25': 1, '74-2008-06-21': 1, '46-2013-02-02': 1, '5-2018-01-27': 1, '13-2007-08-18': 1, '199-2015-01-17': 1, '29-2013-08-10': 1, '24-2018-03-10': 1, '34-2019-10-19': 1, '21-2016-02-06': 1, '30-2011-07-30': 1, '5-2013-02-16': 1, '42-2015-07-04': 1, '8-2019-11-16': 1, '9-2016-01-16': 1, '121-2019-09-21': 1, '30-2010-11-06': 1, '128-2011-02-12': 1, '177-2017-09-16': 1, '37-2018-06-16': 1, '1-2012-09-22': 1, '136-2016-11-05': 1, '161-2011-05-28': 1, '54-2011-01-08': 1, '37-2011-03-26': 1, '86-2006-09-23': 1, '14-2008-11-22': 1, '41-2011-10-29': 1, '13-2009-11-21': 1, '18-2009-05-16': 1, '4-2020-09-26': 1, '167-2019-11-23': 1, '42-2011-01-08': 1, '167-2020-03-21': 1, '125-2010-04-24': 1, '146-2017-02-11': 1, '19-2010-04-10': 1, '4-2010-12-11': 1, '145-2016-06-04': 1, '4-2014-12-13': 1, '105-2012-02-04': 1, '34-2013-05-25': 1, '1-2012-11-24': 1, '84-2017-08-19': 1, '15-2008-09-06': 1, '38-2016-02-27': 1, '26-2009-06-27': 1, '181-2012-08-04': 1, '108-2012-10-27': 1, '3-2014-11-29': 1, '87-2012-05-12': 1, '137-2010-05-29': 1, '138-2020-07-04': 1, '38-2009-02-28': 1, '63-2007-01-20': 1, '5-2015-03-28': 1, '13-2014-11-22': 1, '47-2009-09-19': 1, '32-2013-11-23': 1, '52-2008-05-31': 1, '133-2015-08-29': 1, '13-2015-10-03': 1, '1-2020-08-08': 1, '12-2020-10-17': 1, '147-2020-03-14': 1, '174-2018-12-08': 1, '18-2015-12-26': 1, '108-2012-06-09': 1, '175-2013-02-02': 1, '35-2008-03-08': 1, '102-2019-08-31': 1, '73-2013-01-19': 1, '31-2018-09-22': 1, '11-2015-04-04': 1, '16-2008-04-19': 1, '11-2012-12-08': 1, '138-2011-04-02': 1, '66-2018-01-06': 1, '58-2012-11-10': 1, '134-2013-02-02': 1, '114-2020-03-07': 1, '83-2013-11-02': 1, '55-2016-01-30': 1, '139-2016-11-19': 1, '1-2015-01-17': 1, '18-2008-11-29': 1, '3-2017-10-14': 1, '12-2018-07-28': 1, '72-2020-02-15': 1, '177-2011-05-14': 1, '18-2019-08-17': 1, '70-2010-02-27': 1, '49-2016-02-20': 1, '84-2013-01-12': 1, '13-2011-11-26': 1, '77-2006-10-07': 1, '37-2011-12-17': 1, '10-2008-08-30': 1, '47-2012-01-28': 1, '13-2008-03-01': 1, '26-2010-02-13': 1, '9-2009-09-19': 1, '88-2011-01-08': 1, '138-2013-01-19': 1, '10-2009-04-18': 1, '22-2016-03-19': 1, '49-2007-09-01': 1, '138-2013-02-02': 1, '14-2010-09-04': 1, '29-2011-08-06': 1, '105-2010-12-11': 1, '7-2009-10-17': 1, '48-2010-09-18': 1, '5-2008-01-19': 1, '7-2015-09-12': 1, '45-2012-03-10': 1, '23-2018-03-24': 1, '1-2017-12-16': 1, '14-2008-11-01': 1, '34-2017-11-18': 1, '36-2020-06-20': 1, '48-2015-07-25': 1, '192-2014-04-26': 1, '109-2019-06-08': 1, '51-2008-04-05': 1, '185-2013-09-07': 1, '11-2020-01-04': 1, '37-2011-05-28': 1, '24-2007-06-30': 1, '198-2015-10-17': 1, '121-2014-03-15': 1, '43-2007-01-20': 1, '25-2008-09-20': 1, '36-2010-01-30': 1, '26-2013-06-01': 1, '53-2020-10-10': 1, '26-2011-08-13': 1, '138-2020-05-16': 1, '164-2020-04-04': 1, '1-2014-12-13': 1, '120-2020-03-21': 1, '1-2020-08-29': 1, '69-2012-11-17': 1, '32-2020-05-09': 1, '81-2010-05-15': 1, '41-2015-07-11': 1, '2-2015-07-04': 1, '38-2019-11-02': 1, '99-2018-06-09': 1, '160-2011-08-27': 1, '21-2019-09-28': 1, '12-2008-08-02': 1, '28-2008-12-27': 1, '1-2015-01-24': 1, '195-2015-03-07': 1, '66-2012-03-24': 1, '85-2020-10-24': 1, '9-2008-02-16': 1, '166-2011-04-23': 1, '2-2009-08-22': 1, '23-2008-01-05': 1, '17-2008-01-26': 1, '105-2018-02-24': 1, '35-2015-05-23': 1, '27-2011-07-16': 1, '16-2008-06-28': 1, '51-2013-11-30': 1, '36-2009-08-15': 1, '140-2013-02-09': 1, '6-2009-09-19': 1, '34-2018-06-02': 1, '47-2009-12-05': 1, '66-2019-03-09': 1, '13-2015-04-11': 1, '86-2017-10-21': 1, '65-2013-03-02': 1, '41-2012-03-31': 1, '118-2018-10-27': 1, '70-2017-12-30': 1, '153-2011-07-02': 1, '23-2007-12-08': 1, '23-2016-01-02': 1, '46-2016-01-23': 1, '109-2012-01-21': 1, '49-2009-05-16': 1, '95-2012-10-27': 1, '37-2012-04-21': 1, '150-2012-12-22': 1, '67-2016-08-20': 1, '6-2009-10-10': 1, '26-2007-11-10': 1, '129-2020-06-20': 1, '51-2012-02-11': 1, '26-2008-04-12': 1, '57-2011-10-01': 1, '44-2009-12-19': 1, '53-2012-01-28': 1, '190-2015-01-31': 1, '76-2010-04-17': 1, '101-2011-02-12': 1, '87-2019-05-18': 1, '152-2011-03-19': 1, '17-2010-11-13': 1, '104-2018-03-03': 1, '123-2018-07-07': 1, '37-2017-12-30': 1, '37-2020-07-25': 1, '62-2016-04-09': 1, '173-2019-11-16': 1, '27-2012-12-29': 1, '79-2006-12-02': 1, '78-2020-02-15': 1, '6-2018-01-20': 1, '68-2017-11-25': 1, '78-2010-11-20': 1, '89-2012-01-07': 1, '14-2010-10-23': 1, '24-2008-09-27': 1, '34-2015-05-30': 1, '1-2009-01-31': 1, '44-2011-10-08': 1, '162-2011-07-09': 1, '83-2011-07-30': 1, '71-2013-02-23': 1, '4-2019-09-07': 1, '37-2019-11-02': 1, '32-2013-04-27': 1, '2-2010-12-25': 1, '196-2015-03-14': 1, '8-2010-08-28': 1, '33-2007-08-11': 1, '2-2014-10-18': 1, '56-2010-09-11': 1, '78-2016-08-27': 1, '95-2018-08-11': 1, '77-2018-12-01': 1, '1-2013-01-05': 1, '192-2015-11-28': 1, '54-2012-10-27': 1, '130-2018-11-10': 1, '27-2017-11-25': 1, '72-2015-01-24': 1, '126-2015-09-26': 1, '112-2018-09-29': 1, '1-2009-01-17': 1, '76-2013-09-28': 1, '18-2011-02-12': 1, '67-2010-12-04': 1, '33-2008-04-12': 1, '169-2011-04-02': 1, '159-2019-10-26': 1, '131-2015-08-08': 1, '45-2009-10-03': 1, '106-2017-01-07': 1, '39-2010-06-26': 1, '135-2019-11-30': 1, '30-2017-11-25': 1, '50-2007-05-19': 1, '26-2009-01-10': 1, '18-2013-04-06': 1, '160-2011-11-12': 1, '26-2010-04-24': 1, '116-2019-02-02': 1, '15-2009-12-05': 1, '42-2012-02-18': 1, '89-2014-03-01': 1, '71-2015-01-17': 1, '67-2008-06-14': 1, '1-2009-03-14': 1, '59-2012-11-17': 1, '124-2019-06-22': 1, '56-2016-07-30': 1, '9-2009-03-14': 1, '54-2011-10-22': 1, '158-2010-06-26': 1, '48-2010-09-25': 1, '47-2010-07-17': 1, '22-2020-02-01': 1, '16-2007-08-25': 1, '6-2015-03-21': 1, '29-2008-12-13': 1, '41-2012-01-21': 1, '4-2009-09-05': 1, '148-2019-03-23': 1, '62-2018-11-10': 1, '16-2008-09-27': 1, '49-2020-10-03': 1, '127-2015-02-21': 1, '159-2013-03-02': 1, '5-2019-11-23': 1, '85-2011-12-24': 1, '71-2008-06-07': 1, '95-2019-05-25': 1, '63-2014-01-25': 1, '38-2008-05-03': 1, '27-2011-08-27': 1, '117-2010-10-09': 1, '83-2008-03-08': 1, '9-2009-08-22': 1, '78-2014-02-22': 1, '11-2015-01-03': 1, '73-2013-02-02': 1, '42-2007-02-10': 1, '38-2015-06-20': 1, '34-2018-10-27': 1, '5-2012-11-17': 1, '134-2019-06-01': 1, '4-2008-12-06': 1, '18-2009-12-19': 1, '191-2013-04-13': 1, '30-2013-07-27': 1, '25-2011-07-09': 1, '47-2006-11-25': 1, '26-2018-10-20': 1, '72-2011-06-18': 1, '9-2008-03-22': 1, '3-2009-11-14': 1, '46-2009-11-14': 1, '88-2018-08-25': 1, '35-2019-01-12': 1, '33-2009-02-14': 1, '8-2009-12-12': 1, '56-2007-10-27': 1, '53-2009-10-10': 1, '5-2015-03-14': 1, '130-2019-05-04': 1, '46-2016-04-30': 1, '36-2013-05-25': 1, '52-2018-05-05': 1, '18-2007-07-21': 1, '5-2015-11-07': 1, '187-2014-11-08': 1, '28-2010-01-16': 1, '157-2019-10-12': 1, '28-2020-03-28': 1, '24-2013-05-04': 1, '47-2009-06-06': 1, '13-2018-08-11': 1, '179-2016-01-16': 1, '89-2018-08-18': 1, '50-2020-01-25': 1, '24-2009-05-30': 1, '39-2013-08-24': 1, '1-2009-01-24': 1, '145-2011-09-24': 1, '195-2015-08-08': 1, '7-2019-11-09': 1, '78-2013-02-09': 1, '39-2010-01-02': 1, '74-2018-01-13': 1, '6-2008-02-09': 1, '158-2015-06-06': 1, '41-2011-11-12': 1, '6-2009-07-25': 1, '34-2010-06-05': 1, '171-2017-07-08': 1, '163-2019-10-05': 1, '5-2015-01-31': 1, '38-2007-08-25': 1, '142-2011-06-25': 1, '125-2015-08-15': 1, '12-2008-03-29': 1, '124-2020-02-29': 1, '19-2017-11-18': 1, '4-2015-02-07': 1, '83-2012-09-22': 1, '47-2015-08-08': 1, '45-2013-07-13': 1, '4-2017-10-28': 1, '10-2009-09-26': 1, '32-2020-04-11': 1, '17-2009-10-24': 1, '28-2016-01-30': 1, '51-2007-05-26': 1, '73-2013-11-02': 1, '27-2010-02-06': 1, '91-2012-11-17': 1, '190-2015-06-20': 1, '23-2013-06-08': 1, '57-2017-09-30': 1, '23-2010-11-27': 1, '78-2010-04-24': 1, '55-2007-01-13': 1, '94-2012-12-15': 1, '13-2017-11-11': 1, '12-2015-09-26': 1, '15-2015-02-28': 1, '10-2019-09-07': 1, '26-2016-06-04': 1, '166-2011-09-03': 1, '16-2007-06-09': 1, '51-2013-12-14': 1, '10-2013-04-06': 1, '9-2009-07-18': 1, '24-2011-03-26': 1, '50-2009-05-23': 1, '23-2018-03-03': 1, '1-2015-02-21': 1, '16-2010-01-23': 1, '110-2010-09-18': 1, '18-2018-06-09': 1, '3-2010-08-21': 1, '14-2008-07-26': 1, '191-2011-05-21': 1, '63-2012-04-07': 1, '14-2008-04-12': 1, '14-2008-12-06': 1, '36-2014-02-08': 1, '157-2011-10-29': 1, '116-2015-02-07': 1, '73-2013-10-26': 1, '84-2013-11-09': 1, '137-2011-12-03': 1, '48-2009-06-06': 1, '36-2009-11-28': 1, '89-2015-01-24': 1, '183-2015-01-24': 1, '119-2012-01-14': 1, '100-2010-03-20': 1, '24-2011-09-03': 1, '14-2020-02-29': 1, '4-2015-02-14': 1, '44-2006-12-16': 1, '103-2020-09-05': 1, '115-2016-12-31': 1, '11-2008-05-24': 1, '83-2015-03-14': 1, '23-2007-09-29': 1, '35-2010-05-22': 1, '50-2016-02-06': 1, '180-2015-08-22': 1, '14-2008-07-12': 1, '41-2016-06-11': 1, '143-2018-11-24': 1, '13-2019-07-13': 1, '38-2013-07-20': 1, '145-2014-03-29': 1, '186-2017-12-02': 1, '97-2020-08-29': 1, '103-2020-02-29': 1, '67-2006-12-30': 1, '6-2012-10-20': 1, '179-2017-11-25': 1, '39-2020-08-22': 1, '173-2015-05-16': 1, '2-2015-01-17': 1, '151-2011-03-05': 1, '22-2010-01-02': 1, '102-2010-04-03': 1, '200-2018-08-04': 1, '25-2010-01-09': 1, '20-2008-01-26': 1, '53-2017-10-28': 1, '14-2009-11-14': 1, '49-2012-02-18': 1, '1-2009-01-10': 1, '113-2018-09-15': 1, '23-2019-09-14': 1, '8-2007-11-24': 1, '1-2018-01-06': 1, '26-2008-11-22': 1, '14-2013-03-23': 1, '111-2018-04-28': 1, '111-2018-03-17': 1, '7-2009-01-03': 1, '64-2016-08-06': 1, '19-2007-07-14': 1, '112-2020-01-25': 1, '48-2008-05-10': 1, '131-2020-04-11': 1, '49-2013-11-23': 1, '24-2007-11-24': 1, '86-2018-12-08': 1, '37-2015-02-07': 1, '7-2015-04-11': 1, '29-2015-02-14': 1, '82-2019-05-11': 1, '80-2018-01-20': 1, '55-2010-02-06': 1, '30-2009-03-14': 1, '79-2019-01-19': 1, '148-2019-06-08': 1, '100-2012-06-02': 1, '6-2008-02-02': 1, '2-2012-09-15': 1, '34-2017-10-07': 1, '15-2019-08-03': 1, '48-2019-11-09': 1, '90-2011-04-09': 1, '78-2012-12-08': 1, '49-2011-11-05': 1, '7-2012-11-24': 1, '4-2015-03-07': 1, '152-2011-06-18': 1, '124-2013-03-02': 1, '22-2016-02-13': 1, '36-2020-01-18': 1, '79-2008-11-15': 1, '39-2013-01-26': 1, '122-2020-06-06': 1, '200-2017-05-13': 1, '26-2011-01-01': 1, '64-2010-12-18': 1, '29-2013-01-05': 1, '80-2017-09-02': 1, '151-2015-05-23': 1, '183-2011-09-10': 1, '44-2012-03-17': 1, '22-2016-03-26': 1, '50-2015-07-18': 1, '25-2018-06-23': 1, '185-2015-10-03': 1, '44-2011-07-23': 1, '12-2018-08-04': 1, '62-2009-11-07': 1, '50-2011-05-07': 1, '31-2007-11-03': 1, '11-2009-11-07': 1, '17-2010-01-16': 1, '21-2017-09-30': 1, '8-2015-10-17': 1, '136-2012-02-11': 1, '41-2013-07-06': 1, '33-2007-10-27': 1, '82-2008-07-05': 1, '179-2014-11-29': 1, '32-2009-04-04': 1, '161-2015-12-05': 1, '183-2015-09-19': 1, '30-2010-05-29': 1, '183-2019-09-07': 1, '32-2015-05-02': 1, '149-2012-03-10': 1, '10-2012-12-29': 1, '48-2011-04-23': 1, '120-2019-09-28': 1, '80-2018-01-27': 1, '12-2010-10-02': 1, '84-2015-01-10': 1, '145-2012-03-31': 1, '40-2010-02-06': 1, '41-2010-08-28': 1, '60-2007-04-21': 1, '45-2019-02-02': 1, '30-2013-06-08': 1, '97-2011-08-06': 1, '63-2012-09-15': 1, '34-2011-06-04': 1, '182-2017-09-23': 1, '11-2009-05-09': 1, '15-2018-07-21': 1, '25-2015-05-16': 1, '41-2009-06-13': 1, '1-2014-12-06': 1, '67-2009-10-17': 1, '72-2017-11-11': 1, '4-2015-08-15': 1, '76-2013-10-05': 1, '135-2011-09-17': 1, '132-2019-05-25': 1, '33-2011-04-16': 1, '4-2015-09-19': 1, '3-2015-08-22': 1, '173-2020-02-01': 1, '119-2010-05-01': 1, '70-2006-12-23': 1, '48-2009-01-03': 1, '43-2013-08-31': 1, '73-2013-01-26': 1, '13-2010-02-13': 1, '139-2011-03-26': 1, '170-2020-03-28': 1, '15-2019-07-27': 1, '95-2015-06-13': 1, '2-2015-06-20': 1, '17-2015-05-23': 1, '112-2020-03-14': 1, '34-2010-12-25': 1, '46-2006-12-23': 1, '25-2011-01-15': 1, '33-2013-06-22': 1, '135-2015-09-05': 1, '180-2015-05-02': 1, '1-2020-09-12': 1, '10-2015-04-25': 1, '132-2020-01-11': 1, '115-2012-06-23': 1, '91-2008-03-01': 1, '15-2015-03-07': 1, '72-2011-07-16': 1, '37-2011-06-25': 1, '20-2016-02-27': 1, '98-2019-06-01': 1, '175-2017-03-25': 1, '4-2012-10-13': 1, '9-2009-08-08': 1, '48-2012-03-17': 1, '140-2012-03-31': 1, '34-2008-11-15': 1, '46-2007-03-03': 1, '30-2010-03-20': 1, '32-2009-04-11': 1, '106-2018-09-08': 1, '45-2018-10-27': 1, '133-2019-11-09': 1, '29-2009-04-04': 1, '69-2015-01-17': 1, '75-2010-04-17': 1, '76-2013-01-05': 1, '20-2015-05-30': 1, '37-2015-06-20': 1, '13-2018-02-10': 1, '58-2010-11-13': 1, '35-2009-03-21': 1, '135-2015-08-22': 1, '22-2009-12-26': 1, '119-2017-07-01': 1, '10-2020-02-22': 1, '15-2012-12-15': 1, '28-2008-05-17': 1, '131-2019-11-23': 1, '43-2012-01-21': 1, '37-2010-01-23': 1, '113-2011-12-31': 1, '142-2019-12-14': 1, '10-2009-07-04': 1, '25-2009-01-03': 1, '137-2012-07-28': 1, '15-2008-06-21': 1, '39-2008-03-15': 1, '21-2007-07-28': 1, '33-2010-12-04': 1, '113-2020-08-01': 1, '43-2007-02-03': 1, '35-2015-06-13': 1, '7-2013-03-30': 1, '38-2010-04-17': 1, '112-2012-12-01': 1, '22-2007-12-22': 1, '61-2006-11-04': 1, '47-2012-12-08': 1, '83-2011-12-17': 1, '80-2013-01-12': 1, '125-2020-10-31': 1, '135-2015-09-19': 1, '39-2008-03-22': 1, '127-2020-07-25': 1, '44-2016-02-13': 1, '152-2019-06-22': 1, '39-2011-06-11': 1, '100-2020-02-22': 1, '48-2020-09-05': 1, '200-2015-09-26': 1, '24-2020-08-22': 1, '29-2018-09-29': 1, '163-2011-12-17': 1, '16-2019-07-20': 1, '85-2013-08-31': 1, '26-2008-04-19': 1, '10-2011-11-26': 1, '115-2019-07-13': 1, '65-2010-11-06': 1, '39-2015-06-27': 1, '62-2016-07-23': 1, '40-2019-12-21': 1, '26-2020-05-02': 1, '132-2015-06-13': 1, '182-2010-07-31': 1, '164-2019-01-05': 1, '7-2012-10-13': 1, '10-2014-12-27': 1, '38-2009-07-25': 1, '1-2017-12-09': 1, '190-2011-09-24': 1, '9-2015-05-23': 1, '132-2020-06-27': 1, '92-2013-11-16': 1, '52-2020-09-26': 1, '103-2012-07-14': 1, '65-2009-02-28': 1, '113-2019-07-20': 1, '156-2015-07-18': 1, '75-2012-04-28': 1, '197-2014-11-08': 1, '1-2009-02-28': 1, '11-2015-11-21': 1, '39-2009-04-18': 1, '16-2008-03-08': 1, '107-2018-05-19': 1, '128-2012-01-07': 1, '176-2012-06-16': 1, '37-2018-10-13': 1, '31-2008-11-01': 1, '80-2013-10-19': 1, '18-2018-05-26': 1, '85-2010-05-22': 1, '112-2018-04-07': 1, '6-2019-10-26': 1, '72-2010-12-04': 1, '34-2010-06-12': 1, '16-2008-11-15': 1, '90-2018-07-28': 1, '111-2017-01-28': 1, '47-2010-12-11': 1, '39-2008-09-06': 1, '177-2017-02-25': 1, '43-2013-06-15': 1, '61-2018-01-06': 1, '170-2012-10-27': 1, '9-2009-09-12': 1, '5-2015-02-28': 1, '36-2009-03-28': 1, '150-2019-06-15': 1, '55-2010-11-27': 1, '97-2012-04-07': 1, '195-2017-04-08': 1, '22-2008-03-15': 1, '65-2011-12-17': 1, '100-2013-08-24': 1, '2-2014-10-11': 1, '23-2015-06-06': 1, '23-2012-11-03': 1, '196-2015-10-10': 1, '26-2009-12-05': 1, '55-2010-01-30': 1, '24-2015-04-04': 1, '59-2011-10-08': 1, '9-2007-12-22': 1, '89-2008-07-12': 1, '56-2013-11-30': 1, '69-2006-12-09': 1, '26-2008-01-05': 1, '16-2010-11-20': 1, '9-2009-08-15': 1, '39-2009-04-11': 1, '3-2012-10-27': 1, '36-2014-01-04': 1, '17-2018-08-18': 1, '10-2016-01-23': 1, '5-2013-02-02': 1, '37-2009-01-24': 1, '29-2018-03-17': 1, '112-2012-10-13': 1, '22-2011-02-05': 1, '16-2018-04-14': 1, '165-2019-01-19': 1, '155-2012-12-08': 1, '12-2009-03-21': 1, '24-2017-12-09': 1, '127-2011-08-13': 1, '34-2015-05-16': 1, '161-2015-01-17': 1, '5-2015-04-11': 1, '190-2013-09-14': 1, '84-2011-08-27': 1, '4-2009-02-21': 1, '12-2008-06-07': 1, '171-2018-12-29': 1, '46-2007-11-03': 1, '123-2010-10-16': 1, '2-2015-02-07': 1, '5-2009-01-24': 1, '70-2012-04-14': 1, '122-2011-02-05': 1, '107-2018-05-12': 1, '69-2011-07-23': 1, '34-2007-04-21': 1, '27-2019-01-19': 1, '5-2013-02-23': 1, '115-2010-09-11': 1, '2-2009-02-14': 1, '26-2013-04-20': 1, '27-2018-06-30': 1, '4-2009-08-29': 1, '114-2011-01-22': 1, '62-2019-03-02': 1, '6-2009-04-25': 1, '159-2011-03-26': 1, '19-2018-09-01': 1, '54-2011-05-14': 1, '16-2012-09-22': 1, '34-2009-02-28': 1, '7-2015-11-14': 1, '50-2007-09-08': 1, '110-2012-11-24': 1, '23-2019-10-05': 1, '15-2015-05-16': 1, '19-2016-04-09': 1, '3-2015-03-21': 1, '78-2019-03-23': 1, '177-2010-08-28': 1, '46-2016-03-05': 1, '132-2012-10-13': 1, '11-2010-11-06': 1, '52-2017-11-04': 1, '108-2010-09-25': 1, '158-2015-11-21': 1, '22-2007-05-05': 1, '144-2010-06-12': 1, '36-2018-05-26': 1, '44-2009-04-25': 1, '37-2013-06-01': 1, '74-2010-11-27': 1, '38-2018-11-03': 1, '82-2013-10-12': 1, '103-2018-06-02': 1, '146-2011-05-07': 1, '2-2014-10-25': 1, '34-2015-06-27': 1, '5-2009-02-14': 1, '58-2018-01-13': 1, '167-2012-12-29': 1, '88-2017-01-21': 1, '22-2018-06-16': 1, '65-2010-02-13': 1, '61-2016-07-02': 1, '84-2018-03-24': 1, '161-2011-08-06': 1, '42-2016-05-14': 1, '50-2020-10-03': 1, '11-2015-12-12': 1, '65-2016-07-09': 1, '9-2015-10-24': 1, '177-2014-11-15': 1, '39-2008-04-05': 1, '91-2017-12-16': 1, '121-2015-01-03': 1, '20-2018-07-07': 1, '12-2008-08-09': 1, '19-2018-03-31': 1, '169-2010-07-24': 1, '44-2013-07-06': 1, '78-2007-04-07': 1, '67-2011-07-09': 1, '171-2014-04-12': 1, '45-2020-09-12': 1, '23-2015-05-02': 1, '2-2012-12-08': 1, '43-2013-08-17': 1, '1-2012-11-10': 1, '139-2020-04-18': 1, '2-2014-09-20': 1, '40-2009-06-13': 1, '36-2007-03-10': 1, '20-2010-03-27': 1, '56-2010-05-01': 1, '52-2012-10-20': 1, '46-2019-11-16': 1, '32-2011-03-19': 1, '17-2011-05-07': 1, '15-2008-02-16': 1, '82-2013-09-14': 1, '15-2007-08-04': 1, '8-2008-04-05': 1, '5-2009-09-12': 1, '133-2020-06-13': 1, '93-2011-02-05': 1, '53-2020-10-31': 1, '1-2011-01-01': 1, '18-2009-05-09': 1, '39-2010-03-27': 1, '33-2016-05-07': 1, '9-2013-02-09': 1, '7-2015-01-17': 1, '120-2011-01-29': 1, '30-2011-04-30': 1, '29-2008-05-10': 1, '149-2013-01-05': 1, '73-2012-12-01': 1, '172-2015-08-15': 1, '123-2019-08-24': 1, '142-2010-05-08': 1, '155-2019-09-28': 1, '71-2017-12-09': 1, '16-2008-08-23': 1, '53-2010-09-04': 1, '78-2019-01-12': 1, '3-2019-09-28': 1, '34-2016-02-13': 1, '83-2010-03-06': 1, '1-2010-11-20': 1, '38-2009-07-18': 1, '24-2008-09-13': 1, '4-2013-02-02': 1, '2-2015-08-08': 1, '5-2015-12-19': 1, '36-2009-06-27': 1, '84-2014-11-15': 1, '8-2020-08-15': 1, '177-2012-06-09': 1, '39-2007-08-04': 1, '25-2018-09-22': 1, '52-2016-05-28': 1, '15-2015-09-19': 1, '158-2011-10-08': 1, '63-2013-01-12': 1, '144-2011-02-26': 1, '9-2010-03-13': 1, '4-2009-10-03': 1, '33-2011-06-18': 1, '129-2019-11-02': 1, '16-2010-04-17': 1, '39-2015-06-13': 1, '168-2012-12-01': 1, '14-2018-02-17': 1, '4-2019-10-05': 1, '27-2019-10-12': 1, '95-2018-02-03': 1, '120-2016-10-01': 1, '46-2011-10-22': 1, '7-2015-05-02': 1, '127-2015-02-14': 1, '1-2011-01-15': 1, '10-2008-05-03': 1, '64-2008-03-22': 1, '136-2012-08-18': 1, '41-2009-03-14': 1, '46-2017-11-11': 1, '14-2018-08-25': 1, '16-2018-08-25': 1, '20-2008-03-22': 1, '171-2020-01-25': 1, '12-2013-02-23': 1, '136-2012-04-14': 1, '120-2020-02-01': 1, '163-2018-12-01': 1, '4-2009-01-17': 1, '54-2018-04-21': 1, '130-2016-10-29': 1, '151-2015-03-28': 1, '98-2011-05-28': 1, '107-2015-06-06': 1, '19-2008-01-12': 1, '13-2008-08-16': 1, '91-2019-04-20': 1, '18-2009-06-27': 1, '30-2008-03-01': 1, '6-2009-09-26': 1, '103-2012-12-22': 1, '52-2020-09-19': 1, '13-2007-09-22': 1, '93-2011-01-01': 1, '157-2015-05-30': 1, '126-2015-07-11': 1, '167-2016-01-16': 1, '46-2007-01-27': 1, '51-2015-03-07': 1, '12-2010-10-16': 1, '36-2012-09-29': 1, '102-2013-01-12': 1, '2-2014-11-08': 1, '77-2020-10-17': 1, '8-2009-07-25': 1, '18-2010-04-03': 1, '35-2010-03-06': 1}}\n"
     ]
    }
   ],
   "source": [
    "for key in fixed_artists:\n",
    "    if fixed_artists[key][\"name\"] == \"Taylor Swift\":\n",
    "        print(fixed_artists[key])"
   ]
  },
  {
   "cell_type": "code",
   "execution_count": 17,
   "metadata": {},
   "outputs": [],
   "source": [
    "rows = []\n",
    "names = []\n",
    "for key in fixed_artists:\n",
    "    subject = fixed_artists[key][\"name\"]\n",
    "    names.append(subject)\n",
    "    \n",
    "    relation = \"start_year\"\n",
    "    if relation in fixed_artists[key]:\n",
    "        obj = \"year_{}\".format(str(fixed_artists[key][\"start_year\"]))\n",
    "        rows.append([str(subject), str(relation), str(obj)])\n",
    "    \n",
    "    relation = \"band\"\n",
    "    obj = \"is_band_{}\".format(str(fixed_artists[key][\"band\"]))\n",
    "    rows.append([str(subject), str(relation), str(obj)])\n",
    "    \n",
    "    relation = \"gender\"\n",
    "    if relation in fixed_artists[key]:\n",
    "        obj = fixed_artists[key][\"gender\"]\n",
    "        rows.append([str(subject), str(relation), str(obj)])\n",
    "    \n",
    "    if \"cities\" in fixed_artists:\n",
    "        cities = fixed_artists[key][\"cities\"]\n",
    "        relation = \"played_in\"\n",
    "        for obj in cities:\n",
    "            rows.append([str(subject), str(relation), str(obj)])\n",
    "\n",
    "    if \"genres\" in fixed_artists[key]:\n",
    "        genres = fixed_artists[key][\"genres\"]\n",
    "        relation = \"genres\"\n",
    "        for obj in genres:\n",
    "            rows.append([str(subject), str(relation), str(obj)])\n",
    "    \n",
    "    if \"record_labels\" in fixed_artists[key]:\n",
    "        record_labels = fixed_artists[key][\"record_labels\"]\n",
    "        relation = \"record_labels\"\n",
    "        for obj in record_labels:\n",
    "            rows.append([str(subject), str(relation), str(obj)])\n",
    "    \n",
    "    if \"billboard\" in fixed_artists[key]:\n",
    "        billboard_entries = fixed_artists[key][\"billboard\"]\n",
    "        for b_key in billboard_entries:\n",
    "            parts = b_key.split(\"-\")\n",
    "            relation = \"rank-{}\".format(str(parts[0]))\n",
    "            obj = \"billboard-week-{}\".format(str(parts[1]))\n",
    "            rows.append([subject, relation, obj])\n",
    "    \n",
    "    if \"awards\" in fixed_artists[key]:\n",
    "        award_entries = fixed_artists[key][\"awards\"]\n",
    "        for a_key in award_entries:\n",
    "            relation = a_key\n",
    "            if award_entries[a_key]:\n",
    "                obj = \"winner\"\n",
    "                rows.append([str(subject), str(relation), str(obj)])\n",
    "            \n",
    "            obj = \"nominee\"\n",
    "            rows.append([str(subject), str(relation), str(obj)])\n",
    "                "
   ]
  },
  {
   "cell_type": "code",
   "execution_count": 18,
   "metadata": {},
   "outputs": [],
   "source": [
    "with open('data/graph_relations.csv', 'w') as f:\n",
    "    writer = csv.writer(f)\n",
    "    for row in rows:\n",
    "        writer.writerow(row)"
   ]
  },
  {
   "cell_type": "code",
   "execution_count": 19,
   "metadata": {},
   "outputs": [],
   "source": [
    "import pickle\n",
    "with open('data/artist_names.p', 'wb') as f:\n",
    "    pickle.dump(names, f)"
   ]
  },
  {
   "cell_type": "code",
   "execution_count": 20,
   "metadata": {},
   "outputs": [
    {
     "data": {
      "text/plain": [
       "236290"
      ]
     },
     "execution_count": 20,
     "metadata": {},
     "output_type": "execute_result"
    }
   ],
   "source": [
    "len(rows)"
   ]
  },
  {
   "cell_type": "code",
   "execution_count": null,
   "metadata": {},
   "outputs": [],
   "source": []
  }
 ],
 "metadata": {
  "kernelspec": {
   "display_name": "Python 3",
   "language": "python",
   "name": "python3"
  },
  "language_info": {
   "codemirror_mode": {
    "name": "ipython",
    "version": 3
   },
   "file_extension": ".py",
   "mimetype": "text/x-python",
   "name": "python",
   "nbconvert_exporter": "python",
   "pygments_lexer": "ipython3",
   "version": "3.6.5"
  }
 },
 "nbformat": 4,
 "nbformat_minor": 4
}
